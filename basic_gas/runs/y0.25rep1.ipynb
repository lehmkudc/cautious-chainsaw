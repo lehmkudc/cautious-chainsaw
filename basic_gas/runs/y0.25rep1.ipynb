{
 "cells": [
  {
   "cell_type": "code",
   "execution_count": 7,
   "metadata": {
    "execution": {
     "iopub.execute_input": "2021-04-09T04:03:21.835987Z",
     "iopub.status.busy": "2021-04-09T04:03:21.835792Z",
     "iopub.status.idle": "2021-04-09T04:03:21.843094Z",
     "shell.execute_reply": "2021-04-09T04:03:21.842624Z",
     "shell.execute_reply.started": "2021-04-09T04:03:21.835967Z"
    }
   },
   "outputs": [],
   "source": [
    "from random import random, seed, randrange\n",
    "from math import floor, pi\n",
    "import matplotlib.pyplot as plt\n",
    "import numpy as np\n",
    "import os\n",
    "from time import time\n",
    "import pandas as pd\n",
    "from scipy.integrate import simps, trapz, cumtrapz\n",
    "from scipy.ndimage.filters import gaussian_filter1d\n",
    "from time import time\n",
    "%matplotlib inline\n",
    "plt.rcParams['figure.figsize'] = [10, 9]"
   ]
  },
  {
   "cell_type": "code",
   "execution_count": 8,
   "metadata": {
    "execution": {
     "iopub.execute_input": "2021-04-09T04:03:22.048176Z",
     "iopub.status.busy": "2021-04-09T04:03:22.047950Z",
     "iopub.status.idle": "2021-04-09T04:03:22.056648Z",
     "shell.execute_reply": "2021-04-09T04:03:22.056213Z",
     "shell.execute_reply.started": "2021-04-09T04:03:22.048157Z"
    }
   },
   "outputs": [],
   "source": [
    "%run -i \"../../carbon_walls/gcmc.py\""
   ]
  },
  {
   "cell_type": "code",
   "execution_count": null,
   "metadata": {
    "execution": {
     "iopub.execute_input": "2021-04-09T04:03:22.718792Z",
     "iopub.status.busy": "2021-04-09T04:03:22.718625Z"
    }
   },
   "outputs": [
    {
     "name": "stdout",
     "output_type": "stream",
     "text": [
      "0 0.2476348149970379 9.972656359768903 6.0508820886948244e-05 0.00018383816597623582 31.428192853927612\n",
      "1 0.24629780096495793 19.896077842457775 0.00012215479622517092 0.00037380901565860035 61.178393602371216\n",
      "2 0.24505457863044225 29.435422287101794 0.0001831982286389856 0.0005643831047229186 92.82558465003967\n"
     ]
    }
   ],
   "source": [
    "filename = \"../data/\" + \"y0.25rep1\" + \".csv\"\n",
    "data_dump = pd.read_csv(filename).copy()\n",
    "\n",
    "for i in range(data_dump.shape[0]):\n",
    "    if np.isnan( data_dump.yco_sim[i]):\n",
    "        yco = data_dump.yco_res[i]\n",
    "        P_res = data_dump.P_res[i]*10**5 #[Pa]\n",
    "        T = data_dump.T_res[i] + 273.15 #K\n",
    "        fco, fme = PR_Fugacity( P_res/10**5, T, yco )\n",
    "        fco = fco*10**5\n",
    "        fme = fme*10**5\n",
    "        \n",
    "        sf = False\n",
    "        mega_verbose = False\n",
    "\n",
    "        s_box = 57.15\n",
    "        N_max = 50000\n",
    "        Vol = s_box**3\n",
    "        kb = 1.3806*10**(7) #[Pa*A^3/K]\n",
    "        Nco = 0 #floor(fco*Vol/kb/T)\n",
    "        Nme = 0 #floor(fme*Vol/kb/T)\n",
    "        Nc = 0\n",
    "        rc = s_box\n",
    "        beta = 1/T\n",
    "        zz_co = beta*fco\n",
    "        zz_me = beta*fme\n",
    "        delta = 1\n",
    "        pi_move = 0.5\n",
    "\n",
    "        N_moves = 100\n",
    "        N_equil = int( np.round( 200000/N_moves) )\n",
    "        N_prod = int( np.round( 100000/N_moves) )\n",
    "\n",
    "        t0 = time()\n",
    "        rhocov,rhomev,Env,Pv,Ncov, Nmev = mc_run()\n",
    "        t = time()\n",
    "        \n",
    "        Nco = Ncov.mean()\n",
    "        Nme = Nmev.mean()\n",
    "        data_dump.yco_sim[i] = Nco/(Nco + Nme)\n",
    "        data_dump.P_sim[i] = Pv.mean()*10 #[bar]\n",
    "        data_dump.E_sim[i] = Env.mean()\n",
    "        data_dump.rhoco[i] = rhocov.mean()\n",
    "        data_dump.rhome[i] = rhomev.mean()\n",
    "        data_dump.yco_s[i] = (rhocov/(rhocov + rhomev)).std()\n",
    "        data_dump.P_s[i] = Pv.std()*10 #[bar]\n",
    "        data_dump.rhoco_s[i] = rhocov.std()\n",
    "        data_dump.rhome_s[i] = rhomev.std()\n",
    "        data_dump.E_s[i] = Env.std()\n",
    "        data_dump.time[i] = t - t0\n",
    "        print( i, data_dump.yco_sim[i],  data_dump.P_sim[i], data_dump.rhoco[i], data_dump.rhome[i], data_dump.time[i] )\n",
    "        #filename = \"../data_output/yco\" + str(yco) + \"P\" + str(P) + \"/run\" + str(i) + \".csv\"\n",
    "        data_dump.to_csv( filename, index = False)"
   ]
  },
  {
   "cell_type": "code",
   "execution_count": null,
   "metadata": {},
   "outputs": [],
   "source": []
  }
 ],
 "metadata": {
  "kernelspec": {
   "display_name": "Python 3.7.3",
   "language": "python",
   "name": "python3"
  },
  "language_info": {
   "codemirror_mode": {
    "name": "ipython",
    "version": 3
   },
   "file_extension": ".py",
   "mimetype": "text/x-python",
   "name": "python",
   "nbconvert_exporter": "python",
   "pygments_lexer": "ipython3",
   "version": "3.7.3"
  }
 },
 "nbformat": 4,
 "nbformat_minor": 4
}
