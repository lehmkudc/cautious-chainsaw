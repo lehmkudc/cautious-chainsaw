{
 "cells": [
  {
   "cell_type": "code",
   "execution_count": 1,
   "metadata": {},
   "outputs": [],
   "source": [
    "from random import random, seed, randrange\n",
    "from math import floor, pi\n",
    "import matplotlib.pyplot as plt\n",
    "import numpy as np\n",
    "import os\n",
    "from time import time\n",
    "import pandas as pd\n",
    "from scipy.integrate import simps, trapz, cumtrapz\n",
    "from scipy.ndimage.filters import gaussian_filter1d\n",
    "from time import time\n",
    "%matplotlib inline\n",
    "plt.rcParams['figure.figsize'] = [10, 9]"
   ]
  },
  {
   "cell_type": "code",
   "execution_count": 2,
   "metadata": {},
   "outputs": [],
   "source": [
    "%run -i \"../../carbon_walls/gcmc.py\""
   ]
  },
  {
   "cell_type": "code",
   "execution_count": null,
   "metadata": {},
   "outputs": [
    {
     "name": "stdout",
     "output_type": "stream",
     "text": [
      "0 0.5160370203826871 9.862034429982966 0.00012357674823900897 0.0001158958929822853 187.50993704795837\n",
      "1 0.45725669395577906 20.14633795246192 0.00023019529097503052 0.00027323154567460964 508.79609179496765\n",
      "2 0.47670103823184723 27.591737450981825 0.00034604725355827473 0.0003798736608198728 789.5646781921387\n",
      "3 0.48230313710310374 37.07188927967 0.0004832847486893249 0.0005187505098663568 986.7363379001617\n",
      "4 0.5057468490497044 47.676325278677396 0.0006624163081448875 0.0006473621104247275 1424.4672915935516\n"
     ]
    }
   ],
   "source": [
    "filename = \"../data/\" + \"y0.5rep2\" + \".csv\"\n",
    "data_dump = pd.read_csv(filename).copy()\n",
    "\n",
    "for i in range(data_dump.shape[0]):\n",
    "    if np.isnan( data_dump.yco_sim[i]):\n",
    "        yco = data_dump.yco_res[i]\n",
    "        P_res = data_dump.P_res[i]*10**5 #[Pa]\n",
    "        T = data_dump.T_res[i] + 273.15 #K\n",
    "        fco, fme = PR_Fugacity( P_res/10**5, T, yco )\n",
    "        fco = fco*10**5\n",
    "        fme = fme*10**5\n",
    "        \n",
    "        sf = False\n",
    "        mega_verbose = False\n",
    "\n",
    "        s_box = 57.15\n",
    "        N_max = 50000\n",
    "        Vol = s_box**3\n",
    "        kb = 1.3806*10**(7) #[Pa*A^3/K]\n",
    "        Nco = 0 #floor(fco*Vol/kb/T)\n",
    "        Nme = 0 #floor(fme*Vol/kb/T)\n",
    "        Nc = 0\n",
    "        rc = s_box\n",
    "        beta = 1/T\n",
    "        zz_co = beta*fco\n",
    "        zz_me = beta*fme\n",
    "        delta = 1\n",
    "        pi_move = 0.5\n",
    "\n",
    "        N_moves = 100\n",
    "        if T == 30+273.15:\n",
    "            N_equil = int( np.round( 400000/N_moves) )\n",
    "        if T == 45+273.15:\n",
    "            N_equil = int( np.round( 350000/N_moves) )\n",
    "        if T == 60+273.15:\n",
    "            N_equil = int( np.round( 300000/N_moves) )\n",
    "        N_prod = int( np.round( 10000/N_moves) )\n",
    "\n",
    "        t0 = time()\n",
    "        rhocov,rhomev,Env,Pv,Ncov, Nmev = mc_run()\n",
    "        t = time()\n",
    "        \n",
    "        Nco = Ncov.mean()\n",
    "        Nme = Nmev.mean()\n",
    "        data_dump.yco_sim[i] = Nco/(Nco + Nme)\n",
    "        data_dump.P_sim[i] = Pv.mean()*10 #[bar]\n",
    "        data_dump.E_sim[i] = Env.mean()\n",
    "        data_dump.rhoco[i] = rhocov.mean()\n",
    "        data_dump.rhome[i] = rhomev.mean()\n",
    "        data_dump.yco_s[i] = (rhocov/(rhocov + rhomev)).std()\n",
    "        data_dump.P_s[i] = Pv.std()*10 #[bar]\n",
    "        data_dump.rhoco_s[i] = rhocov.std()\n",
    "        data_dump.rhome_s[i] = rhomev.std()\n",
    "        data_dump.E_s[i] = Env.std()\n",
    "        data_dump.time[i] = t - t0\n",
    "        print( i, data_dump.yco_sim[i],  data_dump.P_sim[i], data_dump.rhoco[i], data_dump.rhome[i], data_dump.time[i] )\n",
    "        #filename = \"../data_output/yco\" + str(yco) + \"P\" + str(P) + \"/run\" + str(i) + \".csv\"\n",
    "        data_dump.to_csv( filename, index = False)"
   ]
  },
  {
   "cell_type": "code",
   "execution_count": null,
   "metadata": {},
   "outputs": [],
   "source": []
  }
 ],
 "metadata": {
  "kernelspec": {
   "display_name": "Python 3",
   "language": "python",
   "name": "python3"
  },
  "language_info": {
   "codemirror_mode": {
    "name": "ipython",
    "version": 3
   },
   "file_extension": ".py",
   "mimetype": "text/x-python",
   "name": "python",
   "nbconvert_exporter": "python",
   "pygments_lexer": "ipython3",
   "version": "3.8.3"
  }
 },
 "nbformat": 4,
 "nbformat_minor": 4
}
