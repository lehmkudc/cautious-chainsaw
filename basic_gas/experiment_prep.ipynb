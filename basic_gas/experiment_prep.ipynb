{
 "cells": [
  {
   "cell_type": "code",
   "execution_count": 1,
   "metadata": {
    "execution": {
     "iopub.execute_input": "2021-04-09T04:01:35.651610Z",
     "iopub.status.busy": "2021-04-09T04:01:35.651381Z",
     "iopub.status.idle": "2021-04-09T04:01:36.863850Z",
     "shell.execute_reply": "2021-04-09T04:01:36.863337Z",
     "shell.execute_reply.started": "2021-04-09T04:01:35.651587Z"
    }
   },
   "outputs": [],
   "source": [
    "import numpy as np\n",
    "import os\n",
    "import pandas as pd\n",
    "from shutil import copyfile"
   ]
  },
  {
   "cell_type": "code",
   "execution_count": 2,
   "metadata": {
    "execution": {
     "iopub.execute_input": "2021-04-09T04:01:36.864841Z",
     "iopub.status.busy": "2021-04-09T04:01:36.864635Z",
     "iopub.status.idle": "2021-04-09T04:01:36.877093Z",
     "shell.execute_reply": "2021-04-09T04:01:36.876653Z",
     "shell.execute_reply.started": "2021-04-09T04:01:36.864822Z"
    }
   },
   "outputs": [],
   "source": [
    "# Temperatures: 30C, 45C, 60C\n",
    "# Pressures: 10, 20, 30, ..., 200 bar\n",
    "# Fractions: 0, 0.25, 0.5, 0.75, 1\n",
    "# 3 Replicates Each\n",
    "\n",
    "T = [30, 45, 60]\n",
    "P = np.linspace(10, 200, 20 )\n",
    "Y = [0, 0.25, 0.5, 0.75, 1]\n",
    "reps = 3\n",
    "\n",
    "nrow = len(T)*len(P)\n",
    "ts = np.zeros(nrow); ps = np.zeros(nrow)\n",
    "\n",
    "i = 0\n",
    "for t in T:\n",
    "    for p in P:\n",
    "        ts[i] = t\n",
    "        ps[i] = p\n",
    "        i = i+1\n",
    "        \n",
    "input = pd.DataFrame()\n",
    "input['T_res'] = ts\n",
    "input['P_res'] = ps\n",
    "NaN = np.NaN\n",
    "input['yco_res'] = NaN\n",
    "input['yco_sim'] = NaN\n",
    "input['P_sim'] = NaN\n",
    "input['E_sim'] = NaN\n",
    "input['rhoco'] = NaN\n",
    "input['rhome'] = NaN\n",
    "input['yco_s'] = NaN\n",
    "input['P_s'] = NaN\n",
    "input['rhoco_s'] = NaN\n",
    "input['rhome_s'] = NaN\n",
    "input['E_s'] = NaN\n",
    "input['time'] = NaN\n"
   ]
  },
  {
   "cell_type": "code",
   "execution_count": 3,
   "metadata": {
    "execution": {
     "iopub.execute_input": "2021-04-09T04:01:37.122495Z",
     "iopub.status.busy": "2021-04-09T04:01:37.122312Z",
     "iopub.status.idle": "2021-04-09T04:01:37.179288Z",
     "shell.execute_reply": "2021-04-09T04:01:37.178884Z",
     "shell.execute_reply.started": "2021-04-09T04:01:37.122474Z"
    }
   },
   "outputs": [],
   "source": [
    "for i in range(reps):\n",
    "    for y in Y:\n",
    "        input['yco_res'] = y\n",
    "        input.to_csv('data/y'+ str(y) + 'rep' + str(i) + \".csv\",index = False)"
   ]
  },
  {
   "cell_type": "code",
   "execution_count": 5,
   "metadata": {
    "execution": {
     "iopub.execute_input": "2021-04-09T04:02:39.057900Z",
     "iopub.status.busy": "2021-04-09T04:02:39.057687Z",
     "iopub.status.idle": "2021-04-09T04:02:39.112107Z",
     "shell.execute_reply": "2021-04-09T04:02:39.111658Z",
     "shell.execute_reply.started": "2021-04-09T04:02:39.057878Z"
    }
   },
   "outputs": [],
   "source": [
    "for i in range(reps):\n",
    "    for y in Y:\n",
    "        copyfile( \"run_copy_me.ipynb\", \"runs/y\"+str(y)+\"rep\"+str(i)+\".ipynb\")"
   ]
  },
  {
   "cell_type": "code",
   "execution_count": null,
   "metadata": {},
   "outputs": [],
   "source": []
  }
 ],
 "metadata": {
  "kernelspec": {
   "display_name": "Python 3.7.3",
   "language": "python",
   "name": "python3"
  },
  "language_info": {
   "codemirror_mode": {
    "name": "ipython",
    "version": 3
   },
   "file_extension": ".py",
   "mimetype": "text/x-python",
   "name": "python",
   "nbconvert_exporter": "python",
   "pygments_lexer": "ipython3",
   "version": "3.7.3"
  }
 },
 "nbformat": 4,
 "nbformat_minor": 4
}
