{
 "cells": [
  {
   "cell_type": "code",
   "execution_count": 1,
   "metadata": {},
   "outputs": [],
   "source": [
    "from random import random, seed, randrange\n",
    "from math import floor, pi\n",
    "import matplotlib.pyplot as plt\n",
    "import numpy as np\n",
    "import os\n",
    "from time import time\n",
    "import pandas as pd\n",
    "from scipy.integrate import simps, trapz, cumtrapz\n",
    "from scipy.ndimage.filters import gaussian_filter1d\n",
    "%matplotlib inline\n",
    "plt.rcParams['figure.figsize'] = [10, 9]"
   ]
  },
  {
   "cell_type": "code",
   "execution_count": 4,
   "metadata": {},
   "outputs": [],
   "source": [
    "%run -i gcmc.py"
   ]
  },
  {
   "cell_type": "code",
   "execution_count": null,
   "metadata": {},
   "outputs": [
    {
     "name": "stdout",
     "output_type": "stream",
     "text": [
      "59.4 bar\n",
      "0 yco:  1.0 N:  1791.0 P:  175.36 En:  -50.01\n",
      "300 yco:  1.0 N:  5843.0 P:  58.9 En:  -557.48\n",
      "600 yco:  1.0 N:  8439.0 P:  50.73 En:  -762.01\n"
     ]
    }
   ],
   "source": [
    "yco = 1.0   #[]\n",
    "P = 100 #[bar]\n",
    "\n",
    "\n",
    "for i in range(1):\n",
    "    \n",
    "    P_res = P*10**5 #[Pa]\n",
    "    T = 45 + 273.15 #K\n",
    "    fco, fme = PR_Fugacity( P_res/10**5, T, yco )\n",
    "    fco = fco*10**5\n",
    "    fme = fme*10**5\n",
    "    \n",
    "    print( round( fco/10**5, 1 ), \"bar\")\n",
    "\n",
    "    s_box = 100\n",
    "    N_max = 50000\n",
    "    Vol = s_box**3\n",
    "    kb = 1.3806*10**(7) #[Pa*A^3/K]\n",
    "    Nco = floor(fco*Vol/kb/T)\n",
    "    Nme = floor(fme*Vol/kb/T)\n",
    "    Nc = 0\n",
    "    rc = s_box\n",
    "    beta = 1/T\n",
    "    zz_co = beta*fco\n",
    "    zz_me = beta*fme\n",
    "    delta = 1\n",
    "    pi_move = 0.5\n",
    "\n",
    "    N_moves = 1000\n",
    "    N_equil = 10\n",
    "    N_prod = 3000\n",
    "\n",
    "    rhocov,rhomev,Env,Pv,Ncov, Nmev = mc_run()\n",
    "    data_dump = pd.DataFrame()\n",
    "    data_dump['ycf'] = Ncov/(Ncov + Nmev)\n",
    "    data_dump['Pf'] = Pv*10 #[bar]\n",
    "    data_dump['rhoco'] = rhocov\n",
    "    data_dump['rhome'] = rhomev\n",
    "    #filename = \"../data_output/yco\" + str(yco) + \"P\" + str(P) + \"/run\" + str(i) + \".csv\"\n",
    "    #data_dump.to_csv( filename, index = False)"
   ]
  },
  {
   "cell_type": "code",
   "execution_count": null,
   "metadata": {},
   "outputs": [],
   "source": [
    "data_dump.to_csv( \"pure_co2_p100_s100\", index = False)"
   ]
  },
  {
   "cell_type": "code",
   "execution_count": null,
   "metadata": {},
   "outputs": [],
   "source": [
    "plt.plot( data_dump.Pf )"
   ]
  },
  {
   "cell_type": "code",
   "execution_count": null,
   "metadata": {},
   "outputs": [],
   "source": []
  }
 ],
 "metadata": {
  "kernelspec": {
   "display_name": "Python 3.7.3",
   "language": "python",
   "name": "python3"
  },
  "language_info": {
   "codemirror_mode": {
    "name": "ipython",
    "version": 3
   },
   "file_extension": ".py",
   "mimetype": "text/x-python",
   "name": "python",
   "nbconvert_exporter": "python",
   "pygments_lexer": "ipython3",
   "version": "3.7.3"
  }
 },
 "nbformat": 4,
 "nbformat_minor": 4
}
