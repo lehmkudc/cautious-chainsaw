{
 "cells": [
  {
   "cell_type": "code",
   "execution_count": 1,
<<<<<<< HEAD
   "metadata": {
    "execution": {
     "iopub.execute_input": "2021-04-20T03:17:59.710183Z",
     "iopub.status.busy": "2021-04-20T03:17:59.709936Z",
     "iopub.status.idle": "2021-04-20T03:18:00.237942Z",
     "shell.execute_reply": "2021-04-20T03:18:00.237464Z",
     "shell.execute_reply.started": "2021-04-20T03:17:59.710162Z"
    }
   },
=======
   "metadata": {},
>>>>>>> 14935aafa6812a7037c46db4392501170076eec5
   "outputs": [],
   "source": [
    "from random import random, seed, randrange\n",
    "from math import floor, pi\n",
    "import matplotlib.pyplot as plt\n",
    "import numpy as np\n",
    "import os\n",
    "from time import time\n",
    "import pandas as pd\n",
    "from scipy.integrate import simps, trapz, cumtrapz\n",
    "from scipy.ndimage.filters import gaussian_filter1d\n",
    "from time import time\n",
    "%matplotlib inline\n",
    "plt.rcParams['figure.figsize'] = [10, 9]"
   ]
  },
  {
   "cell_type": "code",
   "execution_count": 2,
<<<<<<< HEAD
   "metadata": {
    "execution": {
     "iopub.execute_input": "2021-04-20T03:18:00.238901Z",
     "iopub.status.busy": "2021-04-20T03:18:00.238743Z",
     "iopub.status.idle": "2021-04-20T03:18:00.247680Z",
     "shell.execute_reply": "2021-04-20T03:18:00.247241Z",
     "shell.execute_reply.started": "2021-04-20T03:18:00.238883Z"
    }
   },
=======
   "metadata": {},
>>>>>>> 14935aafa6812a7037c46db4392501170076eec5
   "outputs": [],
   "source": [
    "%run -i \"../../carbon_walls/gcmc.py\""
   ]
  },
  {
   "cell_type": "code",
   "execution_count": null,
<<<<<<< HEAD
   "metadata": {
    "execution": {
     "iopub.execute_input": "2021-04-20T03:18:00.377593Z",
     "iopub.status.busy": "2021-04-20T03:18:00.377440Z"
    }
   },
=======
   "metadata": {},
>>>>>>> 14935aafa6812a7037c46db4392501170076eec5
   "outputs": [
    {
     "name": "stdout",
     "output_type": "stream",
     "text": [
<<<<<<< HEAD
      "7 0.2408806644569181 76.42375668263188 0.00053056098335391 0.001672027524736168 261.65213441848755\n",
      "8 0.24609225748552538 85.74531691152806 0.0006189975911053645 0.0018963094625583307 341.057412147522\n"
=======
      "0 0.26352345190748105 9.803760917497717 6.354050058369605e-05 0.00017757845912848972 218.22285151481628\n",
      "1 0.2536175569528385 20.03703114535609 0.00012693099492676414 0.00037355089777740553 456.20159673690796\n",
      "2 0.24786575472818687 32.16582994927065 0.00020011207515367304 0.0006072284764812988 595.5343496799469\n",
      "3 0.23421435339644156 37.22710545335894 0.00023028315177311257 0.0007529322166860747 900.3330988883972\n",
      "4 0.2377202924083117 46.00894714317274 0.00029508691919752524 0.0009462329370420923 1271.5359573364258\n"
>>>>>>> 14935aafa6812a7037c46db4392501170076eec5
     ]
    }
   ],
   "source": [
    "filename = \"../data/\" + \"y0.25rep2\" + \".csv\"\n",
    "data_dump = pd.read_csv(filename).copy()\n",
    "\n",
    "for i in range(data_dump.shape[0]):\n",
    "    if np.isnan( data_dump.yco_sim[i]):\n",
    "        yco = data_dump.yco_res[i]\n",
    "        P_res = data_dump.P_res[i]*10**5 #[Pa]\n",
    "        T = data_dump.T_res[i] + 273.15 #K\n",
    "        fco, fme = PR_Fugacity( P_res/10**5, T, yco )\n",
    "        fco = fco*10**5\n",
    "        fme = fme*10**5\n",
    "        \n",
    "        sf = False\n",
    "        mega_verbose = False\n",
    "\n",
    "        s_box = 57.15\n",
    "        N_max = 50000\n",
    "        Vol = s_box**3\n",
    "        kb = 1.3806*10**(7) #[Pa*A^3/K]\n",
    "        Nco = 0 #floor(fco*Vol/kb/T)\n",
    "        Nme = 0 #floor(fme*Vol/kb/T)\n",
    "        Nc = 0\n",
    "        rc = s_box\n",
    "        beta = 1/T\n",
    "        zz_co = beta*fco\n",
    "        zz_me = beta*fme\n",
    "        delta = 1\n",
    "        pi_move = 0.5\n",
    "\n",
    "        N_moves = 100\n",
    "        if T == 30+273.15:\n",
    "            N_equil = int( np.round( 400000/N_moves) )\n",
    "        if T == 45+273.15:\n",
    "            N_equil = int( np.round( 350000/N_moves) )\n",
    "        if T == 60+273.15:\n",
    "            N_equil = int( np.round( 300000/N_moves) )\n",
    "        N_prod = int( np.round( 10000/N_moves) )\n",
    "\n",
    "        t0 = time()\n",
    "        rhocov,rhomev,Env,Pv,Ncov, Nmev = mc_run()\n",
    "        t = time()\n",
    "        \n",
    "        Nco = Ncov.mean()\n",
    "        Nme = Nmev.mean()\n",
    "        data_dump.yco_sim[i] = Nco/(Nco + Nme)\n",
    "        data_dump.P_sim[i] = Pv.mean()*10 #[bar]\n",
    "        data_dump.E_sim[i] = Env.mean()\n",
    "        data_dump.rhoco[i] = rhocov.mean()\n",
    "        data_dump.rhome[i] = rhomev.mean()\n",
    "        data_dump.yco_s[i] = (rhocov/(rhocov + rhomev)).std()\n",
    "        data_dump.P_s[i] = Pv.std()*10 #[bar]\n",
    "        data_dump.rhoco_s[i] = rhocov.std()\n",
    "        data_dump.rhome_s[i] = rhomev.std()\n",
    "        data_dump.E_s[i] = Env.std()\n",
    "        data_dump.time[i] = t - t0\n",
    "        print( i, data_dump.yco_sim[i],  data_dump.P_sim[i], data_dump.rhoco[i], data_dump.rhome[i], data_dump.time[i] )\n",
    "        #filename = \"../data_output/yco\" + str(yco) + \"P\" + str(P) + \"/run\" + str(i) + \".csv\"\n",
    "        data_dump.to_csv( filename, index = False)"
   ]
  },
  {
   "cell_type": "code",
   "execution_count": null,
   "metadata": {},
   "outputs": [],
   "source": []
  }
 ],
 "metadata": {
  "kernelspec": {
   "display_name": "Python 3",
   "language": "python",
   "name": "python3"
  },
  "language_info": {
   "codemirror_mode": {
    "name": "ipython",
    "version": 3
   },
   "file_extension": ".py",
   "mimetype": "text/x-python",
   "name": "python",
   "nbconvert_exporter": "python",
   "pygments_lexer": "ipython3",
   "version": "3.8.3"
  }
 },
 "nbformat": 4,
 "nbformat_minor": 4
}
