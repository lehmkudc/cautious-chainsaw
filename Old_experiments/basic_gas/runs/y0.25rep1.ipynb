{
 "cells": [
  {
   "cell_type": "code",
   "execution_count": 1,
<<<<<<< HEAD
   "metadata": {
    "execution": {
     "iopub.execute_input": "2021-04-20T03:17:54.105056Z",
     "iopub.status.busy": "2021-04-20T03:17:54.104907Z",
     "iopub.status.idle": "2021-04-20T03:17:54.637137Z",
     "shell.execute_reply": "2021-04-20T03:17:54.636626Z",
     "shell.execute_reply.started": "2021-04-20T03:17:54.105039Z"
    }
   },
=======
   "metadata": {},
>>>>>>> 14935aafa6812a7037c46db4392501170076eec5
   "outputs": [],
   "source": [
    "from random import random, seed, randrange\n",
    "from math import floor, pi\n",
    "import matplotlib.pyplot as plt\n",
    "import numpy as np\n",
    "import os\n",
    "from time import time\n",
    "import pandas as pd\n",
    "from scipy.integrate import simps, trapz, cumtrapz\n",
    "from scipy.ndimage.filters import gaussian_filter1d\n",
    "from time import time\n",
    "%matplotlib inline\n",
    "plt.rcParams['figure.figsize'] = [10, 9]"
   ]
  },
  {
   "cell_type": "code",
   "execution_count": 2,
<<<<<<< HEAD
   "metadata": {
    "execution": {
     "iopub.execute_input": "2021-04-20T03:17:54.638150Z",
     "iopub.status.busy": "2021-04-20T03:17:54.637960Z",
     "iopub.status.idle": "2021-04-20T03:17:54.647026Z",
     "shell.execute_reply": "2021-04-20T03:17:54.646603Z",
     "shell.execute_reply.started": "2021-04-20T03:17:54.638125Z"
    }
   },
=======
   "metadata": {},
>>>>>>> 14935aafa6812a7037c46db4392501170076eec5
   "outputs": [],
   "source": [
    "%run -i \"../../carbon_walls/gcmc.py\""
   ]
  },
  {
   "cell_type": "code",
   "execution_count": null,
<<<<<<< HEAD
   "metadata": {
    "execution": {
     "iopub.execute_input": "2021-04-20T03:17:54.694364Z",
     "iopub.status.busy": "2021-04-20T03:17:54.694125Z"
    }
   },
=======
   "metadata": {},
>>>>>>> 14935aafa6812a7037c46db4392501170076eec5
   "outputs": [
    {
     "name": "stdout",
     "output_type": "stream",
     "text": [
<<<<<<< HEAD
      "7 0.26378238973872703 76.63568793097002 0.0005770562748150546 0.0016105661642212327 266.2985203266144\n",
      "8 0.24867055002303606 86.99051550442647 0.0006201014227417565 0.0018735650877650654 337.6784291267395\n"
=======
      "0 0.24849721538071626 10.06502411773588 6.14580925218362e-05 0.0001858609465574461 232.3634283542633\n",
      "1 0.25068519795589983 19.406067218011106 0.00012152219847897999 0.0003632379687342354 484.1917209625244\n",
      "2 0.23508673776050626 28.19601609318864 0.00016658246595388886 0.0005420175492608959 639.9982743263245\n",
      "3 0.24880410215769946 40.99200357506803 0.00025565885032162146 0.0007718919340282974 981.2047653198242\n",
      "4 0.2519537694371348 49.588924348814544 0.0003473196279207439 0.001031185757002278 1201.0786759853363\n"
>>>>>>> 14935aafa6812a7037c46db4392501170076eec5
     ]
    }
   ],
   "source": [
    "filename = \"../data/\" + \"y0.25rep1\" + \".csv\"\n",
    "data_dump = pd.read_csv(filename).copy()\n",
    "\n",
    "for i in range(data_dump.shape[0]):\n",
    "    if np.isnan( data_dump.yco_sim[i]):\n",
    "        yco = data_dump.yco_res[i]\n",
    "        P_res = data_dump.P_res[i]*10**5 #[Pa]\n",
    "        T = data_dump.T_res[i] + 273.15 #K\n",
    "        fco, fme = PR_Fugacity( P_res/10**5, T, yco )\n",
    "        fco = fco*10**5\n",
    "        fme = fme*10**5\n",
    "        \n",
    "        sf = False\n",
    "        mega_verbose = False\n",
    "\n",
    "        s_box = 57.15\n",
    "        N_max = 50000\n",
    "        Vol = s_box**3\n",
    "        kb = 1.3806*10**(7) #[Pa*A^3/K]\n",
    "        Nco = 0 #floor(fco*Vol/kb/T)\n",
    "        Nme = 0 #floor(fme*Vol/kb/T)\n",
    "        Nc = 0\n",
    "        rc = s_box\n",
    "        beta = 1/T\n",
    "        zz_co = beta*fco\n",
    "        zz_me = beta*fme\n",
    "        delta = 1\n",
    "        pi_move = 0.5\n",
    "\n",
    "        N_moves = 100\n",
    "        if T == 30+273.15:\n",
    "            N_equil = int( np.round( 400000/N_moves) )\n",
    "        if T == 45+273.15:\n",
    "            N_equil = int( np.round( 350000/N_moves) )\n",
    "        if T == 60+273.15:\n",
    "            N_equil = int( np.round( 300000/N_moves) )\n",
    "        N_prod = int( np.round( 10000/N_moves) )\n",
    "\n",
    "        t0 = time()\n",
    "        rhocov,rhomev,Env,Pv,Ncov, Nmev = mc_run()\n",
    "        t = time()\n",
    "        \n",
    "        Nco = Ncov.mean()\n",
    "        Nme = Nmev.mean()\n",
    "        data_dump.yco_sim[i] = Nco/(Nco + Nme)\n",
    "        data_dump.P_sim[i] = Pv.mean()*10 #[bar]\n",
    "        data_dump.E_sim[i] = Env.mean()\n",
    "        data_dump.rhoco[i] = rhocov.mean()\n",
    "        data_dump.rhome[i] = rhomev.mean()\n",
    "        data_dump.yco_s[i] = (rhocov/(rhocov + rhomev)).std()\n",
    "        data_dump.P_s[i] = Pv.std()*10 #[bar]\n",
    "        data_dump.rhoco_s[i] = rhocov.std()\n",
    "        data_dump.rhome_s[i] = rhomev.std()\n",
    "        data_dump.E_s[i] = Env.std()\n",
    "        data_dump.time[i] = t - t0\n",
    "        print( i, data_dump.yco_sim[i],  data_dump.P_sim[i], data_dump.rhoco[i], data_dump.rhome[i], data_dump.time[i] )\n",
    "        #filename = \"../data_output/yco\" + str(yco) + \"P\" + str(P) + \"/run\" + str(i) + \".csv\"\n",
    "        data_dump.to_csv( filename, index = False)"
   ]
  },
  {
   "cell_type": "code",
   "execution_count": null,
   "metadata": {},
   "outputs": [],
   "source": []
  }
 ],
 "metadata": {
  "kernelspec": {
   "display_name": "Python 3",
   "language": "python",
   "name": "python3"
  },
  "language_info": {
   "codemirror_mode": {
    "name": "ipython",
    "version": 3
   },
   "file_extension": ".py",
   "mimetype": "text/x-python",
   "name": "python",
   "nbconvert_exporter": "python",
   "pygments_lexer": "ipython3",
   "version": "3.8.3"
  }
 },
 "nbformat": 4,
 "nbformat_minor": 4
}
