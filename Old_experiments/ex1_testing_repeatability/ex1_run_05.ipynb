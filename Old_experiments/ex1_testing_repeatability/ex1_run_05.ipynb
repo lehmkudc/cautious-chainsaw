{
 "cells": [
  {
   "cell_type": "code",
   "execution_count": 1,
   "metadata": {
    "execution": {
     "iopub.execute_input": "2021-02-23T00:40:07.371641Z",
     "iopub.status.busy": "2021-02-23T00:40:07.371413Z",
     "iopub.status.idle": "2021-02-23T00:40:07.994962Z",
     "shell.execute_reply": "2021-02-23T00:40:07.994324Z",
     "shell.execute_reply.started": "2021-02-23T00:40:07.371619Z"
    }
   },
   "outputs": [],
   "source": [
    "from random import random, seed, randrange\n",
    "from math import floor, pi\n",
    "import matplotlib.pyplot as plt\n",
    "import numpy as np\n",
    "import os\n",
    "from time import time\n",
    "import pandas as pd\n",
    "from scipy.integrate import simps, trapz, cumtrapz\n",
    "from scipy.ndimage.filters import gaussian_filter1d\n",
    "from time import time\n",
    "%matplotlib inline\n",
    "plt.rcParams['figure.figsize'] = [10, 9]"
   ]
  },
  {
   "cell_type": "code",
   "execution_count": 2,
   "metadata": {
    "execution": {
     "iopub.execute_input": "2021-02-23T00:40:07.996020Z",
     "iopub.status.busy": "2021-02-23T00:40:07.995840Z",
     "iopub.status.idle": "2021-02-23T00:40:08.003940Z",
     "shell.execute_reply": "2021-02-23T00:40:08.003423Z",
     "shell.execute_reply.started": "2021-02-23T00:40:07.996000Z"
    }
   },
   "outputs": [],
   "source": [
    "%run -i 'gcmc.py'"
   ]
  },
  {
   "cell_type": "code",
   "execution_count": 3,
   "metadata": {
    "execution": {
     "iopub.execute_input": "2021-02-23T00:40:08.172286Z",
     "iopub.status.busy": "2021-02-23T00:40:08.172089Z",
     "iopub.status.idle": "2021-02-23T10:33:22.903942Z",
     "shell.execute_reply": "2021-02-23T10:33:22.903214Z",
     "shell.execute_reply.started": "2021-02-23T00:40:08.172266Z"
    }
   },
   "outputs": [
    {
     "name": "stdout",
     "output_type": "stream",
     "text": [
      "Co:\t 44.6 bar\tMe:\t 44.6 bar\n",
      "60 0.4893493254424504 97.4334724283632 0.0014204268880000002 0.001482257992 1811.4486393928528\n",
      "Co:\t 44.6 bar\tMe:\t 44.6 bar\n",
      "61 0.48929135764711884 95.12554660475175 0.001388422864 0.001449196976 1777.120943069458\n",
      "Co:\t 44.6 bar\tMe:\t 44.6 bar\n",
      "62 0.48872826542861 94.85867179570897 0.00138790996 0.0014519298 1776.5272998809814\n",
      "Co:\t 44.6 bar\tMe:\t 44.6 bar\n",
      "63 0.4897524755468428 96.58169720959023 0.001406183224 0.001465028856 1787.2395939826965\n",
      "Co:\t 44.6 bar\tMe:\t 44.6 bar\n",
      "64 0.4899557326014625 98.72100730551152 0.001385580168 0.0014423899439999998 1768.89080452919\n",
      "Co:\t 44.6 bar\tMe:\t 44.6 bar\n",
      "65 0.48647410917223305 96.35983791129205 0.001396721384 0.001474390064 1781.5745520591736\n",
      "Co:\t 44.6 bar\tMe:\t 44.6 bar\n",
      "66 0.48746010612372126 95.87204661590096 0.00138655912 0.0014578974879999999 1763.569344997406\n",
      "Co:\t 44.6 bar\tMe:\t 44.6 bar\n",
      "67 0.4941943076456977 96.02230938234122 0.00142970856 0.0014633004 1780.8071930408478\n",
      "Co:\t 44.6 bar\tMe:\t 44.6 bar\n",
      "68 0.4896613913759128 96.87933954121974 0.0014084401519999998 0.001467915176 1778.7009830474854\n",
      "Co:\t 44.6 bar\tMe:\t 44.6 bar\n",
      "69 0.4860411168746082 95.59908046653271 0.001384977872 0.00146452976 1799.8966145515442\n",
      "Co:\t 44.6 bar\tMe:\t 44.6 bar\n",
      "70 0.4853784186984584 94.97950323653151 0.0013741169040000002 0.001456904936 1768.7453355789185\n",
      "Co:\t 44.6 bar\tMe:\t 44.6 bar\n",
      "71 0.4854340484259058 95.33460397606808 0.001380948016 0.0014638215680000002 1779.3260712623596\n",
      "Co:\t 44.6 bar\tMe:\t 44.6 bar\n",
      "72 0.485593645837673 352.7657221580234 0.001376606952 0.001458287952 1782.4940412044525\n",
      "Co:\t 44.6 bar\tMe:\t 44.6 bar\n",
      "73 0.48759916141129395 96.4234306353649 0.001405312968 0.0014767940560000002 1781.346682548523\n",
      "Co:\t 44.6 bar\tMe:\t 44.6 bar\n",
      "74 0.4890063318222049 94.67407607663874 0.0013859304319999999 0.0014482464319999998 1764.3119838237762\n",
      "Co:\t 44.6 bar\tMe:\t 44.6 bar\n",
      "75 0.4847956712243238 95.05347242707185 0.001368179736 0.0014539983840000002 1773.7921755313873\n",
      "Co:\t 44.6 bar\tMe:\t 44.6 bar\n",
      "76 0.48757066480329175 95.85764002058772 0.001389575088 0.001460422232 1777.5375311374664\n",
      "Co:\t 44.6 bar\tMe:\t 44.6 bar\n",
      "77 0.4901622152807456 95.86304637400318 0.0014050361439999998 0.001461435608 1786.9841511249542\n",
      "Co:\t 44.6 bar\tMe:\t 44.6 bar\n",
      "78 0.4879109565558146 95.54390219199018 0.001384618272 0.001453232064 1776.2221043109894\n",
      "Co:\t 44.6 bar\tMe:\t 44.6 bar\n",
      "79 0.4908237004685528 95.69517623226841 0.001406383944 0.001458970648 1777.6110558509827\n"
     ]
    },
    {
     "ename": "LinAlgError",
     "evalue": "Array must not contain infs or NaNs",
     "output_type": "error",
     "traceback": [
      "\u001b[0;31m---------------------------------------------------------------------------\u001b[0m",
      "\u001b[0;31mLinAlgError\u001b[0m                               Traceback (most recent call last)",
      "\u001b[0;32m~/grand_canonical_adsorption/ex1_testing_repeatability/gcmc.py\u001b[0m in \u001b[0;36m<module>\u001b[0;34m\u001b[0m\n\u001b[1;32m      7\u001b[0m         \u001b[0mP_res\u001b[0m \u001b[0;34m=\u001b[0m \u001b[0mdata_dump\u001b[0m\u001b[0;34m.\u001b[0m\u001b[0mP0\u001b[0m\u001b[0;34m[\u001b[0m\u001b[0mi\u001b[0m\u001b[0;34m]\u001b[0m\u001b[0;34m*\u001b[0m\u001b[0;36m10\u001b[0m\u001b[0;34m**\u001b[0m\u001b[0;36m5\u001b[0m \u001b[0;31m#[Pa]\u001b[0m\u001b[0;34m\u001b[0m\u001b[0;34m\u001b[0m\u001b[0m\n\u001b[1;32m      8\u001b[0m         \u001b[0mT\u001b[0m \u001b[0;34m=\u001b[0m \u001b[0;36m45\u001b[0m \u001b[0;34m+\u001b[0m \u001b[0;36m273.15\u001b[0m \u001b[0;31m#K\u001b[0m\u001b[0;34m\u001b[0m\u001b[0;34m\u001b[0m\u001b[0m\n\u001b[0;32m----> 9\u001b[0;31m         \u001b[0mfco\u001b[0m\u001b[0;34m,\u001b[0m \u001b[0mfme\u001b[0m \u001b[0;34m=\u001b[0m \u001b[0mPR_Fugacity\u001b[0m\u001b[0;34m(\u001b[0m \u001b[0mP_res\u001b[0m\u001b[0;34m/\u001b[0m\u001b[0;36m10\u001b[0m\u001b[0;34m**\u001b[0m\u001b[0;36m5\u001b[0m\u001b[0;34m,\u001b[0m \u001b[0mT\u001b[0m\u001b[0;34m,\u001b[0m \u001b[0myco\u001b[0m \u001b[0;34m)\u001b[0m\u001b[0;34m\u001b[0m\u001b[0;34m\u001b[0m\u001b[0m\n\u001b[0m\u001b[1;32m     10\u001b[0m         \u001b[0mfco\u001b[0m \u001b[0;34m=\u001b[0m \u001b[0mfco\u001b[0m\u001b[0;34m*\u001b[0m\u001b[0;36m10\u001b[0m\u001b[0;34m**\u001b[0m\u001b[0;36m5\u001b[0m\u001b[0;34m\u001b[0m\u001b[0;34m\u001b[0m\u001b[0m\n\u001b[1;32m     11\u001b[0m         \u001b[0mfme\u001b[0m \u001b[0;34m=\u001b[0m \u001b[0mfme\u001b[0m\u001b[0;34m*\u001b[0m\u001b[0;36m10\u001b[0m\u001b[0;34m**\u001b[0m\u001b[0;36m5\u001b[0m\u001b[0;34m\u001b[0m\u001b[0;34m\u001b[0m\u001b[0m\n",
      "\u001b[0;32m~/grand_canonical_adsorption/ex1_testing_repeatability/gcmc.py\u001b[0m in \u001b[0;36mPR_Fugacity\u001b[0;34m(P_res, T, yco)\u001b[0m\n\u001b[1;32m    586\u001b[0m     \u001b[0mA_mix\u001b[0m \u001b[0;34m=\u001b[0m \u001b[0mA\u001b[0m\u001b[0;34m(\u001b[0m \u001b[0ma_mix\u001b[0m\u001b[0;34m,\u001b[0m \u001b[0mP_res\u001b[0m\u001b[0;34m,\u001b[0m \u001b[0mT\u001b[0m \u001b[0;34m)\u001b[0m\u001b[0;34m\u001b[0m\u001b[0;34m\u001b[0m\u001b[0m\n\u001b[1;32m    587\u001b[0m     \u001b[0mB_mix\u001b[0m \u001b[0;34m=\u001b[0m \u001b[0mB\u001b[0m\u001b[0;34m(\u001b[0m \u001b[0mb_mix\u001b[0m\u001b[0;34m,\u001b[0m \u001b[0mP_res\u001b[0m\u001b[0;34m,\u001b[0m \u001b[0mT\u001b[0m \u001b[0;34m)\u001b[0m\u001b[0;34m\u001b[0m\u001b[0;34m\u001b[0m\u001b[0m\n\u001b[0;32m--> 588\u001b[0;31m     \u001b[0mZ_mix\u001b[0m \u001b[0;34m=\u001b[0m \u001b[0msolveZ\u001b[0m\u001b[0;34m(\u001b[0m \u001b[0mA_mix\u001b[0m\u001b[0;34m,\u001b[0m \u001b[0mB_mix\u001b[0m \u001b[0;34m)\u001b[0m\u001b[0;34m\u001b[0m\u001b[0;34m\u001b[0m\u001b[0m\n\u001b[0m\u001b[1;32m    589\u001b[0m \u001b[0;34m\u001b[0m\u001b[0m\n\u001b[1;32m    590\u001b[0m     \u001b[0mF_me\u001b[0m \u001b[0;34m=\u001b[0m \u001b[0mFi\u001b[0m\u001b[0;34m(\u001b[0m \u001b[0mA_me\u001b[0m\u001b[0;34m,\u001b[0m \u001b[0mA_co\u001b[0m\u001b[0;34m,\u001b[0m \u001b[0mA_cm\u001b[0m\u001b[0;34m,\u001b[0m \u001b[0mA_mix\u001b[0m\u001b[0;34m,\u001b[0m \u001b[0mB_me\u001b[0m\u001b[0;34m,\u001b[0m \u001b[0mB_mix\u001b[0m\u001b[0;34m,\u001b[0m \u001b[0mZ_mix\u001b[0m\u001b[0;34m,\u001b[0m \u001b[0;36m1\u001b[0m\u001b[0;34m-\u001b[0m\u001b[0myco\u001b[0m\u001b[0;34m,\u001b[0m \u001b[0mP_res\u001b[0m\u001b[0;34m)\u001b[0m\u001b[0;34m\u001b[0m\u001b[0;34m\u001b[0m\u001b[0m\n",
      "\u001b[0;32m~/grand_canonical_adsorption/ex1_testing_repeatability/gcmc.py\u001b[0m in \u001b[0;36msolveZ\u001b[0;34m(A, B)\u001b[0m\n\u001b[1;32m    532\u001b[0m     \u001b[0mc2\u001b[0m \u001b[0;34m=\u001b[0m \u001b[0mA\u001b[0m \u001b[0;34m-\u001b[0m \u001b[0;36m3\u001b[0m\u001b[0;34m*\u001b[0m\u001b[0mB\u001b[0m\u001b[0;34m**\u001b[0m\u001b[0;36m2\u001b[0m \u001b[0;34m-\u001b[0m \u001b[0;36m2\u001b[0m\u001b[0;34m*\u001b[0m\u001b[0mB\u001b[0m\u001b[0;34m\u001b[0m\u001b[0;34m\u001b[0m\u001b[0m\n\u001b[1;32m    533\u001b[0m     \u001b[0mc3\u001b[0m \u001b[0;34m=\u001b[0m \u001b[0mB\u001b[0m\u001b[0;34m**\u001b[0m\u001b[0;36m3\u001b[0m \u001b[0;34m+\u001b[0m \u001b[0mB\u001b[0m\u001b[0;34m**\u001b[0m\u001b[0;36m2\u001b[0m \u001b[0;34m-\u001b[0m \u001b[0mA\u001b[0m\u001b[0;34m*\u001b[0m\u001b[0mB\u001b[0m\u001b[0;34m\u001b[0m\u001b[0;34m\u001b[0m\u001b[0m\n\u001b[0;32m--> 534\u001b[0;31m     \u001b[0mroots\u001b[0m \u001b[0;34m=\u001b[0m \u001b[0mnp\u001b[0m\u001b[0;34m.\u001b[0m\u001b[0mroots\u001b[0m\u001b[0;34m(\u001b[0m \u001b[0;34m[\u001b[0m\u001b[0;36m1\u001b[0m\u001b[0;34m,\u001b[0m \u001b[0mc1\u001b[0m\u001b[0;34m,\u001b[0m \u001b[0mc2\u001b[0m\u001b[0;34m,\u001b[0m \u001b[0mc3\u001b[0m\u001b[0;34m]\u001b[0m \u001b[0;34m)\u001b[0m\u001b[0;34m\u001b[0m\u001b[0;34m\u001b[0m\u001b[0m\n\u001b[0m\u001b[1;32m    535\u001b[0m     \u001b[0;32mfor\u001b[0m \u001b[0mr\u001b[0m \u001b[0;32min\u001b[0m \u001b[0mroots\u001b[0m\u001b[0;34m:\u001b[0m\u001b[0;34m\u001b[0m\u001b[0;34m\u001b[0m\u001b[0m\n\u001b[1;32m    536\u001b[0m         \u001b[0;32mif\u001b[0m\u001b[0;34m(\u001b[0m \u001b[0mr\u001b[0m\u001b[0;34m.\u001b[0m\u001b[0mimag\u001b[0m \u001b[0;34m==\u001b[0m \u001b[0;36m0\u001b[0m\u001b[0;34m)\u001b[0m\u001b[0;34m:\u001b[0m\u001b[0;34m\u001b[0m\u001b[0;34m\u001b[0m\u001b[0m\n",
      "\u001b[0;32m<__array_function__ internals>\u001b[0m in \u001b[0;36mroots\u001b[0;34m(*args, **kwargs)\u001b[0m\n",
      "\u001b[0;32m/data/miniconda3/envs/python_3.7.3/lib/python3.7/site-packages/numpy/lib/polynomial.py\u001b[0m in \u001b[0;36mroots\u001b[0;34m(p)\u001b[0m\n\u001b[1;32m    241\u001b[0m         \u001b[0mA\u001b[0m \u001b[0;34m=\u001b[0m \u001b[0mdiag\u001b[0m\u001b[0;34m(\u001b[0m\u001b[0mNX\u001b[0m\u001b[0;34m.\u001b[0m\u001b[0mones\u001b[0m\u001b[0;34m(\u001b[0m\u001b[0;34m(\u001b[0m\u001b[0mN\u001b[0m\u001b[0;34m-\u001b[0m\u001b[0;36m2\u001b[0m\u001b[0;34m,\u001b[0m\u001b[0;34m)\u001b[0m\u001b[0;34m,\u001b[0m \u001b[0mp\u001b[0m\u001b[0;34m.\u001b[0m\u001b[0mdtype\u001b[0m\u001b[0;34m)\u001b[0m\u001b[0;34m,\u001b[0m \u001b[0;34m-\u001b[0m\u001b[0;36m1\u001b[0m\u001b[0;34m)\u001b[0m\u001b[0;34m\u001b[0m\u001b[0;34m\u001b[0m\u001b[0m\n\u001b[1;32m    242\u001b[0m         \u001b[0mA\u001b[0m\u001b[0;34m[\u001b[0m\u001b[0;36m0\u001b[0m\u001b[0;34m,\u001b[0m\u001b[0;34m:\u001b[0m\u001b[0;34m]\u001b[0m \u001b[0;34m=\u001b[0m \u001b[0;34m-\u001b[0m\u001b[0mp\u001b[0m\u001b[0;34m[\u001b[0m\u001b[0;36m1\u001b[0m\u001b[0;34m:\u001b[0m\u001b[0;34m]\u001b[0m \u001b[0;34m/\u001b[0m \u001b[0mp\u001b[0m\u001b[0;34m[\u001b[0m\u001b[0;36m0\u001b[0m\u001b[0;34m]\u001b[0m\u001b[0;34m\u001b[0m\u001b[0;34m\u001b[0m\u001b[0m\n\u001b[0;32m--> 243\u001b[0;31m         \u001b[0mroots\u001b[0m \u001b[0;34m=\u001b[0m \u001b[0meigvals\u001b[0m\u001b[0;34m(\u001b[0m\u001b[0mA\u001b[0m\u001b[0;34m)\u001b[0m\u001b[0;34m\u001b[0m\u001b[0;34m\u001b[0m\u001b[0m\n\u001b[0m\u001b[1;32m    244\u001b[0m     \u001b[0;32melse\u001b[0m\u001b[0;34m:\u001b[0m\u001b[0;34m\u001b[0m\u001b[0;34m\u001b[0m\u001b[0m\n\u001b[1;32m    245\u001b[0m         \u001b[0mroots\u001b[0m \u001b[0;34m=\u001b[0m \u001b[0mNX\u001b[0m\u001b[0;34m.\u001b[0m\u001b[0marray\u001b[0m\u001b[0;34m(\u001b[0m\u001b[0;34m[\u001b[0m\u001b[0;34m]\u001b[0m\u001b[0;34m)\u001b[0m\u001b[0;34m\u001b[0m\u001b[0;34m\u001b[0m\u001b[0m\n",
      "\u001b[0;32m<__array_function__ internals>\u001b[0m in \u001b[0;36meigvals\u001b[0;34m(*args, **kwargs)\u001b[0m\n",
      "\u001b[0;32m/data/miniconda3/envs/python_3.7.3/lib/python3.7/site-packages/numpy/linalg/linalg.py\u001b[0m in \u001b[0;36meigvals\u001b[0;34m(a)\u001b[0m\n\u001b[1;32m   1061\u001b[0m     \u001b[0m_assert_stacked_2d\u001b[0m\u001b[0;34m(\u001b[0m\u001b[0ma\u001b[0m\u001b[0;34m)\u001b[0m\u001b[0;34m\u001b[0m\u001b[0;34m\u001b[0m\u001b[0m\n\u001b[1;32m   1062\u001b[0m     \u001b[0m_assert_stacked_square\u001b[0m\u001b[0;34m(\u001b[0m\u001b[0ma\u001b[0m\u001b[0;34m)\u001b[0m\u001b[0;34m\u001b[0m\u001b[0;34m\u001b[0m\u001b[0m\n\u001b[0;32m-> 1063\u001b[0;31m     \u001b[0m_assert_finite\u001b[0m\u001b[0;34m(\u001b[0m\u001b[0ma\u001b[0m\u001b[0;34m)\u001b[0m\u001b[0;34m\u001b[0m\u001b[0;34m\u001b[0m\u001b[0m\n\u001b[0m\u001b[1;32m   1064\u001b[0m     \u001b[0mt\u001b[0m\u001b[0;34m,\u001b[0m \u001b[0mresult_t\u001b[0m \u001b[0;34m=\u001b[0m \u001b[0m_commonType\u001b[0m\u001b[0;34m(\u001b[0m\u001b[0ma\u001b[0m\u001b[0;34m)\u001b[0m\u001b[0;34m\u001b[0m\u001b[0;34m\u001b[0m\u001b[0m\n\u001b[1;32m   1065\u001b[0m \u001b[0;34m\u001b[0m\u001b[0m\n",
      "\u001b[0;32m/data/miniconda3/envs/python_3.7.3/lib/python3.7/site-packages/numpy/linalg/linalg.py\u001b[0m in \u001b[0;36m_assert_finite\u001b[0;34m(*arrays)\u001b[0m\n\u001b[1;32m    207\u001b[0m     \u001b[0;32mfor\u001b[0m \u001b[0ma\u001b[0m \u001b[0;32min\u001b[0m \u001b[0marrays\u001b[0m\u001b[0;34m:\u001b[0m\u001b[0;34m\u001b[0m\u001b[0;34m\u001b[0m\u001b[0m\n\u001b[1;32m    208\u001b[0m         \u001b[0;32mif\u001b[0m \u001b[0;32mnot\u001b[0m \u001b[0misfinite\u001b[0m\u001b[0;34m(\u001b[0m\u001b[0ma\u001b[0m\u001b[0;34m)\u001b[0m\u001b[0;34m.\u001b[0m\u001b[0mall\u001b[0m\u001b[0;34m(\u001b[0m\u001b[0;34m)\u001b[0m\u001b[0;34m:\u001b[0m\u001b[0;34m\u001b[0m\u001b[0;34m\u001b[0m\u001b[0m\n\u001b[0;32m--> 209\u001b[0;31m             \u001b[0;32mraise\u001b[0m \u001b[0mLinAlgError\u001b[0m\u001b[0;34m(\u001b[0m\u001b[0;34m\"Array must not contain infs or NaNs\"\u001b[0m\u001b[0;34m)\u001b[0m\u001b[0;34m\u001b[0m\u001b[0;34m\u001b[0m\u001b[0m\n\u001b[0m\u001b[1;32m    210\u001b[0m \u001b[0;34m\u001b[0m\u001b[0m\n\u001b[1;32m    211\u001b[0m \u001b[0;32mdef\u001b[0m \u001b[0m_is_empty_2d\u001b[0m\u001b[0;34m(\u001b[0m\u001b[0marr\u001b[0m\u001b[0;34m)\u001b[0m\u001b[0;34m:\u001b[0m\u001b[0;34m\u001b[0m\u001b[0;34m\u001b[0m\u001b[0m\n",
      "\u001b[0;31mLinAlgError\u001b[0m: Array must not contain infs or NaNs"
     ]
    }
   ],
   "source": [
    "filename = \"ex1_05.csv\"\n",
    "data_dump = pd.read_csv(filename).copy()\n",
    "\n",
    "for i in range(data_dump.shape[0]):\n",
    "    if np.isnan( data_dump.ycf[i]):\n",
    "        yco = data_dump.yc0[i]\n",
    "        P_res = data_dump.P0[i]*10**5 #[Pa]\n",
    "        T = 45 + 273.15 #K\n",
    "        fco, fme = PR_Fugacity( P_res/10**5, T, yco )\n",
    "        fco = fco*10**5\n",
    "        fme = fme*10**5\n",
    "\n",
    "        print( \"Co:\\t\", round( fme/10**5, 1 ), \"bar\\tMe:\\t\", round( fme/10**5, 1 ), \"bar\")\n",
    "\n",
    "        s_box = 50\n",
    "        N_max = 50000\n",
    "        Vol = s_box**3\n",
    "        kb = 1.3806*10**(7) #[Pa*A^3/K]\n",
    "        Nco = floor(fco*Vol/kb/T)\n",
    "        Nme = floor(fme*Vol/kb/T)\n",
    "        Nc = 0\n",
    "        rc = s_box\n",
    "        beta = 1/T\n",
    "        zz_co = beta*fco\n",
    "        zz_me = beta*fme\n",
    "        delta = 1\n",
    "        pi_move = 0.5\n",
    "\n",
    "        N_moves = 1000\n",
    "        N_equil = 1000\n",
    "        N_prod = 1000\n",
    "\n",
    "        t0 = time()\n",
    "        rhocov,rhomev,Env,Pv,Ncov, Nmev = mc_run()\n",
    "        t = time()\n",
    "        \n",
    "        Nco = Ncov.mean()\n",
    "        Nme = Nmev.mean()\n",
    "        data_dump.ycf[i] = Nco/(Nco + Nme)\n",
    "        data_dump.Pf[i] = Pv.mean()*10 #[bar]\n",
    "        data_dump.rhoco[i] = rhocov.mean()\n",
    "        data_dump.rhome[i] = rhomev.mean()\n",
    "        data_dump.ycf_s[i] = (rhocov/(rhocov + rhomev)).std()\n",
    "        data_dump.Pf_s[i] = Pv.std()*10 #[bar]\n",
    "        data_dump.rhoco_s[i] = rhocov.std()\n",
    "        data_dump.rhome_s[i] = rhomev.std()\n",
    "        data_dump.t_comp[i] = t - t0\n",
    "        print( i, data_dump.ycf[i],  data_dump.Pf[i], data_dump.rhoco[i], data_dump.rhome[i], data_dump.t_comp[i] )\n",
    "        #filename = \"../data_output/yco\" + str(yco) + \"P\" + str(P) + \"/run\" + str(i) + \".csv\"\n",
    "        data_dump.to_csv( filename, index = False)"
   ]
  },
  {
   "cell_type": "code",
   "execution_count": null,
   "metadata": {},
   "outputs": [],
   "source": []
  }
 ],
 "metadata": {
  "kernelspec": {
   "display_name": "Python 3.7.3",
   "language": "python",
   "name": "python3"
  },
  "language_info": {
   "codemirror_mode": {
    "name": "ipython",
    "version": 3
   },
   "file_extension": ".py",
   "mimetype": "text/x-python",
   "name": "python",
   "nbconvert_exporter": "python",
   "pygments_lexer": "ipython3",
   "version": "3.7.3"
  }
 },
 "nbformat": 4,
 "nbformat_minor": 4
}
