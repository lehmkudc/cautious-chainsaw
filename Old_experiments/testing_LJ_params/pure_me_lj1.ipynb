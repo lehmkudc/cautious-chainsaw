{
 "cells": [
  {
   "cell_type": "code",
   "execution_count": 1,
   "metadata": {},
   "outputs": [],
   "source": [
    "from random import random, seed, randrange\n",
    "from math import floor, pi\n",
    "import matplotlib.pyplot as plt\n",
    "import numpy as np\n",
    "import os\n",
    "from time import time\n",
    "import pandas as pd\n",
    "from scipy.integrate import simps, trapz, cumtrapz\n",
    "from scipy.ndimage.filters import gaussian_filter1d\n",
    "%matplotlib inline\n",
    "plt.rcParams['figure.figsize'] = [10, 9]"
   ]
  },
  {
   "cell_type": "code",
   "execution_count": 2,
   "metadata": {},
   "outputs": [],
   "source": [
    "%run -i '../gcmc.py'"
   ]
  },
  {
   "cell_type": "code",
   "execution_count": null,
   "metadata": {},
   "outputs": [
    {
     "name": "stdout",
     "output_type": "stream",
     "text": [
      "Co:\t 5.0 bar\tMe:\t 5.0 bar\n"
     ]
    },
    {
     "name": "stderr",
     "output_type": "stream",
     "text": [
      "../gcmc.py:36: SettingWithCopyWarning: \n",
      "A value is trying to be set on a copy of a slice from a DataFrame\n",
      "\n",
      "See the caveats in the documentation: http://pandas.pydata.org/pandas-docs/stable/indexing.html#indexing-view-versus-copy\n",
      "  \n",
      "../gcmc.py:37: SettingWithCopyWarning: \n",
      "A value is trying to be set on a copy of a slice from a DataFrame\n",
      "\n",
      "See the caveats in the documentation: http://pandas.pydata.org/pandas-docs/stable/indexing.html#indexing-view-versus-copy\n",
      "  def move(spec, o, x, y, z):\n",
      "../gcmc.py:38: SettingWithCopyWarning: \n",
      "A value is trying to be set on a copy of a slice from a DataFrame\n",
      "\n",
      "See the caveats in the documentation: http://pandas.pydata.org/pandas-docs/stable/indexing.html#indexing-view-versus-copy\n",
      "  # Carry out the \"move\" trial move\n",
      "../gcmc.py:39: SettingWithCopyWarning: \n",
      "A value is trying to be set on a copy of a slice from a DataFrame\n",
      "\n",
      "See the caveats in the documentation: http://pandas.pydata.org/pandas-docs/stable/indexing.html#indexing-view-versus-copy\n",
      "  if( spec == \"co2\"):\n"
     ]
    },
    {
     "name": "stdout",
     "output_type": "stream",
     "text": [
      "0 0.0 5.044929548556398 0.0 0.00011562848\n",
      "Co:\t 9.8 bar\tMe:\t 9.8 bar\n",
      "1 0.0 10.034050569860888 0.0 0.00023167912000000002\n",
      "Co:\t 14.6 bar\tMe:\t 14.6 bar\n",
      "2 0.0 14.912683891620963 0.0 0.000346386\n",
      "Co:\t 19.3 bar\tMe:\t 19.3 bar\n",
      "3 0.0 20.0085471859968 0.0 0.00046722887999999993\n",
      "Co:\t 23.9 bar\tMe:\t 23.9 bar\n",
      "4 0.0 25.031215693020116 0.0 0.00059096832\n",
      "Co:\t 28.5 bar\tMe:\t 28.5 bar\n",
      "5 0.0 29.277180595838868 0.0 0.0006958093599999999\n",
      "Co:\t 32.9 bar\tMe:\t 32.9 bar\n",
      "6 0.0 34.22377008456459 0.0 0.00080867504\n",
      "Co:\t 37.3 bar\tMe:\t 37.3 bar\n",
      "7 0.0 39.41847259036669 0.0 0.0009399056800000001\n",
      "Co:\t 41.7 bar\tMe:\t 41.7 bar\n"
     ]
    }
   ],
   "source": [
    "filename = \"pure_me_lj1.csv\"\n",
    "data_dump = pd.read_csv(filename).copy()\n",
    "\n",
    "for i in range(data_dump.shape[0]):\n",
    "    if np.isnan( data_dump.ycf[i]):\n",
    "        yco = data_dump.yc0[i]\n",
    "        P_res = data_dump.P0[i]*10**5 #[Pa]\n",
    "        T = 45 + 273.15 #K\n",
    "        fco, fme = PR_Fugacity( P_res/10**5, T, yco )\n",
    "        fco = fco*10**5\n",
    "        fme = fme*10**5\n",
    "\n",
    "        print( \"Co:\\t\", round( fme/10**5, 1 ), \"bar\\tMe:\\t\", round( fme/10**5, 1 ), \"bar\")\n",
    "\n",
    "        s_box = 50\n",
    "        N_max = 50000\n",
    "        Vol = s_box**3\n",
    "        kb = 1.3806*10**(7) #[Pa*A^3/K]\n",
    "        Nco = floor(fco*Vol/kb/T)\n",
    "        Nme = floor(fme*Vol/kb/T)\n",
    "        Nc = 0\n",
    "        rc = s_box\n",
    "        beta = 1/T\n",
    "        zz_co = beta*fco\n",
    "        zz_me = beta*fme\n",
    "        delta = 1\n",
    "        pi_move = 0.5\n",
    "\n",
    "        N_moves = 100\n",
    "        N_equil = 6000\n",
    "        N_prod = 1000\n",
    "\n",
    "        rhocov,rhomev,Env,Pv,Ncov, Nmev = mc_run()\n",
    "        Nco = Ncov.mean()\n",
    "        Nme = Nmev.mean()\n",
    "        data_dump.ycf[i] = Nco/(Nco + Nme)\n",
    "        data_dump.Pf[i] = Pv.mean()*10 #[bar]\n",
    "        data_dump.rhoco[i] = rhocov.mean()\n",
    "        data_dump.rhome[i] = rhomev.mean()\n",
    "        print( i, data_dump.ycf[i],  data_dump.Pf[i], data_dump.rhoco[i], data_dump.rhome[i] )\n",
    "        #filename = \"../data_output/yco\" + str(yco) + \"P\" + str(P) + \"/run\" + str(i) + \".csv\"\n",
    "        data_dump.to_csv( filename, index = False)"
   ]
  },
  {
   "cell_type": "code",
   "execution_count": null,
   "metadata": {},
   "outputs": [],
   "source": []
  }
 ],
 "metadata": {
  "kernelspec": {
   "display_name": "Python 3.7.3",
   "language": "python",
   "name": "python3"
  },
  "language_info": {
   "codemirror_mode": {
    "name": "ipython",
    "version": 3
   },
   "file_extension": ".py",
   "mimetype": "text/x-python",
   "name": "python",
   "nbconvert_exporter": "python",
   "pygments_lexer": "ipython3",
   "version": "3.7.3"
  }
 },
 "nbformat": 4,
 "nbformat_minor": 4
}
