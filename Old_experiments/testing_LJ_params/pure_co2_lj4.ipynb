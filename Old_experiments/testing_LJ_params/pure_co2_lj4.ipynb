{
 "cells": [
  {
   "cell_type": "code",
   "execution_count": 1,
   "metadata": {},
   "outputs": [],
   "source": [
    "from random import random, seed, randrange\n",
    "from math import floor, pi\n",
    "import matplotlib.pyplot as plt\n",
    "import numpy as np\n",
    "import os\n",
    "from time import time\n",
    "import pandas as pd\n",
    "from scipy.integrate import simps, trapz, cumtrapz\n",
    "from scipy.ndimage.filters import gaussian_filter1d\n",
    "%matplotlib inline\n",
    "plt.rcParams['figure.figsize'] = [10, 9]"
   ]
  },
  {
   "cell_type": "code",
   "execution_count": 2,
   "metadata": {},
   "outputs": [],
   "source": [
    "%run -i '../gcmc.py'"
   ]
  },
  {
   "cell_type": "code",
   "execution_count": 3,
   "metadata": {},
   "outputs": [],
   "source": [
    "e_co = 192.25 # eps over kb[K]\n",
    "s_co = 4.416 # sigma [A]"
   ]
  },
  {
   "cell_type": "code",
   "execution_count": null,
   "metadata": {},
   "outputs": [
    {
     "name": "stdout",
     "output_type": "stream",
     "text": [
      "Co:\t 0.0 bar\tMe:\t 0.0 bar\n"
     ]
    },
    {
     "name": "stderr",
     "output_type": "stream",
     "text": [
      "../gcmc.py:36: SettingWithCopyWarning: \n",
      "A value is trying to be set on a copy of a slice from a DataFrame\n",
      "\n",
      "See the caveats in the documentation: http://pandas.pydata.org/pandas-docs/stable/indexing.html#indexing-view-versus-copy\n",
      "  \n",
      "../gcmc.py:37: SettingWithCopyWarning: \n",
      "A value is trying to be set on a copy of a slice from a DataFrame\n",
      "\n",
      "See the caveats in the documentation: http://pandas.pydata.org/pandas-docs/stable/indexing.html#indexing-view-versus-copy\n",
      "  def move(spec, o, x, y, z):\n",
      "../gcmc.py:38: SettingWithCopyWarning: \n",
      "A value is trying to be set on a copy of a slice from a DataFrame\n",
      "\n",
      "See the caveats in the documentation: http://pandas.pydata.org/pandas-docs/stable/indexing.html#indexing-view-versus-copy\n",
      "  # Carry out the \"move\" trial move\n",
      "../gcmc.py:39: SettingWithCopyWarning: \n",
      "A value is trying to be set on a copy of a slice from a DataFrame\n",
      "\n",
      "See the caveats in the documentation: http://pandas.pydata.org/pandas-docs/stable/indexing.html#indexing-view-versus-copy\n",
      "  if( spec == \"co2\"):\n"
     ]
    },
    {
     "name": "stdout",
     "output_type": "stream",
     "text": [
      "0 1.0 5.0171436852655 0.00011645704 0.0\n",
      "Co:\t 0.0 bar\tMe:\t 0.0 bar\n",
      "1 1.0 9.936297695222798 0.00023537616 0.0\n",
      "Co:\t 0.0 bar\tMe:\t 0.0 bar\n",
      "2 1.0 14.751329225125613 0.00035935112 0.0\n",
      "Co:\t 0.0 bar\tMe:\t 0.0 bar\n",
      "3 1.0 20.084267725561027 0.0004977115200000001 0.0\n",
      "Co:\t 0.0 bar\tMe:\t 0.0 bar\n",
      "4 1.0 24.530954813053 0.00062523376 0.0\n",
      "Co:\t 0.0 bar\tMe:\t 0.0 bar\n",
      "5 1.0 29.901067177067922 0.00078338576 0.0\n",
      "Co:\t 0.0 bar\tMe:\t 0.0 bar\n",
      "6 1.0 34.21711334523681 0.00090724584 0.0\n",
      "Co:\t 0.0 bar\tMe:\t 0.0 bar\n",
      "7 1.0 39.032427902450465 0.00107121088 0.0\n",
      "Co:\t 0.0 bar\tMe:\t 0.0 bar\n",
      "8 1.0 43.723261612607416 0.00121027376 0.0\n",
      "Co:\t 0.0 bar\tMe:\t 0.0 bar\n",
      "9 1.0 49.379725553508756 0.00140505784 0.0\n",
      "Co:\t 0.0 bar\tMe:\t 0.0 bar\n",
      "10 1.0 52.11917073347362 0.0015319560000000001 0.0\n",
      "Co:\t 0.0 bar\tMe:\t 0.0 bar\n",
      "11 1.0 57.19939144630692 0.00171515328 0.0\n",
      "Co:\t 0.0 bar\tMe:\t 0.0 bar\n",
      "12 1.0 63.684052527131875 0.00193946168 0.0\n",
      "Co:\t 0.0 bar\tMe:\t 0.0 bar\n",
      "13 1.0 65.89163976702493 0.00209090968 0.0\n",
      "Co:\t 0.0 bar\tMe:\t 0.0 bar\n",
      "14 1.0 68.05763704765396 0.00218138992 0.0\n",
      "Co:\t 0.0 bar\tMe:\t 0.0 bar\n",
      "15 1.0 75.07132582698878 0.0025731907200000005 0.0\n",
      "Co:\t 0.0 bar\tMe:\t 0.0 bar\n",
      "16 1.0 77.34451604925263 0.00265546768 0.0\n",
      "Co:\t 0.0 bar\tMe:\t 0.0 bar\n",
      "17 1.0 84.28486281818536 0.00281022104 0.0\n",
      "Co:\t 0.0 bar\tMe:\t 0.0 bar\n",
      "18 1.0 82.26746766614332 0.0028119372 0.0\n",
      "Co:\t 0.0 bar\tMe:\t 0.0 bar\n",
      "19 1.0 86.73975775653943 0.00298216744 0.0\n",
      "Co:\t 0.0 bar\tMe:\t 0.0 bar\n",
      "20 1.0 85.38512281588467 0.00298760256 0.0\n",
      "Co:\t 0.0 bar\tMe:\t 0.0 bar\n",
      "21 1.0 88.73728831550798 0.0031675652 0.0\n",
      "Co:\t 0.0 bar\tMe:\t 0.0 bar\n",
      "22 1.0 84.00165466321212 0.00307300328 0.0\n",
      "Co:\t 0.0 bar\tMe:\t 0.0 bar\n",
      "23 1.0 95.0815750448572 0.0032838635999999995 0.0\n",
      "Co:\t 0.0 bar\tMe:\t 0.0 bar\n",
      "24 1.0 98.38048656253454 0.00370275488 0.0\n",
      "Co:\t 0.0 bar\tMe:\t 0.0 bar\n",
      "25 1.0 100.07498008384582 0.00355270768 0.0\n",
      "Co:\t 0.0 bar\tMe:\t 0.0 bar\n",
      "26 1.0 105.7879703733071 0.0037883864799999997 0.0\n",
      "Co:\t 0.0 bar\tMe:\t 0.0 bar\n",
      "27 1.0 99.18494204846611 0.00358262072 0.0\n",
      "Co:\t 0.0 bar\tMe:\t 0.0 bar\n",
      "28 1.0 103.5960310842361 0.0038850391200000002 0.0\n",
      "Co:\t 0.0 bar\tMe:\t 0.0 bar\n",
      "29 1.0 103.07668427528222 0.00392879456 0.0\n",
      "Co:\t 0.0 bar\tMe:\t 0.0 bar\n",
      "30 1.0 118.13173793742821 0.004074266159999999 0.0\n",
      "Co:\t 0.0 bar\tMe:\t 0.0 bar\n",
      "31 1.0 108.76282007183659 0.0039586572 0.0\n",
      "Co:\t 0.0 bar\tMe:\t 0.0 bar\n",
      "32 1.0 113.83115323366772 0.00415726048 0.0\n",
      "Co:\t 0.0 bar\tMe:\t 0.0 bar\n"
     ]
    }
   ],
   "source": [
    "filename = \"pure_co2_lj4.csv\"\n",
    "data_dump = pd.read_csv(filename).copy()\n",
    "\n",
    "for i in range(data_dump.shape[0]):\n",
    "    if np.isnan( data_dump.ycf[i]):\n",
    "        yco = data_dump.yc0[i]\n",
    "        P_res = data_dump.P0[i]*10**5 #[Pa]\n",
    "        T = 45 + 273.15 #K\n",
    "        fco, fme = PR_Fugacity( P_res/10**5, T, yco )\n",
    "        fco = fco*10**5\n",
    "        fme = fme*10**5\n",
    "\n",
    "        print( \"Co:\\t\", round( fme/10**5, 1 ), \"bar\\tMe:\\t\", round( fme/10**5, 1 ), \"bar\")\n",
    "\n",
    "        s_box = 50\n",
    "        N_max = 50000\n",
    "        Vol = s_box**3\n",
    "        kb = 1.3806*10**(7) #[Pa*A^3/K]\n",
    "        Nco = floor(fco*Vol/kb/T)\n",
    "        Nme = floor(fme*Vol/kb/T)\n",
    "        Nc = 0\n",
    "        rc = s_box\n",
    "        beta = 1/T\n",
    "        zz_co = beta*fco\n",
    "        zz_me = beta*fme\n",
    "        delta = 1\n",
    "        pi_move = 0.5\n",
    "\n",
    "        N_moves = 100\n",
    "        N_equil = 6000\n",
    "        N_prod = 1000\n",
    "\n",
    "        rhocov,rhomev,Env,Pv,Ncov, Nmev = mc_run()\n",
    "        Nco = Ncov.mean()\n",
    "        Nme = Nmev.mean()\n",
    "        data_dump.ycf[i] = Nco/(Nco + Nme)\n",
    "        data_dump.Pf[i] = Pv.mean()*10 #[bar]\n",
    "        data_dump.rhoco[i] = rhocov.mean()\n",
    "        data_dump.rhome[i] = rhomev.mean()\n",
    "        print( i, data_dump.ycf[i],  data_dump.Pf[i], data_dump.rhoco[i], data_dump.rhome[i] )\n",
    "        #filename = \"../data_output/yco\" + str(yco) + \"P\" + str(P) + \"/run\" + str(i) + \".csv\"\n",
    "        data_dump.to_csv( filename, index = False)"
   ]
  },
  {
   "cell_type": "code",
   "execution_count": null,
   "metadata": {},
   "outputs": [],
   "source": []
  }
 ],
 "metadata": {
  "kernelspec": {
   "display_name": "Python 3.7.3",
   "language": "python",
   "name": "python3"
  },
  "language_info": {
   "codemirror_mode": {
    "name": "ipython",
    "version": 3
   },
   "file_extension": ".py",
   "mimetype": "text/x-python",
   "name": "python",
   "nbconvert_exporter": "python",
   "pygments_lexer": "ipython3",
   "version": "3.7.3"
  }
 },
 "nbformat": 4,
 "nbformat_minor": 4
}
