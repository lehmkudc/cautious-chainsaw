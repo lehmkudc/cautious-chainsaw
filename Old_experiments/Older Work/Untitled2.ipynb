{
 "cells": [
  {
   "cell_type": "code",
   "execution_count": 2,
   "metadata": {},
   "outputs": [],
   "source": [
    "from random import random, seed, randrange\n",
    "from math import floor, pi\n",
    "import matplotlib.pyplot as plt\n",
    "import numpy as np\n",
    "import os\n",
    "from time import time\n",
    "import pandas as pd\n",
    "from scipy.integrate import simps, trapz, cumtrapz"
   ]
  },
  {
   "cell_type": "code",
   "execution_count": 3,
   "metadata": {},
   "outputs": [],
   "source": [
    "Tc_co = 304.2 #K\n",
    "Tc_me = 190.6 #K\n",
    "Pc_co = 73.76 #bar\n",
    "Pc_me = 46 #bar\n",
    "ohm_co = 0.225\n",
    "ohm_me = 0.008\n",
    "Tb_co = 194.7 #K\n",
    "Tb_me = 111.7 #K\n",
    "\n",
    "R = .08314 #L*bar/mol/K"
   ]
  },
  {
   "cell_type": "code",
   "execution_count": 4,
   "metadata": {},
   "outputs": [],
   "source": [
    "P_res = 100 #bar\n",
    "T = 318.15 #K\n",
    "yco = 0.5"
   ]
  },
  {
   "cell_type": "code",
   "execution_count": 5,
   "metadata": {},
   "outputs": [],
   "source": [
    "def kappa(ohm):\n",
    "    return 0.37464 + 1.5422*ohm - 0.26992*ohm**2\n",
    "\n",
    "def alpha(kappa, Tc, T):\n",
    "    return ( 1 + kappa*(1 - np.sqrt(T/Tc) ) )**2\n",
    "\n",
    "def a( Tc, Pc, alpha, P_res, T ):\n",
    "    R = .08314 #L*bar/mol/K\n",
    "    return 0.45724*R**2*Tc**2*alpha/Pc\n",
    "\n",
    "def A( a, P_res, T ):\n",
    "    R = .08314 #L*bar/mol/K\n",
    "    return a*P_res/R**2/T**2\n",
    "\n",
    "def b( Tc, Pc ):\n",
    "    R = .08314 #L*bar/mol/K\n",
    "    return 0.07780*R*Tc/Pc\n",
    "\n",
    "def B( b, P_res, T):\n",
    "    R = .08314 #L*bar/mol/K\n",
    "    return b*P_res/R/T\n",
    "\n",
    "def solveZ( A, B ):\n",
    "    c1 = B-1\n",
    "    c2 = A - 3*B**2 - 2*B\n",
    "    c3 = B**3 + B**2 - A*B\n",
    "    roots = np.roots( [1, c1, c2, c3] )\n",
    "    for r in roots:\n",
    "        if( r.imag == 0):\n",
    "            return( r.real )\n",
    "    else:\n",
    "        stop()\n"
   ]
  },
  {
   "cell_type": "code",
   "execution_count": 6,
   "metadata": {},
   "outputs": [
    {
     "name": "stdout",
     "output_type": "stream",
     "text": [
      "0.8669769685040651\n",
      "0.36145721772975103\n"
     ]
    }
   ],
   "source": [
    "kappa_me = kappa( ohm_me )\n",
    "alpha_me = alpha( kappa_me, Tc_me, T)\n",
    "a_me = a( Tc_me, Pc_me, alpha_me, P_res, T )\n",
    "A_me = A( a_me, P_res, T )\n",
    "b_me = b( Tc_me, Pc_me )\n",
    "B_me = B( b_me, P_res, T)\n",
    "Z_me = solveZ( A_me, B_me)\n",
    "print( Z_me )\n",
    "\n",
    "kappa_co = kappa( ohm_co )\n",
    "alpha_co = alpha( kappa_co, Tc_co, T)\n",
    "a_co = a( Tc_co, Pc_co, alpha_co, P_res, T )\n",
    "A_co = A( a_co, P_res, T )\n",
    "b_co = b( Tc_co, Pc_co )\n",
    "B_co = B( b_co, P_res, T)\n",
    "Z_co = solveZ( A_co, B_co)\n",
    "print( Z_co )"
   ]
  },
  {
   "cell_type": "code",
   "execution_count": 7,
   "metadata": {},
   "outputs": [
    {
     "data": {
      "text/plain": [
       "0.598763228271006"
      ]
     },
     "execution_count": 7,
     "metadata": {},
     "output_type": "execute_result"
    }
   ],
   "source": [
    "a_cm = np.sqrt(a_me*a_co )\n",
    "A_cm = A( a_cm, P_res, T)\n",
    "\n",
    "a_mix = yco*yco*a_co + 2*yco*(1-yco)*a_cm + (1-yco)*a_me\n",
    "b_mix = yco*b_co + (1-yco)*b_me\n",
    "\n",
    "A_mix = A( a_mix, P_res, T )\n",
    "B_mix = B( b_mix, P_res, T )\n",
    "Z_mix = solveZ( A_mix, B_mix )\n",
    "Z_mix"
   ]
  },
  {
   "cell_type": "code",
   "execution_count": 8,
   "metadata": {},
   "outputs": [
    {
     "name": "stdout",
     "output_type": "stream",
     "text": [
      "50.41461354022311\n",
      "34.1430653822625\n"
     ]
    }
   ],
   "source": [
    "def Fi( Aii, Ajj, Aij, A_mix, Bi, B_mix, Z_mix, yi, P_res ):\n",
    "    term1 = Bi*(Z_mix - 1)/B_mix\n",
    "    term2 = np.log( Z_mix - B_mix )\n",
    "    term3 = A_mix/( 2*np.sqrt(2)*B_mix )\n",
    "    term4 = 2*( yi*Aii + (1-yi)*Aij )/A_mix - Bi/B_mix\n",
    "    term5 = (Z_mix + (1 + np.sqrt(2))*B_mix )/(Z_mix + (1 - np.sqrt(2))*B_mix )\n",
    "    term6 = term1 - term2 - term3*term4*np.log( term5 )\n",
    "    return yi*P_res*np.exp( term6 )\n",
    "\n",
    "F_me = Fi( A_me, A_co, A_cm, A_mix, B_me, B_mix, Z_mix, 1-yco, P_res)\n",
    "F_co = Fi( A_co, A_me, A_cm, A_mix, B_co, B_mix, Z_mix, yco, P_res)\n",
    "print( F_me )\n",
    "print( F_co )\n",
    "    "
   ]
  },
  {
   "cell_type": "code",
   "execution_count": 9,
   "metadata": {},
   "outputs": [
    {
     "name": "stdout",
     "output_type": "stream",
     "text": [
      "44.42385599273277\n",
      "31.220446035265052\n"
     ]
    }
   ],
   "source": [
    "def fugacity( P, yco, co2_data, me_data, species):\n",
    "    if( species == \"co2\"):\n",
    "        return np.interp( P, co2_data.P, co2_data.F)*yco\n",
    "    if( species == \"me\"):\n",
    "        return np.interp( P, me_data.P, me_data.F)*(1-yco)\n",
    "\n",
    "    \n",
    "    \n",
    "co2_data = pd.read_csv('c02.txt', sep = '\\t')\n",
    "co2_data['P'] = co2_data['Pressure (bar)']\n",
    "co2_data['T'] = co2_data['Temperature (K)']\n",
    "co2_data['V'] = co2_data['Volume (l/mol)']\n",
    "co2_data['Z'] = co2_data.V * co2_data.P/(.08314)/(318.15)\n",
    "exp = ( co2_data.Z - 1 )/co2_data.P\n",
    "integral = cumtrapz( exp, co2_data.P)\n",
    "thiele = np.exp( integral )\n",
    "thiele = np.insert(thiele, 0,1)\n",
    "co2_data['F'] = thiele*co2_data.P\n",
    "\n",
    "me_data = pd.read_csv('ch4.txt', sep = '\\t')\n",
    "me_data['P'] = me_data['Pressure (bar)']\n",
    "me_data['T'] = me_data['Temperature (K)']\n",
    "me_data['V'] = me_data['Volume (l/mol)']\n",
    "me_data['Z'] = me_data.V * me_data.P/(.08314)/(318.15)\n",
    "exp = ( me_data.Z - 1 )/me_data.P\n",
    "integral = cumtrapz( exp, me_data.P)\n",
    "thiele = np.exp( integral )\n",
    "thiele = np.insert(thiele, 0,1)\n",
    "me_data['F'] = thiele*me_data.P\n",
    "\n",
    "fco = fugacity( P_res, yco, co2_data, me_data, \"co2\")\n",
    "fme = fugacity( P_res, yco, co2_data, me_data, \"me\")\n",
    "\n",
    "print( fme )\n",
    "print( fco )"
   ]
  },
  {
   "cell_type": "code",
   "execution_count": 10,
   "metadata": {},
   "outputs": [
    {
     "name": "stdout",
     "output_type": "stream",
     "text": [
      "0.8889269971019235\n",
      "0.3339307778676421\n"
     ]
    }
   ],
   "source": [
    "print( np.interp( P_res, me_data.P, me_data.Z) )\n",
    "print( np.interp( P_res, co2_data.P, co2_data.Z) )"
   ]
  },
  {
   "cell_type": "code",
   "execution_count": 11,
   "metadata": {},
   "outputs": [
    {
     "name": "stdout",
     "output_type": "stream",
     "text": [
      "85.38299517284635\n",
      "59.417054924397775\n"
     ]
    }
   ],
   "source": [
    "def Fone( Z, A, B, P_res):\n",
    "    term1 = Z - 1 - np.log( Z - B)\n",
    "    term2 = A/( 2*np.sqrt(2)*B )\n",
    "    term3 = (Z + (1 + np.sqrt(2))*B )/(Z + (1 - np.sqrt(2))*B )\n",
    "    term4 = term1 - term2*np.log( term3 )\n",
    "    return np.exp( term4 )*P_res\n",
    "\n",
    "print( Fone( Z_me, A_me, B_me, P_res ) )\n",
    "print( Fone( Z_co, A_co, B_co, P_res ) )"
   ]
  },
  {
   "cell_type": "code",
   "execution_count": 12,
   "metadata": {},
   "outputs": [
    {
     "name": "stdout",
     "output_type": "stream",
     "text": [
      "0.548684849787577\n",
      "0.2806932732513361\n",
      "0.392443813137999\n",
      "0.4737397556415618\n"
     ]
    }
   ],
   "source": [
    "print( A_co )\n",
    "print( A_me )\n",
    "print( A_cm)\n",
    "print( A_mix )"
   ]
  },
  {
   "cell_type": "code",
   "execution_count": 13,
   "metadata": {},
   "outputs": [
    {
     "name": "stdout",
     "output_type": "stream",
     "text": [
      "0.10085233810024943\n",
      "0.10132409514243347\n",
      "0.10108821662134145\n"
     ]
    }
   ],
   "source": [
    "print( B_co )\n",
    "print( B_me )\n",
    "print( B_mix )"
   ]
  },
  {
   "cell_type": "code",
   "execution_count": 14,
   "metadata": {},
   "outputs": [
    {
     "name": "stdout",
     "output_type": "stream",
     "text": [
      "0.8669769685040651\n",
      "0.8889269971019235\n"
     ]
    }
   ],
   "source": [
    "print( Z_me )\n",
    "print( np.interp( P_res, me_data.P, me_data.Z) )"
   ]
  },
  {
   "cell_type": "code",
   "execution_count": 15,
   "metadata": {},
   "outputs": [
    {
     "name": "stdout",
     "output_type": "stream",
     "text": [
      "0.36145721772975103\n",
      "0.3339307778676421\n"
     ]
    }
   ],
   "source": [
    "print( Z_co )\n",
    "print( np.interp( P_res, co2_data.P, co2_data.Z) )"
   ]
  },
  {
   "cell_type": "code",
   "execution_count": 16,
   "metadata": {},
   "outputs": [
    {
     "name": "stdout",
     "output_type": "stream",
     "text": [
      "50.41461354022311\n",
      "42.691497586423175\n",
      "44.42385599273277\n"
     ]
    }
   ],
   "source": [
    "print( F_me )\n",
    "print( Fone( Z_me, A_me, B_me, P_res )*(1-yco) )\n",
    "print( fme )"
   ]
  },
  {
   "cell_type": "code",
   "execution_count": 17,
   "metadata": {},
   "outputs": [
    {
     "name": "stdout",
     "output_type": "stream",
     "text": [
      "34.1430653822625\n",
      "29.708527462198887\n",
      "31.220446035265052\n"
     ]
    }
   ],
   "source": [
    "print( F_co )\n",
    "print( Fone( Z_co, A_co, B_co, P_res )*yco )\n",
    "print( fco )"
   ]
  },
  {
   "cell_type": "code",
   "execution_count": 18,
   "metadata": {},
   "outputs": [],
   "source": [
    "Pv = np.linspace( 5, 200, 40 )"
   ]
  },
  {
   "cell_type": "code",
   "execution_count": null,
   "metadata": {},
   "outputs": [],
   "source": []
  },
  {
   "cell_type": "code",
   "execution_count": 36,
   "metadata": {},
   "outputs": [],
   "source": [
    "def PR_Fugacity( P_res, T, yco):\n",
    "    Tc_co = 304.2 #K\n",
    "    Tc_me = 190.6 #K\n",
    "    Pc_co = 73.76 #bar\n",
    "    Pc_me = 46 #bar\n",
    "    ohm_co = 0.225\n",
    "    ohm_me = 0.008\n",
    "    \n",
    "    kappa_me = kappa( ohm_me )\n",
    "    alpha_me = alpha( kappa_me, Tc_me, T)\n",
    "    a_me = a( Tc_me, Pc_me, alpha_me, P_res, T )\n",
    "    A_me = A( a_me, P_res, T )\n",
    "    b_me = b( Tc_me, Pc_me )\n",
    "    B_me = B( b_me, P_res, T)\n",
    "\n",
    "    kappa_co = kappa( ohm_co )\n",
    "    alpha_co = alpha( kappa_co, Tc_co, T)\n",
    "    a_co = a( Tc_co, Pc_co, alpha_co, P_res, T )\n",
    "    A_co = A( a_co, P_res, T )\n",
    "    b_co = b( Tc_co, Pc_co )\n",
    "    B_co = B( b_co, P_res, T)\n",
    "    \n",
    "    a_cm = np.sqrt(a_me*a_co )#*(1-0.0919)\n",
    "    A_cm = A( a_cm, P_res, T)\n",
    "\n",
    "    a_mix = yco*yco*a_co + 2*yco*(1-yco)*a_cm + (1-yco)*a_me\n",
    "    b_mix = yco*b_co + (1-yco)*b_me\n",
    "\n",
    "    A_mix = A( a_mix, P_res, T )\n",
    "    B_mix = B( b_mix, P_res, T )\n",
    "    Z_mix = solveZ( A_mix, B_mix )\n",
    "    \n",
    "    F_me = Fi( A_me, A_co, A_cm, A_mix, B_me, B_mix, Z_mix, 1-yco, P_res)\n",
    "    F_co = Fi( A_co, A_me, A_cm, A_mix, B_co, B_mix, Z_mix, yco, P_res)\n",
    "    \n",
    "    return F_co, F_me"
   ]
  },
  {
   "cell_type": "code",
   "execution_count": 37,
   "metadata": {},
   "outputs": [],
   "source": [
    "F_cov = np.zeros( 40 )\n",
    "F_mev = np.zeros( 40 )\n",
    "f_cov = np.zeros( 40 )\n",
    "f_mev = np.zeros( 40 )\n",
    "Pv = np.linspace( 5, 200, 40 )\n",
    "\n",
    "yco = 0.5\n",
    "\n",
    "for i in np.arange(40):\n",
    "    F_cov[i], F_mev[i] = PR_Fugacity( Pv[i], T, yco)\n",
    "    f_cov[i] = fugacity( Pv[i], yco, co2_data, me_data, \"co2\")\n",
    "    f_mev[i] = fugacity( Pv[i], yco, co2_data, me_data, \"me\")\n"
   ]
  },
  {
   "cell_type": "code",
   "execution_count": 38,
   "metadata": {},
   "outputs": [
    {
     "data": {
      "text/plain": [
       "<matplotlib.legend.Legend at 0x7f6b5be0a9b0>"
      ]
     },
     "execution_count": 38,
     "metadata": {},
     "output_type": "execute_result"
    },
    {
     "data": {
      "image/png": "[encoded data removed]",
      "text/plain": [
       "<Figure size 432x288 with 1 Axes>"
      ]
     },
     "metadata": {
      "needs_background": "light"
     },
     "output_type": "display_data"
    }
   ],
   "source": [
    "plt.plot( Pv, F_cov, label = \"CO2 PR\")\n",
    "plt.plot( Pv, F_mev, label = \"Me PR\")\n",
    "plt.plot( Pv, f_cov, label = \"CO2 exp\")\n",
    "plt.plot( Pv, f_mev, label = \"Me exp\")\n",
    "plt.legend()"
   ]
  },
  {
   "cell_type": "code",
   "execution_count": 49,
   "metadata": {},
   "outputs": [
    {
     "data": {
      "text/plain": [
       "<matplotlib.legend.Legend at 0x7f6b5b784b00>"
      ]
     },
     "execution_count": 49,
     "metadata": {},
     "output_type": "execute_result"
    },
    {
     "data": {
      "image/png": "[encoded data removed]",
      "text/plain": [
       "<Figure size 432x288 with 1 Axes>"
      ]
     },
     "metadata": {
      "needs_background": "light"
     },
     "output_type": "display_data"
    }
   ],
   "source": [
    "Pv = np.linspace( 5, 200, 40 )\n",
    "\n",
    "for yi in [0.5]:\n",
    "    F_PR_cov = np.zeros( 40 )\n",
    "    F_exp_cov = np.zeros( 40 )\n",
    "    F_PR_mev = np.zeros( 40 )\n",
    "    F_exp_mev = np.zeros( 40 )\n",
    "    for i in np.arange(40):\n",
    "        F_PR_cov[i], F_PR_mev[i] = PR_Fugacity( Pv[i], T, yi)\n",
    "        F_exp_cov[i] = fugacity( Pv[i], yi, co2_data, me_data, \"co2\")\n",
    "        F_exp_mev[i] = fugacity( Pv[i], yi, co2_data, me_data, \"me\")\n",
    "    plt.plot( Pv, F_PR_cov, color = (0,0,1), label = \"PR CO2\")\n",
    "    plt.plot( Pv, F_exp_cov, color = (0,0,0.5), label = \"exp CO2\")\n",
    "    plt.plot( Pv, F_PR_mev, color = (1,0,0), label = \"PR CH4\")\n",
    "    plt.plot( Pv, F_exp_mev, color = (0.5,0,0), label = \"exp CH4\")    \n",
    "    \n",
    "plt.legend()\n",
    "    "
   ]
  },
  {
   "cell_type": "code",
   "execution_count": null,
   "metadata": {},
   "outputs": [],
   "source": []
  }
 ],
 "metadata": {
  "kernelspec": {
   "display_name": "Python 3.7.3",
   "language": "python",
   "name": "python3"
  },
  "language_info": {
   "codemirror_mode": {
    "name": "ipython",
    "version": 3
   },
   "file_extension": ".py",
   "mimetype": "text/x-python",
   "name": "python",
   "nbconvert_exporter": "python",
   "pygments_lexer": "ipython3",
   "version": "3.7.3"
  }
 },
 "nbformat": 4,
 "nbformat_minor": 4
}
