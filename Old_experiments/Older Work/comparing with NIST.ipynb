{
 "cells": [
  {
   "cell_type": "code",
   "execution_count": 77,
   "metadata": {},
   "outputs": [],
   "source": [
    "import pandas as pd\n",
    "import numpy as np\n",
    "import matplotlib.pyplot as plt\n",
    "from scipy.integrate import simps, trapz, cumtrapz\n",
    "%matplotlib inline"
   ]
  },
  {
   "cell_type": "code",
   "execution_count": 78,
   "metadata": {},
   "outputs": [
    {
     "data": {
      "text/html": [
       "<div>\n",
       "<style scoped>\n",
       "    .dataframe tbody tr th:only-of-type {\n",
       "        vertical-align: middle;\n",
       "    }\n",
       "\n",
       "    .dataframe tbody tr th {\n",
       "        vertical-align: top;\n",
       "    }\n",
       "\n",
       "    .dataframe thead th {\n",
       "        text-align: right;\n",
       "    }\n",
       "</style>\n",
       "<table border=\"1\" class=\"dataframe\">\n",
       "  <thead>\n",
       "    <tr style=\"text-align: right;\">\n",
       "      <th></th>\n",
       "      <th>yc0</th>\n",
       "      <th>P0</th>\n",
       "      <th>ycf</th>\n",
       "      <th>Pf</th>\n",
       "      <th>rhoco</th>\n",
       "      <th>rhome</th>\n",
       "    </tr>\n",
       "  </thead>\n",
       "  <tbody>\n",
       "    <tr>\n",
       "      <th>0</th>\n",
       "      <td>0.0</td>\n",
       "      <td>4.9</td>\n",
       "      <td>0.0</td>\n",
       "      <td>4.918986</td>\n",
       "      <td>0.0</td>\n",
       "      <td>0.000113</td>\n",
       "    </tr>\n",
       "    <tr>\n",
       "      <th>1</th>\n",
       "      <td>0.0</td>\n",
       "      <td>10.0</td>\n",
       "      <td>0.0</td>\n",
       "      <td>10.112816</td>\n",
       "      <td>0.0</td>\n",
       "      <td>0.000233</td>\n",
       "    </tr>\n",
       "    <tr>\n",
       "      <th>2</th>\n",
       "      <td>0.0</td>\n",
       "      <td>19.8</td>\n",
       "      <td>0.0</td>\n",
       "      <td>20.809083</td>\n",
       "      <td>0.0</td>\n",
       "      <td>0.000486</td>\n",
       "    </tr>\n",
       "    <tr>\n",
       "      <th>3</th>\n",
       "      <td>0.0</td>\n",
       "      <td>30.1</td>\n",
       "      <td>0.0</td>\n",
       "      <td>31.075349</td>\n",
       "      <td>0.0</td>\n",
       "      <td>0.000732</td>\n",
       "    </tr>\n",
       "    <tr>\n",
       "      <th>4</th>\n",
       "      <td>0.0</td>\n",
       "      <td>40.2</td>\n",
       "      <td>0.0</td>\n",
       "      <td>43.026626</td>\n",
       "      <td>0.0</td>\n",
       "      <td>0.001029</td>\n",
       "    </tr>\n",
       "  </tbody>\n",
       "</table>\n",
       "</div>"
      ],
      "text/plain": [
       "   yc0    P0  ycf         Pf  rhoco     rhome\n",
       "0  0.0   4.9  0.0   4.918986    0.0  0.000113\n",
       "1  0.0  10.0  0.0  10.112816    0.0  0.000233\n",
       "2  0.0  19.8  0.0  20.809083    0.0  0.000486\n",
       "3  0.0  30.1  0.0  31.075349    0.0  0.000732\n",
       "4  0.0  40.2  0.0  43.026626    0.0  0.001029"
      ]
     },
     "execution_count": 78,
     "metadata": {},
     "output_type": "execute_result"
    }
   ],
   "source": [
    "sim_data = pd.read_csv('competitive_adsorption_dump.csv')\n",
    "sim_data = sim_data.loc[ sim_data.Pf > 0 ]\n",
    "sim_data.head()"
   ]
  },
  {
   "cell_type": "code",
   "execution_count": 79,
   "metadata": {},
   "outputs": [
    {
     "data": {
      "text/html": [
       "<div>\n",
       "<style scoped>\n",
       "    .dataframe tbody tr th:only-of-type {\n",
       "        vertical-align: middle;\n",
       "    }\n",
       "\n",
       "    .dataframe tbody tr th {\n",
       "        vertical-align: top;\n",
       "    }\n",
       "\n",
       "    .dataframe thead th {\n",
       "        text-align: right;\n",
       "    }\n",
       "</style>\n",
       "<table border=\"1\" class=\"dataframe\">\n",
       "  <thead>\n",
       "    <tr style=\"text-align: right;\">\n",
       "      <th></th>\n",
       "      <th>yc0</th>\n",
       "      <th>P0</th>\n",
       "      <th>ycf</th>\n",
       "      <th>Pf</th>\n",
       "      <th>rhoco</th>\n",
       "      <th>rhome</th>\n",
       "    </tr>\n",
       "  </thead>\n",
       "  <tbody>\n",
       "    <tr>\n",
       "      <th>0</th>\n",
       "      <td>0.0</td>\n",
       "      <td>4.9</td>\n",
       "      <td>0.0</td>\n",
       "      <td>4.936826</td>\n",
       "      <td>0.0</td>\n",
       "      <td>0.000113</td>\n",
       "    </tr>\n",
       "    <tr>\n",
       "      <th>1</th>\n",
       "      <td>0.0</td>\n",
       "      <td>10.0</td>\n",
       "      <td>0.0</td>\n",
       "      <td>10.112764</td>\n",
       "      <td>0.0</td>\n",
       "      <td>0.000233</td>\n",
       "    </tr>\n",
       "    <tr>\n",
       "      <th>2</th>\n",
       "      <td>0.0</td>\n",
       "      <td>19.8</td>\n",
       "      <td>0.0</td>\n",
       "      <td>20.590503</td>\n",
       "      <td>0.0</td>\n",
       "      <td>0.000480</td>\n",
       "    </tr>\n",
       "    <tr>\n",
       "      <th>3</th>\n",
       "      <td>0.0</td>\n",
       "      <td>30.1</td>\n",
       "      <td>0.0</td>\n",
       "      <td>31.749469</td>\n",
       "      <td>0.0</td>\n",
       "      <td>0.000747</td>\n",
       "    </tr>\n",
       "    <tr>\n",
       "      <th>4</th>\n",
       "      <td>0.0</td>\n",
       "      <td>40.2</td>\n",
       "      <td>0.0</td>\n",
       "      <td>42.842917</td>\n",
       "      <td>0.0</td>\n",
       "      <td>0.001029</td>\n",
       "    </tr>\n",
       "  </tbody>\n",
       "</table>\n",
       "</div>"
      ],
      "text/plain": [
       "   yc0    P0  ycf         Pf  rhoco     rhome\n",
       "0  0.0   4.9  0.0   4.936826    0.0  0.000113\n",
       "1  0.0  10.0  0.0  10.112764    0.0  0.000233\n",
       "2  0.0  19.8  0.0  20.590503    0.0  0.000480\n",
       "3  0.0  30.1  0.0  31.749469    0.0  0.000747\n",
       "4  0.0  40.2  0.0  42.842917    0.0  0.001029"
      ]
     },
     "execution_count": 79,
     "metadata": {},
     "output_type": "execute_result"
    }
   ],
   "source": [
    "sim_data_high_v = pd.read_csv('competitive_adsorption_dump_higher_volume.csv')\n",
    "sim_data_high_v = sim_data_high_v.loc[ sim_data_high_v.Pf > 0 ]\n",
    "sim_data_high_v.head()"
   ]
  },
  {
   "cell_type": "code",
   "execution_count": 80,
   "metadata": {},
   "outputs": [
    {
     "data": {
      "text/html": [
       "<div>\n",
       "<style scoped>\n",
       "    .dataframe tbody tr th:only-of-type {\n",
       "        vertical-align: middle;\n",
       "    }\n",
       "\n",
       "    .dataframe tbody tr th {\n",
       "        vertical-align: top;\n",
       "    }\n",
       "\n",
       "    .dataframe thead th {\n",
       "        text-align: right;\n",
       "    }\n",
       "</style>\n",
       "<table border=\"1\" class=\"dataframe\">\n",
       "  <thead>\n",
       "    <tr style=\"text-align: right;\">\n",
       "      <th></th>\n",
       "      <th>Temperature (K)</th>\n",
       "      <th>Pressure (bar)</th>\n",
       "      <th>Density (mol/l)</th>\n",
       "      <th>Volume (l/mol)</th>\n",
       "      <th>Internal Energy (kJ/mol)</th>\n",
       "      <th>Enthalpy (kJ/mol)</th>\n",
       "      <th>Entropy (J/mol*K)</th>\n",
       "      <th>Cv (J/mol*K)</th>\n",
       "      <th>Cp (J/mol*K)</th>\n",
       "      <th>Sound Spd. (m/s)</th>\n",
       "      <th>Joule-Thomson (K/bar)</th>\n",
       "      <th>Viscosity (uPa*s)</th>\n",
       "      <th>Therm. Cond. (W/m*K)</th>\n",
       "      <th>Phase</th>\n",
       "    </tr>\n",
       "  </thead>\n",
       "  <tbody>\n",
       "    <tr>\n",
       "      <th>0</th>\n",
       "      <td>318.15</td>\n",
       "      <td>5.0</td>\n",
       "      <td>0.19293</td>\n",
       "      <td>5.18340</td>\n",
       "      <td>20.284</td>\n",
       "      <td>22.876</td>\n",
       "      <td>109.310</td>\n",
       "      <td>30.140</td>\n",
       "      <td>39.281</td>\n",
       "      <td>274.18</td>\n",
       "      <td>0.92860</td>\n",
       "      <td>15.928</td>\n",
       "      <td>0.018447</td>\n",
       "      <td>vapor</td>\n",
       "    </tr>\n",
       "    <tr>\n",
       "      <th>1</th>\n",
       "      <td>318.15</td>\n",
       "      <td>10.0</td>\n",
       "      <td>0.39422</td>\n",
       "      <td>2.53670</td>\n",
       "      <td>20.154</td>\n",
       "      <td>22.690</td>\n",
       "      <td>103.140</td>\n",
       "      <td>30.573</td>\n",
       "      <td>40.656</td>\n",
       "      <td>270.96</td>\n",
       "      <td>0.92945</td>\n",
       "      <td>15.980</td>\n",
       "      <td>0.018692</td>\n",
       "      <td>vapor</td>\n",
       "    </tr>\n",
       "    <tr>\n",
       "      <th>2</th>\n",
       "      <td>318.15</td>\n",
       "      <td>15.0</td>\n",
       "      <td>0.60480</td>\n",
       "      <td>1.65340</td>\n",
       "      <td>20.018</td>\n",
       "      <td>22.498</td>\n",
       "      <td>99.333</td>\n",
       "      <td>31.028</td>\n",
       "      <td>42.188</td>\n",
       "      <td>267.68</td>\n",
       "      <td>0.92996</td>\n",
       "      <td>16.047</td>\n",
       "      <td>0.018970</td>\n",
       "      <td>vapor</td>\n",
       "    </tr>\n",
       "    <tr>\n",
       "      <th>3</th>\n",
       "      <td>318.15</td>\n",
       "      <td>20.0</td>\n",
       "      <td>0.82579</td>\n",
       "      <td>1.21100</td>\n",
       "      <td>19.876</td>\n",
       "      <td>22.298</td>\n",
       "      <td>96.487</td>\n",
       "      <td>31.507</td>\n",
       "      <td>43.909</td>\n",
       "      <td>264.33</td>\n",
       "      <td>0.93004</td>\n",
       "      <td>16.131</td>\n",
       "      <td>0.019288</td>\n",
       "      <td>vapor</td>\n",
       "    </tr>\n",
       "    <tr>\n",
       "      <th>4</th>\n",
       "      <td>318.15</td>\n",
       "      <td>25.0</td>\n",
       "      <td>1.05850</td>\n",
       "      <td>0.94474</td>\n",
       "      <td>19.727</td>\n",
       "      <td>22.089</td>\n",
       "      <td>94.153</td>\n",
       "      <td>32.013</td>\n",
       "      <td>45.857</td>\n",
       "      <td>260.91</td>\n",
       "      <td>0.92959</td>\n",
       "      <td>16.234</td>\n",
       "      <td>0.019653</td>\n",
       "      <td>vapor</td>\n",
       "    </tr>\n",
       "  </tbody>\n",
       "</table>\n",
       "</div>"
      ],
      "text/plain": [
       "   Temperature (K)  Pressure (bar)  Density (mol/l)  Volume (l/mol)  \\\n",
       "0           318.15             5.0          0.19293         5.18340   \n",
       "1           318.15            10.0          0.39422         2.53670   \n",
       "2           318.15            15.0          0.60480         1.65340   \n",
       "3           318.15            20.0          0.82579         1.21100   \n",
       "4           318.15            25.0          1.05850         0.94474   \n",
       "\n",
       "   Internal Energy (kJ/mol)  Enthalpy (kJ/mol)  Entropy (J/mol*K)  \\\n",
       "0                    20.284             22.876            109.310   \n",
       "1                    20.154             22.690            103.140   \n",
       "2                    20.018             22.498             99.333   \n",
       "3                    19.876             22.298             96.487   \n",
       "4                    19.727             22.089             94.153   \n",
       "\n",
       "   Cv (J/mol*K)  Cp (J/mol*K)  Sound Spd. (m/s)  Joule-Thomson (K/bar)  \\\n",
       "0        30.140        39.281            274.18                0.92860   \n",
       "1        30.573        40.656            270.96                0.92945   \n",
       "2        31.028        42.188            267.68                0.92996   \n",
       "3        31.507        43.909            264.33                0.93004   \n",
       "4        32.013        45.857            260.91                0.92959   \n",
       "\n",
       "   Viscosity (uPa*s)  Therm. Cond. (W/m*K)  Phase  \n",
       "0             15.928              0.018447  vapor  \n",
       "1             15.980              0.018692  vapor  \n",
       "2             16.047              0.018970  vapor  \n",
       "3             16.131              0.019288  vapor  \n",
       "4             16.234              0.019653  vapor  "
      ]
     },
     "execution_count": 80,
     "metadata": {},
     "output_type": "execute_result"
    }
   ],
   "source": [
    "co2_data = pd.read_csv('c02.txt', sep = '\\t')\n",
    "co2_data.head()"
   ]
  },
  {
   "cell_type": "code",
   "execution_count": 81,
   "metadata": {},
   "outputs": [],
   "source": [
    "co2_data['P'] = co2_data['Pressure (bar)']\n",
    "co2_data['T'] = co2_data['Temperature (K)']\n",
    "co2_data['V'] = co2_data['Volume (l/mol)']\n",
    "co2_data['Z'] = co2_data.V * co2_data.P/(.08314)/(318.15)"
   ]
  },
  {
   "cell_type": "code",
   "execution_count": 82,
   "metadata": {},
   "outputs": [],
   "source": [
    "exp = ( co2_data.Z - 1 )/co2_data.P\n",
    "integral = cumtrapz( exp, co2_data.P)\n",
    "thiele = np.exp( integral )\n",
    "thiele = np.insert(thiele, 0,1)\n",
    "co2_data['F'] = thiele*co2_data.P"
   ]
  },
  {
   "cell_type": "code",
   "execution_count": 83,
   "metadata": {},
   "outputs": [],
   "source": [
    "a = 3.658 #bar.L^2/mol^2\n",
    "b = 0.04286 # L/mol\n",
    "R = 0.08314 # L.bar/K.mol\n",
    "T = 318.15 # K\n",
    "co2_data['Zv'] = co2_data.V/(co2_data.V - b) - a/R/T/co2_data.V"
   ]
  },
  {
   "cell_type": "code",
   "execution_count": 84,
   "metadata": {},
   "outputs": [
    {
     "data": {
      "text/plain": [
       "[<matplotlib.lines.Line2D at 0x7fc6083bfda0>]"
      ]
     },
     "execution_count": 84,
     "metadata": {},
     "output_type": "execute_result"
    },
    {
     "data": {
      "image/png": "[encoded data removed]",
      "text/plain": [
       "<Figure size 432x288 with 1 Axes>"
      ]
     },
     "metadata": {
      "needs_background": "light"
     },
     "output_type": "display_data"
    }
   ],
   "source": [
    "plt.plot( 'P', 'Z', data = co2_data.loc[ co2_data.Phase == 'vapor'], label = \"vapor\")\n",
    "plt.plot( 'P', 'Z', data = co2_data.loc[ co2_data.Phase == 'supercritical'], label = \"supercritical\")"
   ]
  },
  {
   "cell_type": "code",
   "execution_count": 85,
   "metadata": {},
   "outputs": [
    {
     "name": "stderr",
     "output_type": "stream",
     "text": [
      "/data/miniconda3/envs/python_3.7.3/lib/python3.7/site-packages/ipykernel_launcher.py:1: RuntimeWarning: Second argument 'P' is ambiguous: could be a color spec but is in data; using as data.  Either rename the entry in data or use three arguments to plot.\n",
      "  \"\"\"Entry point for launching an IPython kernel.\n"
     ]
    },
    {
     "data": {
      "text/plain": [
       "[<matplotlib.lines.Line2D at 0x7fc6081330b8>]"
      ]
     },
     "execution_count": 85,
     "metadata": {},
     "output_type": "execute_result"
    },
    {
     "data": {
      "image/png": "[encoded data removed]",
      "text/plain": [
       "<Figure size 432x288 with 1 Axes>"
      ]
     },
     "metadata": {
      "needs_background": "light"
     },
     "output_type": "display_data"
    }
   ],
   "source": [
    "plt.plot( \"F\", \"P\", data = co2_data )\n",
    "plt.plot( np.linspace(0,200,200), np.linspace( 0, 200, 200), color = \"green\", label = \"y = x\" )"
   ]
  },
  {
   "cell_type": "code",
   "execution_count": 86,
   "metadata": {},
   "outputs": [
    {
     "data": {
      "text/html": [
       "<div>\n",
       "<style scoped>\n",
       "    .dataframe tbody tr th:only-of-type {\n",
       "        vertical-align: middle;\n",
       "    }\n",
       "\n",
       "    .dataframe tbody tr th {\n",
       "        vertical-align: top;\n",
       "    }\n",
       "\n",
       "    .dataframe thead th {\n",
       "        text-align: right;\n",
       "    }\n",
       "</style>\n",
       "<table border=\"1\" class=\"dataframe\">\n",
       "  <thead>\n",
       "    <tr style=\"text-align: right;\">\n",
       "      <th></th>\n",
       "      <th>Temperature (K)</th>\n",
       "      <th>Pressure (bar)</th>\n",
       "      <th>Density (mol/l)</th>\n",
       "      <th>Volume (l/mol)</th>\n",
       "      <th>Internal Energy (kJ/mol)</th>\n",
       "      <th>Enthalpy (kJ/mol)</th>\n",
       "      <th>Entropy (J/mol*K)</th>\n",
       "      <th>Cv (J/mol*K)</th>\n",
       "      <th>Cp (J/mol*K)</th>\n",
       "      <th>Sound Spd. (m/s)</th>\n",
       "      <th>Joule-Thomson (K/bar)</th>\n",
       "      <th>Viscosity (uPa*s)</th>\n",
       "      <th>Therm. Cond. (W/m*K)</th>\n",
       "      <th>Phase</th>\n",
       "    </tr>\n",
       "  </thead>\n",
       "  <tbody>\n",
       "    <tr>\n",
       "      <th>0</th>\n",
       "      <td>318.15</td>\n",
       "      <td>5.0</td>\n",
       "      <td>0.19030</td>\n",
       "      <td>5.2549</td>\n",
       "      <td>12.639</td>\n",
       "      <td>15.266</td>\n",
       "      <td>96.023</td>\n",
       "      <td>28.254</td>\n",
       "      <td>36.900</td>\n",
       "      <td>460.93</td>\n",
       "      <td>0.37936</td>\n",
       "      <td>11.870</td>\n",
       "      <td>0.037379</td>\n",
       "      <td>vapor</td>\n",
       "    </tr>\n",
       "    <tr>\n",
       "      <th>1</th>\n",
       "      <td>318.15</td>\n",
       "      <td>10.0</td>\n",
       "      <td>0.38317</td>\n",
       "      <td>2.6098</td>\n",
       "      <td>12.586</td>\n",
       "      <td>15.196</td>\n",
       "      <td>90.096</td>\n",
       "      <td>28.320</td>\n",
       "      <td>37.309</td>\n",
       "      <td>459.86</td>\n",
       "      <td>0.37641</td>\n",
       "      <td>11.936</td>\n",
       "      <td>0.037693</td>\n",
       "      <td>vapor</td>\n",
       "    </tr>\n",
       "    <tr>\n",
       "      <th>2</th>\n",
       "      <td>318.15</td>\n",
       "      <td>15.0</td>\n",
       "      <td>0.57861</td>\n",
       "      <td>1.7283</td>\n",
       "      <td>12.533</td>\n",
       "      <td>15.126</td>\n",
       "      <td>86.559</td>\n",
       "      <td>28.386</td>\n",
       "      <td>37.730</td>\n",
       "      <td>458.88</td>\n",
       "      <td>0.37331</td>\n",
       "      <td>12.008</td>\n",
       "      <td>0.038018</td>\n",
       "      <td>vapor</td>\n",
       "    </tr>\n",
       "    <tr>\n",
       "      <th>3</th>\n",
       "      <td>318.15</td>\n",
       "      <td>20.0</td>\n",
       "      <td>0.77662</td>\n",
       "      <td>1.2876</td>\n",
       "      <td>12.480</td>\n",
       "      <td>15.055</td>\n",
       "      <td>84.001</td>\n",
       "      <td>28.452</td>\n",
       "      <td>38.163</td>\n",
       "      <td>458.00</td>\n",
       "      <td>0.37003</td>\n",
       "      <td>12.087</td>\n",
       "      <td>0.038356</td>\n",
       "      <td>vapor</td>\n",
       "    </tr>\n",
       "    <tr>\n",
       "      <th>4</th>\n",
       "      <td>318.15</td>\n",
       "      <td>25.0</td>\n",
       "      <td>0.97719</td>\n",
       "      <td>1.0233</td>\n",
       "      <td>12.426</td>\n",
       "      <td>14.984</td>\n",
       "      <td>81.978</td>\n",
       "      <td>28.518</td>\n",
       "      <td>38.607</td>\n",
       "      <td>457.21</td>\n",
       "      <td>0.36658</td>\n",
       "      <td>12.172</td>\n",
       "      <td>0.038708</td>\n",
       "      <td>vapor</td>\n",
       "    </tr>\n",
       "  </tbody>\n",
       "</table>\n",
       "</div>"
      ],
      "text/plain": [
       "   Temperature (K)  Pressure (bar)  Density (mol/l)  Volume (l/mol)  \\\n",
       "0           318.15             5.0          0.19030          5.2549   \n",
       "1           318.15            10.0          0.38317          2.6098   \n",
       "2           318.15            15.0          0.57861          1.7283   \n",
       "3           318.15            20.0          0.77662          1.2876   \n",
       "4           318.15            25.0          0.97719          1.0233   \n",
       "\n",
       "   Internal Energy (kJ/mol)  Enthalpy (kJ/mol)  Entropy (J/mol*K)  \\\n",
       "0                    12.639             15.266             96.023   \n",
       "1                    12.586             15.196             90.096   \n",
       "2                    12.533             15.126             86.559   \n",
       "3                    12.480             15.055             84.001   \n",
       "4                    12.426             14.984             81.978   \n",
       "\n",
       "   Cv (J/mol*K)  Cp (J/mol*K)  Sound Spd. (m/s)  Joule-Thomson (K/bar)  \\\n",
       "0        28.254        36.900            460.93                0.37936   \n",
       "1        28.320        37.309            459.86                0.37641   \n",
       "2        28.386        37.730            458.88                0.37331   \n",
       "3        28.452        38.163            458.00                0.37003   \n",
       "4        28.518        38.607            457.21                0.36658   \n",
       "\n",
       "   Viscosity (uPa*s)  Therm. Cond. (W/m*K)  Phase  \n",
       "0             11.870              0.037379  vapor  \n",
       "1             11.936              0.037693  vapor  \n",
       "2             12.008              0.038018  vapor  \n",
       "3             12.087              0.038356  vapor  \n",
       "4             12.172              0.038708  vapor  "
      ]
     },
     "execution_count": 86,
     "metadata": {},
     "output_type": "execute_result"
    }
   ],
   "source": [
    "me_data = pd.read_csv('ch4.txt', sep = '\\t')\n",
    "me_data.head()"
   ]
  },
  {
   "cell_type": "code",
   "execution_count": 87,
   "metadata": {},
   "outputs": [],
   "source": [
    "me_data['P'] = me_data['Pressure (bar)']\n",
    "me_data['T'] = me_data['Temperature (K)']\n",
    "me_data['V'] = me_data['Volume (l/mol)']\n",
    "me_data['Z'] = me_data.V * me_data.P/(.08314)/(318.15)"
   ]
  },
  {
   "cell_type": "code",
   "execution_count": 96,
   "metadata": {},
   "outputs": [],
   "source": [
    "exp = ( me_data.Z - 1 )/me_data.P\n",
    "integral = cumtrapz( exp, me_data.P)\n",
    "thiele = np.exp( integral )\n",
    "thiele = np.insert(thiele, 0,1)\n",
    "me_data['F'] = thiele*me_data.P"
   ]
  },
  {
   "cell_type": "code",
   "execution_count": 97,
   "metadata": {},
   "outputs": [
    {
     "name": "stderr",
     "output_type": "stream",
     "text": [
      "/data/miniconda3/envs/python_3.7.3/lib/python3.7/site-packages/ipykernel_launcher.py:1: RuntimeWarning: Second argument 'P' is ambiguous: could be a color spec but is in data; using as data.  Either rename the entry in data or use three arguments to plot.\n",
      "  \"\"\"Entry point for launching an IPython kernel.\n"
     ]
    },
    {
     "data": {
      "text/plain": [
       "[<matplotlib.lines.Line2D at 0x7fc607fe64e0>]"
      ]
     },
     "execution_count": 97,
     "metadata": {},
     "output_type": "execute_result"
    },
    {
     "data": {
      "image/png": "[encoded data removed]",
      "text/plain": [
       "<Figure size 432x288 with 1 Axes>"
      ]
     },
     "metadata": {
      "needs_background": "light"
     },
     "output_type": "display_data"
    }
   ],
   "source": [
    "plt.plot( \"F\", \"P\", data = me_data )\n",
    "plt.plot( np.linspace(0,200,200), np.linspace( 0, 200, 200), color = \"green\", label = \"y = x\" )"
   ]
  },
  {
   "cell_type": "code",
   "execution_count": 101,
   "metadata": {},
   "outputs": [
    {
     "data": {
      "text/plain": [
       "95.83375175643904"
      ]
     },
     "execution_count": 101,
     "metadata": {},
     "output_type": "execute_result"
    }
   ],
   "source": [
    "np.interp( 300, co2_data.P, co2_data.F )"
   ]
  },
  {
   "cell_type": "code",
   "execution_count": 105,
   "metadata": {},
   "outputs": [],
   "source": [
    "def fugacity( P, yco, co2_data, me_data):\n",
    "    f_co = np.interp( P, co2_data.P, co2_data.F)\n",
    "    f_me = np.interp( P, me_data.P, me_data.F)\n",
    "    f = f_co*yco + f_me*(1-yco)\n",
    "    return f"
   ]
  },
  {
   "cell_type": "code",
   "execution_count": 107,
   "metadata": {},
   "outputs": [
    {
     "data": {
      "text/plain": [
       "80.92566601098491"
      ]
     },
     "execution_count": 107,
     "metadata": {},
     "output_type": "execute_result"
    }
   ],
   "source": [
    "fugacity( 100, 0.3, co2_data, me_data)"
   ]
  },
  {
   "cell_type": "code",
   "execution_count": null,
   "metadata": {},
   "outputs": [],
   "source": []
  },
  {
   "cell_type": "code",
   "execution_count": 89,
   "metadata": {},
   "outputs": [
    {
     "data": {
      "text/plain": [
       "[<matplotlib.lines.Line2D at 0x7fc6080c7358>]"
      ]
     },
     "execution_count": 89,
     "metadata": {},
     "output_type": "execute_result"
    },
    {
     "data": {
      "image/png": "[encoded data removed]",
      "text/plain": [
       "<Figure size 432x288 with 1 Axes>"
      ]
     },
     "metadata": {
      "needs_background": "light"
     },
     "output_type": "display_data"
    }
   ],
   "source": [
    "plt.plot( 'P', 'Z', data = me_data.loc[ me_data.Phase == 'vapor'], label = \"vapor\")\n",
    "plt.plot( 'P', 'Z', data = me_data.loc[ me_data.Phase == 'supercritical'], label = \"supercritical\")"
   ]
  },
  {
   "cell_type": "code",
   "execution_count": 90,
   "metadata": {},
   "outputs": [
    {
     "data": {
      "text/html": [
       "<div>\n",
       "<style scoped>\n",
       "    .dataframe tbody tr th:only-of-type {\n",
       "        vertical-align: middle;\n",
       "    }\n",
       "\n",
       "    .dataframe tbody tr th {\n",
       "        vertical-align: top;\n",
       "    }\n",
       "\n",
       "    .dataframe thead th {\n",
       "        text-align: right;\n",
       "    }\n",
       "</style>\n",
       "<table border=\"1\" class=\"dataframe\">\n",
       "  <thead>\n",
       "    <tr style=\"text-align: right;\">\n",
       "      <th></th>\n",
       "      <th>yc0</th>\n",
       "      <th>P0</th>\n",
       "      <th>ycf</th>\n",
       "      <th>Pf</th>\n",
       "      <th>rhoco</th>\n",
       "      <th>rhome</th>\n",
       "      <th>Density (mol/l)</th>\n",
       "    </tr>\n",
       "  </thead>\n",
       "  <tbody>\n",
       "    <tr>\n",
       "      <th>20</th>\n",
       "      <td>1.0</td>\n",
       "      <td>5.1</td>\n",
       "      <td>1.0</td>\n",
       "      <td>5.256844</td>\n",
       "      <td>0.000123</td>\n",
       "      <td>0.0</td>\n",
       "      <td>0.204266</td>\n",
       "    </tr>\n",
       "    <tr>\n",
       "      <th>21</th>\n",
       "      <td>1.0</td>\n",
       "      <td>10.1</td>\n",
       "      <td>1.0</td>\n",
       "      <td>10.465727</td>\n",
       "      <td>0.000250</td>\n",
       "      <td>0.0</td>\n",
       "      <td>0.414724</td>\n",
       "    </tr>\n",
       "    <tr>\n",
       "      <th>22</th>\n",
       "      <td>1.0</td>\n",
       "      <td>14.5</td>\n",
       "      <td>1.0</td>\n",
       "      <td>15.256774</td>\n",
       "      <td>0.000374</td>\n",
       "      <td>0.0</td>\n",
       "      <td>0.621128</td>\n",
       "    </tr>\n",
       "    <tr>\n",
       "      <th>23</th>\n",
       "      <td>1.0</td>\n",
       "      <td>20.1</td>\n",
       "      <td>1.0</td>\n",
       "      <td>22.484830</td>\n",
       "      <td>0.000566</td>\n",
       "      <td>0.0</td>\n",
       "      <td>0.940404</td>\n",
       "    </tr>\n",
       "    <tr>\n",
       "      <th>24</th>\n",
       "      <td>1.0</td>\n",
       "      <td>30.2</td>\n",
       "      <td>1.0</td>\n",
       "      <td>34.807022</td>\n",
       "      <td>0.000959</td>\n",
       "      <td>0.0</td>\n",
       "      <td>1.59302</td>\n",
       "    </tr>\n",
       "  </tbody>\n",
       "</table>\n",
       "</div>"
      ],
      "text/plain": [
       "    yc0    P0  ycf         Pf     rhoco  rhome Density (mol/l)\n",
       "20  1.0   5.1  1.0   5.256844  0.000123    0.0        0.204266\n",
       "21  1.0  10.1  1.0  10.465727  0.000250    0.0        0.414724\n",
       "22  1.0  14.5  1.0  15.256774  0.000374    0.0        0.621128\n",
       "23  1.0  20.1  1.0  22.484830  0.000566    0.0        0.940404\n",
       "24  1.0  30.2  1.0  34.807022  0.000959    0.0         1.59302"
      ]
     },
     "execution_count": 90,
     "metadata": {},
     "output_type": "execute_result"
    }
   ],
   "source": [
    "co2_sim_data = sim_data.loc[ sim_data.yc0 == 1 ,].copy()\n",
    "co2_sim_data['Density (mol/l)'] = co2_sim_data.rhoco*(10**30)/(10**3)/(6.02*10**23)\n",
    "co2_sim_data.head()"
   ]
  },
  {
   "cell_type": "code",
   "execution_count": 91,
   "metadata": {},
   "outputs": [
    {
     "data": {
      "text/html": [
       "<div>\n",
       "<style scoped>\n",
       "    .dataframe tbody tr th:only-of-type {\n",
       "        vertical-align: middle;\n",
       "    }\n",
       "\n",
       "    .dataframe tbody tr th {\n",
       "        vertical-align: top;\n",
       "    }\n",
       "\n",
       "    .dataframe thead th {\n",
       "        text-align: right;\n",
       "    }\n",
       "</style>\n",
       "<table border=\"1\" class=\"dataframe\">\n",
       "  <thead>\n",
       "    <tr style=\"text-align: right;\">\n",
       "      <th></th>\n",
       "      <th>yc0</th>\n",
       "      <th>P0</th>\n",
       "      <th>ycf</th>\n",
       "      <th>Pf</th>\n",
       "      <th>rhoco</th>\n",
       "      <th>rhome</th>\n",
       "      <th>Density (mol/l)</th>\n",
       "    </tr>\n",
       "  </thead>\n",
       "  <tbody>\n",
       "    <tr>\n",
       "      <th>20</th>\n",
       "      <td>1.0</td>\n",
       "      <td>5.1</td>\n",
       "      <td>1.0</td>\n",
       "      <td>5.219509</td>\n",
       "      <td>0.000122</td>\n",
       "      <td>0.0</td>\n",
       "      <td>0.202115</td>\n",
       "    </tr>\n",
       "    <tr>\n",
       "      <th>21</th>\n",
       "      <td>1.0</td>\n",
       "      <td>10.1</td>\n",
       "      <td>1.0</td>\n",
       "      <td>10.397857</td>\n",
       "      <td>0.000248</td>\n",
       "      <td>0.0</td>\n",
       "      <td>0.411567</td>\n",
       "    </tr>\n",
       "    <tr>\n",
       "      <th>22</th>\n",
       "      <td>1.0</td>\n",
       "      <td>14.5</td>\n",
       "      <td>1.0</td>\n",
       "      <td>15.625578</td>\n",
       "      <td>0.000381</td>\n",
       "      <td>0.0</td>\n",
       "      <td>0.632826</td>\n",
       "    </tr>\n",
       "    <tr>\n",
       "      <th>23</th>\n",
       "      <td>1.0</td>\n",
       "      <td>20.1</td>\n",
       "      <td>1.0</td>\n",
       "      <td>21.634617</td>\n",
       "      <td>0.000547</td>\n",
       "      <td>0.0</td>\n",
       "      <td>0.909092</td>\n",
       "    </tr>\n",
       "    <tr>\n",
       "      <th>24</th>\n",
       "      <td>1.0</td>\n",
       "      <td>30.2</td>\n",
       "      <td>1.0</td>\n",
       "      <td>35.089005</td>\n",
       "      <td>0.000957</td>\n",
       "      <td>0.0</td>\n",
       "      <td>1.58966</td>\n",
       "    </tr>\n",
       "  </tbody>\n",
       "</table>\n",
       "</div>"
      ],
      "text/plain": [
       "    yc0    P0  ycf         Pf     rhoco  rhome Density (mol/l)\n",
       "20  1.0   5.1  1.0   5.219509  0.000122    0.0        0.202115\n",
       "21  1.0  10.1  1.0  10.397857  0.000248    0.0        0.411567\n",
       "22  1.0  14.5  1.0  15.625578  0.000381    0.0        0.632826\n",
       "23  1.0  20.1  1.0  21.634617  0.000547    0.0        0.909092\n",
       "24  1.0  30.2  1.0  35.089005  0.000957    0.0         1.58966"
      ]
     },
     "execution_count": 91,
     "metadata": {},
     "output_type": "execute_result"
    }
   ],
   "source": [
    "co2_sim_data_high_v = sim_data_high_v.loc[sim_data_high_v.yc0 == 1, ].copy()\n",
    "co2_sim_data_high_v['Density (mol/l)'] = co2_sim_data_high_v.rhoco*(10**30)/(10**3)/(6.02*10**23)\n",
    "co2_sim_data_high_v.head()"
   ]
  },
  {
   "cell_type": "code",
   "execution_count": 92,
   "metadata": {},
   "outputs": [
    {
     "data": {
      "text/plain": [
       "<matplotlib.legend.Legend at 0x7fc6080947f0>"
      ]
     },
     "execution_count": 92,
     "metadata": {},
     "output_type": "execute_result"
    },
    {
     "data": {
      "image/png": "[encoded data removed]",
      "text/plain": [
       "<Figure size 432x288 with 1 Axes>"
      ]
     },
     "metadata": {
      "needs_background": "light"
     },
     "output_type": "display_data"
    }
   ],
   "source": [
    "plt.plot(  \"Pf\", \"Density (mol/l)\", data = co2_sim_data, label =  \"Simulated\")\n",
    "plt.plot( \"Pressure (bar)\", \"Density (mol/l)\", data = co2_data, label = \"NIST\" )\n",
    "plt.plot(  \"Pf\", \"Density (mol/l)\", data = co2_sim_data_high_v, label =  \"Sim Higher V\")\n",
    "plt.title( \"Carbon Dioxide In Simulation Box vs NIST Thermophysical Properties\")\n",
    "plt.legend()"
   ]
  },
  {
   "cell_type": "code",
   "execution_count": 93,
   "metadata": {},
   "outputs": [
    {
     "data": {
      "text/html": [
       "<div>\n",
       "<style scoped>\n",
       "    .dataframe tbody tr th:only-of-type {\n",
       "        vertical-align: middle;\n",
       "    }\n",
       "\n",
       "    .dataframe tbody tr th {\n",
       "        vertical-align: top;\n",
       "    }\n",
       "\n",
       "    .dataframe thead th {\n",
       "        text-align: right;\n",
       "    }\n",
       "</style>\n",
       "<table border=\"1\" class=\"dataframe\">\n",
       "  <thead>\n",
       "    <tr style=\"text-align: right;\">\n",
       "      <th></th>\n",
       "      <th>yc0</th>\n",
       "      <th>P0</th>\n",
       "      <th>ycf</th>\n",
       "      <th>Pf</th>\n",
       "      <th>rhoco</th>\n",
       "      <th>rhome</th>\n",
       "      <th>Density (mol/l)</th>\n",
       "    </tr>\n",
       "  </thead>\n",
       "  <tbody>\n",
       "    <tr>\n",
       "      <th>0</th>\n",
       "      <td>0.0</td>\n",
       "      <td>4.9</td>\n",
       "      <td>0.0</td>\n",
       "      <td>4.918986</td>\n",
       "      <td>0.0</td>\n",
       "      <td>0.000113</td>\n",
       "      <td>0.187048</td>\n",
       "    </tr>\n",
       "    <tr>\n",
       "      <th>1</th>\n",
       "      <td>0.0</td>\n",
       "      <td>10.0</td>\n",
       "      <td>0.0</td>\n",
       "      <td>10.112816</td>\n",
       "      <td>0.0</td>\n",
       "      <td>0.000233</td>\n",
       "      <td>0.387754</td>\n",
       "    </tr>\n",
       "    <tr>\n",
       "      <th>2</th>\n",
       "      <td>0.0</td>\n",
       "      <td>19.8</td>\n",
       "      <td>0.0</td>\n",
       "      <td>20.809083</td>\n",
       "      <td>0.0</td>\n",
       "      <td>0.000486</td>\n",
       "      <td>0.806827</td>\n",
       "    </tr>\n",
       "    <tr>\n",
       "      <th>3</th>\n",
       "      <td>0.0</td>\n",
       "      <td>30.1</td>\n",
       "      <td>0.0</td>\n",
       "      <td>31.075349</td>\n",
       "      <td>0.0</td>\n",
       "      <td>0.000732</td>\n",
       "      <td>1.21645</td>\n",
       "    </tr>\n",
       "    <tr>\n",
       "      <th>4</th>\n",
       "      <td>0.0</td>\n",
       "      <td>40.2</td>\n",
       "      <td>0.0</td>\n",
       "      <td>43.026626</td>\n",
       "      <td>0.0</td>\n",
       "      <td>0.001029</td>\n",
       "      <td>1.70989</td>\n",
       "    </tr>\n",
       "  </tbody>\n",
       "</table>\n",
       "</div>"
      ],
      "text/plain": [
       "   yc0    P0  ycf         Pf  rhoco     rhome Density (mol/l)\n",
       "0  0.0   4.9  0.0   4.918986    0.0  0.000113        0.187048\n",
       "1  0.0  10.0  0.0  10.112816    0.0  0.000233        0.387754\n",
       "2  0.0  19.8  0.0  20.809083    0.0  0.000486        0.806827\n",
       "3  0.0  30.1  0.0  31.075349    0.0  0.000732         1.21645\n",
       "4  0.0  40.2  0.0  43.026626    0.0  0.001029         1.70989"
      ]
     },
     "execution_count": 93,
     "metadata": {},
     "output_type": "execute_result"
    }
   ],
   "source": [
    "me_sim_data = sim_data.loc[ sim_data.yc0 == 0 ,].copy()\n",
    "me_sim_data['Density (mol/l)'] = me_sim_data.rhome*(10**30)/(10**3)/(6.02*10**23)\n",
    "me_sim_data.head()"
   ]
  },
  {
   "cell_type": "code",
   "execution_count": 94,
   "metadata": {},
   "outputs": [
    {
     "data": {
      "text/html": [
       "<div>\n",
       "<style scoped>\n",
       "    .dataframe tbody tr th:only-of-type {\n",
       "        vertical-align: middle;\n",
       "    }\n",
       "\n",
       "    .dataframe tbody tr th {\n",
       "        vertical-align: top;\n",
       "    }\n",
       "\n",
       "    .dataframe thead th {\n",
       "        text-align: right;\n",
       "    }\n",
       "</style>\n",
       "<table border=\"1\" class=\"dataframe\">\n",
       "  <thead>\n",
       "    <tr style=\"text-align: right;\">\n",
       "      <th></th>\n",
       "      <th>yc0</th>\n",
       "      <th>P0</th>\n",
       "      <th>ycf</th>\n",
       "      <th>Pf</th>\n",
       "      <th>rhoco</th>\n",
       "      <th>rhome</th>\n",
       "      <th>Density (mol/l)</th>\n",
       "    </tr>\n",
       "  </thead>\n",
       "  <tbody>\n",
       "    <tr>\n",
       "      <th>0</th>\n",
       "      <td>0.0</td>\n",
       "      <td>4.9</td>\n",
       "      <td>0.0</td>\n",
       "      <td>4.936826</td>\n",
       "      <td>0.0</td>\n",
       "      <td>0.000113</td>\n",
       "      <td>0.187396</td>\n",
       "    </tr>\n",
       "    <tr>\n",
       "      <th>1</th>\n",
       "      <td>0.0</td>\n",
       "      <td>10.0</td>\n",
       "      <td>0.0</td>\n",
       "      <td>10.112764</td>\n",
       "      <td>0.0</td>\n",
       "      <td>0.000233</td>\n",
       "      <td>0.386454</td>\n",
       "    </tr>\n",
       "    <tr>\n",
       "      <th>2</th>\n",
       "      <td>0.0</td>\n",
       "      <td>19.8</td>\n",
       "      <td>0.0</td>\n",
       "      <td>20.590503</td>\n",
       "      <td>0.0</td>\n",
       "      <td>0.000480</td>\n",
       "      <td>0.797936</td>\n",
       "    </tr>\n",
       "    <tr>\n",
       "      <th>3</th>\n",
       "      <td>0.0</td>\n",
       "      <td>30.1</td>\n",
       "      <td>0.0</td>\n",
       "      <td>31.749469</td>\n",
       "      <td>0.0</td>\n",
       "      <td>0.000747</td>\n",
       "      <td>1.24141</td>\n",
       "    </tr>\n",
       "    <tr>\n",
       "      <th>4</th>\n",
       "      <td>0.0</td>\n",
       "      <td>40.2</td>\n",
       "      <td>0.0</td>\n",
       "      <td>42.842917</td>\n",
       "      <td>0.0</td>\n",
       "      <td>0.001029</td>\n",
       "      <td>1.70857</td>\n",
       "    </tr>\n",
       "  </tbody>\n",
       "</table>\n",
       "</div>"
      ],
      "text/plain": [
       "   yc0    P0  ycf         Pf  rhoco     rhome Density (mol/l)\n",
       "0  0.0   4.9  0.0   4.936826    0.0  0.000113        0.187396\n",
       "1  0.0  10.0  0.0  10.112764    0.0  0.000233        0.386454\n",
       "2  0.0  19.8  0.0  20.590503    0.0  0.000480        0.797936\n",
       "3  0.0  30.1  0.0  31.749469    0.0  0.000747         1.24141\n",
       "4  0.0  40.2  0.0  42.842917    0.0  0.001029         1.70857"
      ]
     },
     "execution_count": 94,
     "metadata": {},
     "output_type": "execute_result"
    }
   ],
   "source": [
    "me_sim_data_high_v = sim_data_high_v.loc[ sim_data_high_v.yc0 == 0 ,].copy()\n",
    "me_sim_data_high_v['Density (mol/l)'] = me_sim_data_high_v.rhome*(10**30)/(10**3)/(6.02*10**23)\n",
    "me_sim_data_high_v.head()"
   ]
  },
  {
   "cell_type": "code",
   "execution_count": 98,
   "metadata": {},
   "outputs": [
    {
     "data": {
      "text/plain": [
       "<matplotlib.legend.Legend at 0x7fc607f69eb8>"
      ]
     },
     "execution_count": 98,
     "metadata": {},
     "output_type": "execute_result"
    },
    {
     "data": {
      "image/png": "[encoded data removed]",
      "text/plain": [
       "<Figure size 432x288 with 1 Axes>"
      ]
     },
     "metadata": {
      "needs_background": "light"
     },
     "output_type": "display_data"
    }
   ],
   "source": [
    "plt.plot(  \"Pf\", \"Density (mol/l)\", data = me_sim_data, label = \"Simulated\")\n",
    "plt.plot( \"Pressure (bar)\", \"Density (mol/l)\", data = me_data, label = \"NIST\" )\n",
    "plt.plot(  \"Pf\", \"Density (mol/l)\", data = me_sim_data_high_v, label = \"Sim Higher V\")\n",
    "plt.title( \"Methane In Simulation Box vs NIST Thermophysical Properties\")\n",
    "plt.legend()"
   ]
  },
  {
   "cell_type": "code",
   "execution_count": 69,
   "metadata": {},
   "outputs": [
    {
     "name": "stderr",
     "output_type": "stream",
     "text": [
      "/data/miniconda3/envs/python_3.7.3/lib/python3.7/site-packages/ipykernel_launcher.py:6: RuntimeWarning: Second argument 'P' is ambiguous: could be a color spec but is in data; using as data.  Either rename the entry in data or use three arguments to plot.\n",
      "  \n"
     ]
    },
    {
     "data": {
      "text/plain": [
       "<matplotlib.legend.Legend at 0x7fc60834fd68>"
      ]
     },
     "execution_count": 69,
     "metadata": {},
     "output_type": "execute_result"
    },
    {
     "data": {
      "image/png": "[encoded data removed]",
      "text/plain": [
       "<Figure size 432x288 with 1 Axes>"
      ]
     },
     "metadata": {
      "needs_background": "light"
     },
     "output_type": "display_data"
    }
   ],
   "source": [
    "plt.plot( \"P0\", \"Pf\", data = co2_sim_data, color=\"blue\", label = \"CO2\")\n",
    "plt.plot( \"P0\", \"Pf\", data = co2_sim_data_high_v, color=\"cyan\", label = \"CO2 High V\")\n",
    "#plt.plot( \"P0\", \"Pf\", data = me_sim_data, color=\"red\", label = \"Methane\")\n",
    "#plt.plot( \"P0\", \"Pf\", data = me_sim_data_high_v, color=\"pink\", label = \"Methane High V\")\n",
    "plt.plot( np.linspace(0,200,200), np.linspace( 0, 200, 200), color = \"green\", label = \"y = x\" )\n",
    "plt.plot( \"F\", \"P\", data = co2_data, color = \"red\" )\n",
    "plt.xlabel(\"Pressure Reservoir (bar)\")\n",
    "\n",
    "plt.legend()"
   ]
  },
  {
   "cell_type": "code",
   "execution_count": 99,
   "metadata": {},
   "outputs": [
    {
     "name": "stderr",
     "output_type": "stream",
     "text": [
      "/data/miniconda3/envs/python_3.7.3/lib/python3.7/site-packages/ipykernel_launcher.py:5: RuntimeWarning: Second argument 'P' is ambiguous: could be a color spec but is in data; using as data.  Either rename the entry in data or use three arguments to plot.\n",
      "  \"\"\"\n"
     ]
    },
    {
     "data": {
      "text/plain": [
       "<matplotlib.legend.Legend at 0x7fc607edcef0>"
      ]
     },
     "execution_count": 99,
     "metadata": {},
     "output_type": "execute_result"
    },
    {
     "data": {
      "image/png": "[encoded data removed]",
      "text/plain": [
       "<Figure size 432x288 with 1 Axes>"
      ]
     },
     "metadata": {
      "needs_background": "light"
     },
     "output_type": "display_data"
    }
   ],
   "source": [
    "plt.plot( \"P0\", \"Pf\", data = me_sim_data, color=\"blue\", label = \"CO2\")\n",
    "#plt.plot( \"P0\", \"Pf\", data = me_sim_data, color=\"red\", label = \"Methane\")\n",
    "#plt.plot( \"P0\", \"Pf\", data = me_sim_data_high_v, color=\"pink\", label = \"Methane High V\")\n",
    "plt.plot( np.linspace(0,200,200), np.linspace( 0, 200, 200), color = \"green\", label = \"y = x\" )\n",
    "plt.plot( \"F\", \"P\", data = me_data, color = \"red\" )\n",
    "plt.xlabel(\"Pressure Reservoir (bar)\")\n",
    "\n",
    "plt.legend()"
   ]
  },
  {
   "cell_type": "code",
   "execution_count": 60,
   "metadata": {},
   "outputs": [],
   "source": [
    "e_co = 257.8 #[J/K]\n",
    "s_co = 3.71\n",
    "\n",
    "e_me = 147.9 # eps over kb[K]\n",
    "s_me = 3.73 # sigma [A]\n",
    "\n",
    "r = np.linspace( 3.5, 10, 1000 ) \n",
    "r_co = s_co/r\n",
    "r_me = s_me/r\n",
    "\n",
    "U_co = 4*e_co*( r_co**12 - r_co**6) #[K]\n",
    "F_co = 48*e_co*( r_co**12 - 0.5*r_co**6 )\n",
    "\n",
    "U_me = 4*e_me*( r_me**12 - r_me**6) #[K]\n",
    "F_me = 48*e_me*( r_me**12 - 0.5*r_me**6 )"
   ]
  },
  {
   "cell_type": "code",
   "execution_count": 61,
   "metadata": {},
   "outputs": [
    {
     "data": {
      "text/plain": [
       "<matplotlib.legend.Legend at 0x7fc6086e64a8>"
      ]
     },
     "execution_count": 61,
     "metadata": {},
     "output_type": "execute_result"
    },
    {
     "data": {
      "image/png": "[encoded data removed]",
      "text/plain": [
       "<Figure size 432x288 with 1 Axes>"
      ]
     },
     "metadata": {
      "needs_background": "light"
     },
     "output_type": "display_data"
    }
   ],
   "source": [
    "plt.plot( r, U_co, label = \"CO2\" )\n",
    "plt.plot( r, U_me, label = \"Methane\")\n",
    "plt.legend()"
   ]
  },
  {
   "cell_type": "code",
   "execution_count": 62,
   "metadata": {},
   "outputs": [
    {
     "data": {
      "text/plain": [
       "<matplotlib.legend.Legend at 0x7fc608639cc0>"
      ]
     },
     "execution_count": 62,
     "metadata": {},
     "output_type": "execute_result"
    },
    {
     "data": {
      "image/png": "[encoded data removed]",
      "text/plain": [
       "<Figure size 432x288 with 1 Axes>"
      ]
     },
     "metadata": {
      "needs_background": "light"
     },
     "output_type": "display_data"
    }
   ],
   "source": [
    "plt.plot( r, F_co, label = \"CO2\" )\n",
    "plt.plot( r, F_me, label = \"Methane\")\n",
    "plt.legend()"
   ]
  },
  {
   "cell_type": "code",
   "execution_count": 63,
   "metadata": {},
   "outputs": [
    {
     "data": {
      "text/html": [
       "<div>\n",
       "<style scoped>\n",
       "    .dataframe tbody tr th:only-of-type {\n",
       "        vertical-align: middle;\n",
       "    }\n",
       "\n",
       "    .dataframe tbody tr th {\n",
       "        vertical-align: top;\n",
       "    }\n",
       "\n",
       "    .dataframe thead th {\n",
       "        text-align: right;\n",
       "    }\n",
       "</style>\n",
       "<table border=\"1\" class=\"dataframe\">\n",
       "  <thead>\n",
       "    <tr style=\"text-align: right;\">\n",
       "      <th></th>\n",
       "      <th>yc0</th>\n",
       "      <th>P0</th>\n",
       "      <th>ycf</th>\n",
       "      <th>Pf</th>\n",
       "      <th>rhoco</th>\n",
       "      <th>rhome</th>\n",
       "    </tr>\n",
       "  </thead>\n",
       "  <tbody>\n",
       "    <tr>\n",
       "      <th>44</th>\n",
       "      <td>0.2</td>\n",
       "      <td>60.8</td>\n",
       "      <td>0.242605</td>\n",
       "      <td>69.866700</td>\n",
       "      <td>0.000444</td>\n",
       "      <td>0.001387</td>\n",
       "    </tr>\n",
       "    <tr>\n",
       "      <th>45</th>\n",
       "      <td>0.2</td>\n",
       "      <td>80.8</td>\n",
       "      <td>0.257017</td>\n",
       "      <td>95.204870</td>\n",
       "      <td>0.000675</td>\n",
       "      <td>0.001950</td>\n",
       "    </tr>\n",
       "    <tr>\n",
       "      <th>46</th>\n",
       "      <td>0.2</td>\n",
       "      <td>99.8</td>\n",
       "      <td>0.296752</td>\n",
       "      <td>132.182698</td>\n",
       "      <td>0.001204</td>\n",
       "      <td>0.002854</td>\n",
       "    </tr>\n",
       "    <tr>\n",
       "      <th>47</th>\n",
       "      <td>0.2</td>\n",
       "      <td>120.2</td>\n",
       "      <td>0.290302</td>\n",
       "      <td>159.702979</td>\n",
       "      <td>0.001402</td>\n",
       "      <td>0.003429</td>\n",
       "    </tr>\n",
       "    <tr>\n",
       "      <th>48</th>\n",
       "      <td>0.2</td>\n",
       "      <td>140.0</td>\n",
       "      <td>0.345737</td>\n",
       "      <td>219.957106</td>\n",
       "      <td>0.002358</td>\n",
       "      <td>0.004462</td>\n",
       "    </tr>\n",
       "  </tbody>\n",
       "</table>\n",
       "</div>"
      ],
      "text/plain": [
       "    yc0     P0       ycf          Pf     rhoco     rhome\n",
       "44  0.2   60.8  0.242605   69.866700  0.000444  0.001387\n",
       "45  0.2   80.8  0.257017   95.204870  0.000675  0.001950\n",
       "46  0.2   99.8  0.296752  132.182698  0.001204  0.002854\n",
       "47  0.2  120.2  0.290302  159.702979  0.001402  0.003429\n",
       "48  0.2  140.0  0.345737  219.957106  0.002358  0.004462"
      ]
     },
     "execution_count": 63,
     "metadata": {},
     "output_type": "execute_result"
    }
   ],
   "source": [
    "mix_data = sim_data[ (sim_data.yc0 > 0) & (sim_data.yc0 < 1) & (sim_data.Pf > 0)].copy()\n",
    "mix_data.head()"
   ]
  },
  {
   "cell_type": "code",
   "execution_count": 64,
   "metadata": {},
   "outputs": [
    {
     "data": {
      "text/html": [
       "<div>\n",
       "<style scoped>\n",
       "    .dataframe tbody tr th:only-of-type {\n",
       "        vertical-align: middle;\n",
       "    }\n",
       "\n",
       "    .dataframe tbody tr th {\n",
       "        vertical-align: top;\n",
       "    }\n",
       "\n",
       "    .dataframe thead th {\n",
       "        text-align: right;\n",
       "    }\n",
       "</style>\n",
       "<table border=\"1\" class=\"dataframe\">\n",
       "  <thead>\n",
       "    <tr style=\"text-align: right;\">\n",
       "      <th></th>\n",
       "      <th>yc0</th>\n",
       "      <th>P0</th>\n",
       "      <th>ycf</th>\n",
       "      <th>Pf</th>\n",
       "      <th>rhoco</th>\n",
       "      <th>rhome</th>\n",
       "    </tr>\n",
       "  </thead>\n",
       "  <tbody>\n",
       "    <tr>\n",
       "      <th>41</th>\n",
       "      <td>0.2</td>\n",
       "      <td>9.7</td>\n",
       "      <td>0.207987</td>\n",
       "      <td>9.678226</td>\n",
       "      <td>0.000047</td>\n",
       "      <td>0.000180</td>\n",
       "    </tr>\n",
       "    <tr>\n",
       "      <th>42</th>\n",
       "      <td>0.2</td>\n",
       "      <td>20.0</td>\n",
       "      <td>0.201016</td>\n",
       "      <td>20.922599</td>\n",
       "      <td>0.000099</td>\n",
       "      <td>0.000394</td>\n",
       "    </tr>\n",
       "    <tr>\n",
       "      <th>43</th>\n",
       "      <td>0.2</td>\n",
       "      <td>39.5</td>\n",
       "      <td>0.221721</td>\n",
       "      <td>43.180916</td>\n",
       "      <td>0.000235</td>\n",
       "      <td>0.000826</td>\n",
       "    </tr>\n",
       "    <tr>\n",
       "      <th>44</th>\n",
       "      <td>0.2</td>\n",
       "      <td>60.8</td>\n",
       "      <td>0.232390</td>\n",
       "      <td>69.185101</td>\n",
       "      <td>0.000422</td>\n",
       "      <td>0.001393</td>\n",
       "    </tr>\n",
       "    <tr>\n",
       "      <th>45</th>\n",
       "      <td>0.2</td>\n",
       "      <td>80.8</td>\n",
       "      <td>0.243459</td>\n",
       "      <td>99.218101</td>\n",
       "      <td>0.000657</td>\n",
       "      <td>0.002043</td>\n",
       "    </tr>\n",
       "  </tbody>\n",
       "</table>\n",
       "</div>"
      ],
      "text/plain": [
       "    yc0    P0       ycf         Pf     rhoco     rhome\n",
       "41  0.2   9.7  0.207987   9.678226  0.000047  0.000180\n",
       "42  0.2  20.0  0.201016  20.922599  0.000099  0.000394\n",
       "43  0.2  39.5  0.221721  43.180916  0.000235  0.000826\n",
       "44  0.2  60.8  0.232390  69.185101  0.000422  0.001393\n",
       "45  0.2  80.8  0.243459  99.218101  0.000657  0.002043"
      ]
     },
     "execution_count": 64,
     "metadata": {},
     "output_type": "execute_result"
    }
   ],
   "source": [
    "mix_data_high_v = sim_data_high_v[ (sim_data_high_v.yc0 > 0) & (sim_data_high_v.yc0 < 1) & (sim_data_high_v.Pf > 0)].copy()\n",
    "mix_data_high_v.head()"
   ]
  },
  {
   "cell_type": "code",
   "execution_count": 65,
   "metadata": {},
   "outputs": [
    {
     "data": {
      "text/plain": [
       "<matplotlib.legend.Legend at 0x7fc6085c27b8>"
      ]
     },
     "execution_count": 65,
     "metadata": {},
     "output_type": "execute_result"
    },
    {
     "data": {
      "image/png": "[encoded data removed]",
      "text/plain": [
       "<Figure size 432x288 with 1 Axes>"
      ]
     },
     "metadata": {
      "needs_background": "light"
     },
     "output_type": "display_data"
    }
   ],
   "source": [
    "for yi in [0.2, 0.4, 0.6, 0.8]:\n",
    "    select = mix_data[ mix_data.yc0 == yi]\n",
    "    plt.plot( \"Pf\", \"ycf\", data = select, label = yi )\n",
    "    plt.plot( \"Pf\", \"yc0\", data = select, label = str(yi) + \" ref\" )\n",
    "    select_high_v = mix_data_high_v[ mix_data_high_v.yc0 == yi]\n",
    "    plt.plot( \"Pf\", \"ycf\", data = select_high_v, label = str(yi) + \" high v\")\n",
    "plt.legend()"
   ]
  },
  {
   "cell_type": "code",
   "execution_count": 66,
   "metadata": {},
   "outputs": [
    {
     "data": {
      "text/plain": [
       "<matplotlib.legend.Legend at 0x7fc608561080>"
      ]
     },
     "execution_count": 66,
     "metadata": {},
     "output_type": "execute_result"
    },
    {
     "data": {
      "image/png": "[encoded data removed]",
      "text/plain": [
       "<Figure size 432x288 with 1 Axes>"
      ]
     },
     "metadata": {
      "needs_background": "light"
     },
     "output_type": "display_data"
    }
   ],
   "source": [
    "for yi in [0.2, 0.4, 0.6, 0.8]:\n",
    "    select = mix_data_high_v[ mix_data_high_v.yc0 == yi]\n",
    "    plt.plot( \"Pf\", \"ycf\", data = select, label = yi )\n",
    "    plt.plot( \"Pf\", \"yc0\", data = select, label = str(yi) + \"ref\" )\n",
    "plt.legend()"
   ]
  },
  {
   "cell_type": "code",
   "execution_count": 3,
   "metadata": {},
   "outputs": [
    {
     "data": {
      "text/html": [
       "<div>\n",
       "<style scoped>\n",
       "    .dataframe tbody tr th:only-of-type {\n",
       "        vertical-align: middle;\n",
       "    }\n",
       "\n",
       "    .dataframe tbody tr th {\n",
       "        vertical-align: top;\n",
       "    }\n",
       "\n",
       "    .dataframe thead th {\n",
       "        text-align: right;\n",
       "    }\n",
       "</style>\n",
       "<table border=\"1\" class=\"dataframe\">\n",
       "  <thead>\n",
       "    <tr style=\"text-align: right;\">\n",
       "      <th></th>\n",
       "      <th>yc0</th>\n",
       "      <th>P0</th>\n",
       "      <th>ycf</th>\n",
       "      <th>Pf</th>\n",
       "      <th>rhoco</th>\n",
       "      <th>rhome</th>\n",
       "    </tr>\n",
       "  </thead>\n",
       "  <tbody>\n",
       "    <tr>\n",
       "      <th>2</th>\n",
       "      <td>0.1</td>\n",
       "      <td>15</td>\n",
       "      <td>0.105600</td>\n",
       "      <td>14.857365</td>\n",
       "      <td>0.000038</td>\n",
       "      <td>0.000319</td>\n",
       "    </tr>\n",
       "    <tr>\n",
       "      <th>3</th>\n",
       "      <td>0.1</td>\n",
       "      <td>20</td>\n",
       "      <td>0.102893</td>\n",
       "      <td>17.861684</td>\n",
       "      <td>0.000050</td>\n",
       "      <td>0.000436</td>\n",
       "    </tr>\n",
       "    <tr>\n",
       "      <th>4</th>\n",
       "      <td>0.1</td>\n",
       "      <td>25</td>\n",
       "      <td>0.098958</td>\n",
       "      <td>26.053741</td>\n",
       "      <td>0.000061</td>\n",
       "      <td>0.000553</td>\n",
       "    </tr>\n",
       "    <tr>\n",
       "      <th>5</th>\n",
       "      <td>0.1</td>\n",
       "      <td>30</td>\n",
       "      <td>0.107771</td>\n",
       "      <td>31.570651</td>\n",
       "      <td>0.000081</td>\n",
       "      <td>0.000669</td>\n",
       "    </tr>\n",
       "    <tr>\n",
       "      <th>6</th>\n",
       "      <td>0.1</td>\n",
       "      <td>35</td>\n",
       "      <td>0.110243</td>\n",
       "      <td>37.639116</td>\n",
       "      <td>0.000100</td>\n",
       "      <td>0.000808</td>\n",
       "    </tr>\n",
       "  </tbody>\n",
       "</table>\n",
       "</div>"
      ],
      "text/plain": [
       "   yc0  P0       ycf         Pf     rhoco     rhome\n",
       "2  0.1  15  0.105600  14.857365  0.000038  0.000319\n",
       "3  0.1  20  0.102893  17.861684  0.000050  0.000436\n",
       "4  0.1  25  0.098958  26.053741  0.000061  0.000553\n",
       "5  0.1  30  0.107771  31.570651  0.000081  0.000669\n",
       "6  0.1  35  0.110243  37.639116  0.000100  0.000808"
      ]
     },
     "execution_count": 3,
     "metadata": {},
     "output_type": "execute_result"
    }
   ],
   "source": [
    "grid_data = pd.read_csv( 'mixture_grid.csv')\n",
    "grid_data = grid_data.loc[ grid_data.Pf > 0 ]\n",
    "grid_data.head()"
   ]
  },
  {
   "cell_type": "code",
   "execution_count": 8,
   "metadata": {},
   "outputs": [
    {
     "data": {
      "text/plain": [
       "<matplotlib.legend.Legend at 0x7f0128197b38>"
      ]
     },
     "execution_count": 8,
     "metadata": {},
     "output_type": "execute_result"
    },
    {
     "data": {
      "image/png": "[encoded data removed]",
      "text/plain": [
       "<Figure size 432x288 with 1 Axes>"
      ]
     },
     "metadata": {
      "needs_background": "light"
     },
     "output_type": "display_data"
    }
   ],
   "source": [
    "for yi in [0.1, 0.2, 0.3, 0.4, 0.5, 0.6, 0.7, 0.8, 0.9]:\n",
    "    select = grid_data[ grid_data.yc0 == yi]\n",
    "    plt.plot( \"Pf\", \"ycf\", data = select, label = yi )\n",
    "plt.legend()"
   ]
  },
  {
   "cell_type": "code",
   "execution_count": 114,
   "metadata": {},
   "outputs": [
    {
     "data": {
      "text/plain": [
       "<matplotlib.legend.Legend at 0x7fc6068aed30>"
      ]
     },
     "execution_count": 114,
     "metadata": {},
     "output_type": "execute_result"
    },
    {
     "data": {
      "image/png": "[encoded data removed]",
      "text/plain": [
       "<Figure size 432x288 with 1 Axes>"
      ]
     },
     "metadata": {
      "needs_background": "light"
     },
     "output_type": "display_data"
    }
   ],
   "source": [
    "for yi in [0.1, 0.2, 0.3, 0.4, 0.5, 0.6, 0.7, 0.8, 0.9]:\n",
    "    f = np.zeros( 100 )\n",
    "    P = np.linspace( 5, 400, 100)\n",
    "    for i in np.arange( 0, len(P) ):\n",
    "        f[i] = fugacity( P[i], yi, co2_data, me_data)\n",
    "    plt.plot( P, f, label = yi )\n",
    "plt.legend()"
   ]
  },
  {
   "cell_type": "code",
   "execution_count": null,
   "metadata": {},
   "outputs": [],
   "source": []
  }
 ],
 "metadata": {
  "kernelspec": {
   "display_name": "Python 3.7.3",
   "language": "python",
   "name": "python3"
  },
  "language_info": {
   "codemirror_mode": {
    "name": "ipython",
    "version": 3
   },
   "file_extension": ".py",
   "mimetype": "text/x-python",
   "name": "python",
   "nbconvert_exporter": "python",
   "pygments_lexer": "ipython3",
   "version": "3.7.3"
  }
 },
 "nbformat": 4,
 "nbformat_minor": 2
}
