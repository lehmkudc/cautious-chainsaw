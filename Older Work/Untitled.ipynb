{
 "cells": [
  {
   "cell_type": "code",
   "execution_count": 1,
   "metadata": {},
   "outputs": [],
   "source": [
    "import numpy as np\n",
    "import pandas as pd\n",
    "import matplotlib.pyplot as plt\n",
    "from scipy.integrate import simps, trapz, cumtrapz\n",
    "from scipy.ndimage.filters import gaussian_filter1d\n",
    "%matplotlib inline\n",
    "plt.rcParams['figure.figsize'] = [10, 9]"
   ]
  },
  {
   "cell_type": "code",
   "execution_count": 2,
   "metadata": {},
   "outputs": [],
   "source": [
    "co2_data = pd.read_csv('c02.txt', sep = '\\t')\n",
    "co2_data['P'] = co2_data['Pressure (bar)']\n",
    "co2_data['T'] = co2_data['Temperature (K)']\n",
    "co2_data['V'] = co2_data['Volume (l/mol)']\n",
    "co2_data['Z'] = co2_data.V * co2_data.P/(.08314)/(318.15)\n",
    "exp = ( co2_data.Z - 1 )/co2_data.P\n",
    "integral = cumtrapz( exp, co2_data.P)\n",
    "thiele = np.exp( integral )\n",
    "thiele = np.insert(thiele, 0,1)\n",
    "co2_data['F'] = thiele*co2_data.P\n",
    "\n",
    "me_data = pd.read_csv('ch4.txt', sep = '\\t')\n",
    "me_data['P'] = me_data['Pressure (bar)']\n",
    "me_data['T'] = me_data['Temperature (K)']\n",
    "me_data['V'] = me_data['Volume (l/mol)']\n",
    "me_data['Z'] = me_data.V * me_data.P/(.08314)/(318.15)\n",
    "exp = ( me_data.Z - 1 )/me_data.P\n",
    "integral = cumtrapz( exp, me_data.P)\n",
    "thiele = np.exp( integral )\n",
    "thiele = np.insert(thiele, 0,1)\n",
    "me_data['F'] = thiele*me_data.P"
   ]
  },
  {
   "cell_type": "code",
   "execution_count": 17,
   "metadata": {},
   "outputs": [],
   "source": [
    "def kappa(ohm):\n",
    "    return 0.37464 + 1.5422*ohm - 0.26992*ohm**2\n",
    "\n",
    "def alpha(kappa, Tc, T):\n",
    "    return ( 1 + kappa*(1 - np.sqrt(T/Tc) ) )**2\n",
    "\n",
    "def a( Tc, Pc, alpha, P_res, T ):\n",
    "    R = .08314 #L*bar/mol/K\n",
    "    return 0.45724*R**2*Tc**2*alpha/Pc\n",
    "\n",
    "def A( a, P_res, T ):\n",
    "    R = .08314 #L*bar/mol/K\n",
    "    return a*P_res/R**2/T**2\n",
    "\n",
    "def b( Tc, Pc ):\n",
    "    R = .08314 #L*bar/mol/K\n",
    "    return 0.07780*R*Tc/Pc\n",
    "\n",
    "def B( b, P_res, T):\n",
    "    R = .08314 #L*bar/mol/K\n",
    "    return b*P_res/R/T\n",
    "\n",
    "def solveZ( A, B ):\n",
    "    c1 = B-1\n",
    "    c2 = A - 3*B**2 - 2*B\n",
    "    c3 = B**3 + B**2 - A*B\n",
    "    roots = np.roots( [1, c1, c2, c3] )\n",
    "    for r in roots:\n",
    "        if( r.imag == 0):\n",
    "            return( r.real )\n",
    "    else:\n",
    "        stop()\n",
    "        \n",
    "        \n",
    "def Fi( Aii, Ajj, Aij, A_mix, Bi, B_mix, Z_mix, yi, P_res ):\n",
    "    term1 = Bi*(Z_mix - 1)/B_mix\n",
    "    term2 = np.log( Z_mix - B_mix )\n",
    "    term3 = A_mix/( 2*np.sqrt(2)*B_mix )\n",
    "    term4 = 2*( yi*Aii + (1-yi)*Aij )/A_mix - Bi/B_mix\n",
    "    term5 = (Z_mix + (1 + np.sqrt(2))*B_mix )/(Z_mix + (1 - np.sqrt(2))*B_mix )\n",
    "    term6 = term1 - term2 - term3*term4*np.log( term5 )\n",
    "    return yi*P_res*np.exp( term6 )\n",
    "\n",
    "def Fone( Z, A, B, P_res):\n",
    "    term1 = Z - 1 - np.log( Z - B)\n",
    "    term2 = A/( 2*np.sqrt(2)*B )\n",
    "    term3 = (Z + (1 + np.sqrt(2))*B )/(Z + (1 - np.sqrt(2))*B )\n",
    "    term4 = term1 - term2*np.log( term3 )\n",
    "    return np.exp( term4 )*P_res\n",
    "\n",
    "def PR_Fugacity( P_res, T, yco):\n",
    "    Tc_co = 304.2 #K\n",
    "    Tc_me = 190.6 #K\n",
    "    Pc_co = 73.76 #bar\n",
    "    Pc_me = 46 #bar\n",
    "    ohm_co = 0.225\n",
    "    ohm_me = 0.008\n",
    "    \n",
    "    kappa_me = kappa( ohm_me )\n",
    "    alpha_me = alpha( kappa_me, Tc_me, T)\n",
    "    a_me = a( Tc_me, Pc_me, alpha_me, P_res, T )\n",
    "    A_me = A( a_me, P_res, T )\n",
    "    b_me = b( Tc_me, Pc_me )\n",
    "    B_me = B( b_me, P_res, T)\n",
    "\n",
    "    kappa_co = kappa( ohm_co )\n",
    "    alpha_co = alpha( kappa_co, Tc_co, T)\n",
    "    a_co = a( Tc_co, Pc_co, alpha_co, P_res, T )\n",
    "    A_co = A( a_co, P_res, T )\n",
    "    b_co = b( Tc_co, Pc_co )\n",
    "    B_co = B( b_co, P_res, T)\n",
    "    \n",
    "    a_cm = np.sqrt(a_me*a_co )*(1-0.0919)\n",
    "    A_cm = A( a_cm, P_res, T)\n",
    "\n",
    "    a_mix = yco*yco*a_co + 2*yco*(1-yco)*a_cm + (1-yco)*(1-yco)*a_me\n",
    "    b_mix = yco*b_co + (1-yco)*b_me\n",
    "\n",
    "    A_mix = A( a_mix, P_res, T )\n",
    "    B_mix = B( b_mix, P_res, T )\n",
    "    Z_mix = solveZ( A_mix, B_mix )\n",
    "    \n",
    "    F_me = Fi( A_me, A_co, A_cm, A_mix, B_me, B_mix, Z_mix, 1-yco, P_res)\n",
    "    F_co = Fi( A_co, A_me, A_cm, A_mix, B_co, B_mix, Z_mix, yco, P_res)\n",
    "    \n",
    "    return F_co, F_me\n",
    "\n",
    "def PR_Fugacity_Single( P_res, T, species):\n",
    "    Tc_co = 304.2 #K\n",
    "    Tc_me = 190.6 #K\n",
    "    Pc_co = 73.76 #bar\n",
    "    Pc_me = 46 #bar\n",
    "    ohm_co = 0.225\n",
    "    ohm_me = 0.008\n",
    "    \n",
    "    if (species == \"co\"):\n",
    "        kappa_co = kappa( ohm_co )\n",
    "        alpha_co = alpha( kappa_co, Tc_co, T)\n",
    "        a_co = a( Tc_co, Pc_co, alpha_co, P_res, T )\n",
    "        A_co = A( a_co, P_res, T )\n",
    "        b_co = b( Tc_co, Pc_co )\n",
    "        B_co = B( b_co, P_res, T)\n",
    "        Z_co = solveZ( A_co, B_co )\n",
    "        return Fone( Z_co, A_co, B_co, P_res )\n",
    "        \n",
    "    elif (species == \"me\"):\n",
    "        kappa_me = kappa( ohm_me )\n",
    "        alpha_me = alpha( kappa_me, Tc_me, T)\n",
    "        a_me = a( Tc_me, Pc_me, alpha_me, P_res, T )\n",
    "        A_me = A( a_me, P_res, T )\n",
    "        b_me = b( Tc_me, Pc_me )\n",
    "        B_me = B( b_me, P_res, T)\n",
    "        Z_me = solveZ( A_me, B_me )\n",
    "        return Fone( Z_me, A_me, B_me, P_res )\n",
    "    \n",
    "    else:\n",
    "        stop(\"unknown species\")\n",
    "        "
   ]
  },
  {
   "cell_type": "code",
   "execution_count": 18,
   "metadata": {},
   "outputs": [
    {
     "name": "stdout",
     "output_type": "stream",
     "text": [
      "A_me: 0.2807\n",
      "B_me: 0.1013\n",
      "A_co: 0.5487\n",
      "B_co: 0.1009\n",
      "A_cm: 0.3564\n",
      "A_mix: 0.3855\n",
      "B_mix: 0.1011\n",
      "Z_mix: 0.7437\n"
     ]
    },
    {
     "data": {
      "text/plain": [
       "44.60154543726896"
      ]
     },
     "execution_count": 18,
     "metadata": {},
     "output_type": "execute_result"
    }
   ],
   "source": [
    "P_res = 100 #bar\n",
    "T = 318.15 #K\n",
    "yco = 0.5\n",
    "yme = 1-yco\n",
    "\n",
    "Tc_co = 304.2 #K\n",
    "Tc_me = 190.6 #K\n",
    "Pc_co = 73.76 #bar\n",
    "Pc_me = 46 #bar\n",
    "ohm_co = 0.225\n",
    "ohm_me = 0.008\n",
    "    \n",
    "kappa_me = kappa( ohm_me )\n",
    "alpha_me = alpha( kappa_me, Tc_me, T)\n",
    "a_me = a( Tc_me, Pc_me, alpha_me, P_res, T )\n",
    "A_me = A( a_me, P_res, T )\n",
    "print( \"A_me: \" +  str( round(A_me, 4) ) )\n",
    "b_me = b( Tc_me, Pc_me )\n",
    "B_me = B( b_me, P_res, T)\n",
    "print( \"B_me: \" +  str( round(B_me, 4) ) )\n",
    "\n",
    "kappa_co = kappa( ohm_co )\n",
    "alpha_co = alpha( kappa_co, Tc_co, T)\n",
    "a_co = a( Tc_co, Pc_co, alpha_co, P_res, T )\n",
    "A_co = A( a_co, P_res, T )\n",
    "print( \"A_co: \" +  str( round(A_co, 4) ) )\n",
    "b_co = b( Tc_co, Pc_co )\n",
    "B_co = B( b_co, P_res, T)\n",
    "print( \"B_co: \" +  str( round(B_co, 4) ) )\n",
    "    \n",
    "a_cm = np.sqrt(a_me*a_co )*(1-0.0919)\n",
    "A_cm = A( a_cm, P_res, T)\n",
    "print( \"A_cm: \" +  str( round(A_cm, 4) ) )\n",
    "\n",
    "a_mix = yco*yco*a_co + 2*yco*(1-yco)*a_cm + (1-yco)*(1-yco)*a_me\n",
    "b_mix = yco*b_co + (1-yco)*b_me\n",
    "\n",
    "A_mix = A( a_mix, P_res, T )\n",
    "print( \"A_mix: \" +  str( round(A_mix, 4) ) )\n",
    "B_mix = B( b_mix, P_res, T )\n",
    "print( \"B_mix: \" +  str( round(B_mix, 4) ) )\n",
    "Z_mix = solveZ( A_mix, B_mix )\n",
    "print( \"Z_mix: \" +  str( round(Z_mix, 4) ) )\n",
    "    \n",
    "F_me = Fi( A_me, A_co, A_cm, A_mix, B_me, B_mix, Z_mix, 1-yco, P_res)\n",
    "#F_co = Fi( A_co, A_me, A_cm, A_mix, B_co, B_mix, Z_mix, yco, P_res)\n",
    "\n",
    "F_me\n",
    "#print( F_me )"
   ]
  },
  {
   "cell_type": "code",
   "execution_count": 19,
   "metadata": {},
   "outputs": [
    {
     "data": {
      "text/plain": [
       "1.4073898804297278"
      ]
     },
     "execution_count": 19,
     "metadata": {},
     "output_type": "execute_result"
    }
   ],
   "source": [
    "( Z_mix + (1+np.sqrt(2))*B_mix )/( Z_mix + (1-np.sqrt(2))*B_mix)"
   ]
  },
  {
   "cell_type": "code",
   "execution_count": 20,
   "metadata": {},
   "outputs": [
    {
     "data": {
      "text/plain": [
       "<matplotlib.legend.Legend at 0x7ff56ec44128>"
      ]
     },
     "execution_count": 20,
     "metadata": {},
     "output_type": "execute_result"
    },
    {
     "data": {
      "image/png": "[encoded data removed]",
      "text/plain": [
       "<Figure size 432x288 with 1 Axes>"
      ]
     },
     "metadata": {
      "needs_background": "light"
     },
     "output_type": "display_data"
    }
   ],
   "source": [
    "# Pure Component Fugacities\n",
    "species = \"co\"\n",
    "T = 318.15 #K\n",
    "\n",
    "Pv = np.linspace( 5, 200, 40 )\n",
    "Fv_one = np.zeros( 40 )\n",
    "Fv_mix = np.zeros( 40 )\n",
    "\n",
    "for i in np.arange(40):\n",
    "    Fv_one[i] = PR_Fugacity_Single( Pv[i], T, species)\n",
    "    Fv_mix[i], _ = PR_Fugacity( Pv[i], T, 1 )\n",
    "    \n",
    "select = co2_data[ co2_data.P <= 200 ]\n",
    "plt.plot( \"P\", \"F\", data = select, label = \"Exp\", alpha = 0.5)\n",
    "plt.plot( Pv, Fv_one, label = \"single\", alpha = 0.5)\n",
    "plt.plot( Pv, Fv_mix, label = \"mix\", alpha = 0.5)\n",
    "plt.legend()"
   ]
  },
  {
   "cell_type": "code",
   "execution_count": 21,
   "metadata": {},
   "outputs": [
    {
     "data": {
      "text/plain": [
       "[<matplotlib.lines.Line2D at 0x7ff56ec1ef28>]"
      ]
     },
     "execution_count": 21,
     "metadata": {},
     "output_type": "execute_result"
    },
    {
     "data": {
      "image/png": "[encoded data removed]",
      "text/plain": [
       "<Figure size 432x288 with 1 Axes>"
      ]
     },
     "metadata": {
      "needs_background": "light"
     },
     "output_type": "display_data"
    }
   ],
   "source": [
    "# Pure Component Fugacities\n",
    "species = \"me\"\n",
    "T = 318.15 #K\n",
    "\n",
    "Pv = np.linspace( 5, 200, 40 )\n",
    "Fv_one = np.zeros( 40 )\n",
    "Fv_mix = np.zeros( 40 )\n",
    "\n",
    "for i in np.arange(40):\n",
    "    Fv_one[i] = PR_Fugacity_Single( Pv[i], T, species)\n",
    "    _ , Fv_mix[i] = PR_Fugacity( Pv[i], T, 0 )\n",
    "    \n",
    "select = me_data[ me_data.P <= 200 ]\n",
    "plt.plot( \"P\", \"F\", data = select, label = \"Exp\")\n",
    "plt.plot( Pv, Fv_one, label = \"single\")\n",
    "plt.plot( Pv, Fv_mix, label = \"mix\")"
   ]
  },
  {
   "cell_type": "code",
   "execution_count": null,
   "metadata": {},
   "outputs": [],
   "source": []
  },
  {
   "cell_type": "code",
   "execution_count": 22,
   "metadata": {},
   "outputs": [
    {
     "data": {
      "text/plain": [
       "<matplotlib.legend.Legend at 0x7ff56e6ad320>"
      ]
     },
     "execution_count": 22,
     "metadata": {},
     "output_type": "execute_result"
    },
    {
     "data": {
      "image/png": "[encoded data removed]",
      "text/plain": [
       "<Figure size 432x288 with 1 Axes>"
      ]
     },
     "metadata": {
      "needs_background": "light"
     },
     "output_type": "display_data"
    }
   ],
   "source": [
    "# Mixture Component Fugacities\n",
    "species = \"co\"\n",
    "T = 318.15 #K\n",
    "yco = 0.5\n",
    "\n",
    "Pv = np.linspace( 5, 200, 40 )\n",
    "Fv_one = np.zeros( 40 )\n",
    "Fv_mix = np.zeros( 40 )\n",
    "\n",
    "for i in np.arange(40):\n",
    "    Fv_one[i] = yco*PR_Fugacity_Single( Pv[i], T, species)\n",
    "    Fv_mix[i], _ = PR_Fugacity( Pv[i], T, yco )\n",
    "    \n",
    "select = co2_data[ co2_data.P <= 200 ]\n",
    "plt.plot( select.P, yco*select.F, label = \"Exp\", alpha = 0.5)\n",
    "plt.plot( Pv, Fv_one, label = \"single\", alpha = 0.5)\n",
    "plt.plot( Pv, Fv_mix, label = \"mix\", alpha = 0.5)\n",
    "plt.legend()"
   ]
  },
  {
   "cell_type": "code",
   "execution_count": 23,
   "metadata": {},
   "outputs": [
    {
     "data": {
      "text/plain": [
       "<matplotlib.legend.Legend at 0x7ff56e69bef0>"
      ]
     },
     "execution_count": 23,
     "metadata": {},
     "output_type": "execute_result"
    },
    {
     "data": {
      "image/png": "[encoded data removed]",
      "text/plain": [
       "<Figure size 432x288 with 1 Axes>"
      ]
     },
     "metadata": {
      "needs_background": "light"
     },
     "output_type": "display_data"
    }
   ],
   "source": [
    "# Mixture Component Fugacities\n",
    "species = \"me\"\n",
    "T = 318.15 #K\n",
    "yco = 0.5\n",
    "\n",
    "Pv = np.linspace( 5, 200, 40 )\n",
    "Fv_one = np.zeros( 40 )\n",
    "Fv_mix = np.zeros( 40 )\n",
    "\n",
    "for i in np.arange(40):\n",
    "    Fv_one[i] = (1-yco)*PR_Fugacity_Single( Pv[i], T, species)\n",
    "    _ , Fv_mix[i] = PR_Fugacity( Pv[i], T, yco )\n",
    "    \n",
    "select = me_data[ me_data.P <= 200 ]\n",
    "plt.plot( select.P, (1-yco)*select.F, label = \"Exp\", alpha = 0.5)\n",
    "plt.plot( Pv, Fv_one, label = \"single\", alpha = 0.5)\n",
    "plt.plot( Pv, Fv_mix, label = \"mix\", alpha = 0.5)\n",
    "plt.legend()"
   ]
  },
  {
   "cell_type": "code",
   "execution_count": 24,
   "metadata": {},
   "outputs": [
    {
     "data": {
      "text/plain": [
       "<matplotlib.legend.Legend at 0x7ff56e5f0748>"
      ]
     },
     "execution_count": 24,
     "metadata": {},
     "output_type": "execute_result"
    },
    {
     "data": {
      "image/png": "[encoded data removed]",
      "text/plain": [
       "<Figure size 432x288 with 1 Axes>"
      ]
     },
     "metadata": {
      "needs_background": "light"
     },
     "output_type": "display_data"
    }
   ],
   "source": [
    "yv = np.linspace( 0.05, .95, 19 )\n",
    "P = 100\n",
    "\n",
    "Fv_one = np.zeros( 19 )\n",
    "Fv_mix = np.zeros( 19 )\n",
    "\n",
    "for i in np.arange(19):\n",
    "    Fv_one[i] = yv[i]*PR_Fugacity_Single( P, T, \"co\")\n",
    "    Fv_mix[i] , _ = PR_Fugacity( P, T, yv[i] )\n",
    "\n",
    "plt.plot( yv, Fv_one, label = \"LR\" )\n",
    "plt.plot( yv, Fv_mix, label = \"EOS\")\n",
    "plt.legend()"
   ]
  },
  {
   "cell_type": "code",
   "execution_count": 25,
   "metadata": {},
   "outputs": [
    {
     "data": {
      "text/html": [
       "<div>\n",
       "<style scoped>\n",
       "    .dataframe tbody tr th:only-of-type {\n",
       "        vertical-align: middle;\n",
       "    }\n",
       "\n",
       "    .dataframe tbody tr th {\n",
       "        vertical-align: top;\n",
       "    }\n",
       "\n",
       "    .dataframe thead th {\n",
       "        text-align: right;\n",
       "    }\n",
       "</style>\n",
       "<table border=\"1\" class=\"dataframe\">\n",
       "  <thead>\n",
       "    <tr style=\"text-align: right;\">\n",
       "      <th></th>\n",
       "      <th>yco</th>\n",
       "      <th>Fco_LR</th>\n",
       "      <th>Fco_EOS</th>\n",
       "    </tr>\n",
       "  </thead>\n",
       "  <tbody>\n",
       "    <tr>\n",
       "      <th>0</th>\n",
       "      <td>0.05</td>\n",
       "      <td>2.970853</td>\n",
       "      <td>3.596332</td>\n",
       "    </tr>\n",
       "    <tr>\n",
       "      <th>1</th>\n",
       "      <td>0.10</td>\n",
       "      <td>5.941705</td>\n",
       "      <td>7.100062</td>\n",
       "    </tr>\n",
       "    <tr>\n",
       "      <th>2</th>\n",
       "      <td>0.15</td>\n",
       "      <td>8.912558</td>\n",
       "      <td>10.516253</td>\n",
       "    </tr>\n",
       "    <tr>\n",
       "      <th>3</th>\n",
       "      <td>0.20</td>\n",
       "      <td>11.883411</td>\n",
       "      <td>13.849656</td>\n",
       "    </tr>\n",
       "    <tr>\n",
       "      <th>4</th>\n",
       "      <td>0.25</td>\n",
       "      <td>14.854264</td>\n",
       "      <td>17.104747</td>\n",
       "    </tr>\n",
       "    <tr>\n",
       "      <th>5</th>\n",
       "      <td>0.30</td>\n",
       "      <td>17.825116</td>\n",
       "      <td>20.285756</td>\n",
       "    </tr>\n",
       "    <tr>\n",
       "      <th>6</th>\n",
       "      <td>0.35</td>\n",
       "      <td>20.795969</td>\n",
       "      <td>23.396694</td>\n",
       "    </tr>\n",
       "    <tr>\n",
       "      <th>7</th>\n",
       "      <td>0.40</td>\n",
       "      <td>23.766822</td>\n",
       "      <td>26.441382</td>\n",
       "    </tr>\n",
       "    <tr>\n",
       "      <th>8</th>\n",
       "      <td>0.45</td>\n",
       "      <td>26.737675</td>\n",
       "      <td>29.423481</td>\n",
       "    </tr>\n",
       "    <tr>\n",
       "      <th>9</th>\n",
       "      <td>0.50</td>\n",
       "      <td>29.708527</td>\n",
       "      <td>32.346519</td>\n",
       "    </tr>\n",
       "    <tr>\n",
       "      <th>10</th>\n",
       "      <td>0.55</td>\n",
       "      <td>32.679380</td>\n",
       "      <td>35.213931</td>\n",
       "    </tr>\n",
       "    <tr>\n",
       "      <th>11</th>\n",
       "      <td>0.60</td>\n",
       "      <td>35.650233</td>\n",
       "      <td>38.029099</td>\n",
       "    </tr>\n",
       "    <tr>\n",
       "      <th>12</th>\n",
       "      <td>0.65</td>\n",
       "      <td>38.621086</td>\n",
       "      <td>40.795420</td>\n",
       "    </tr>\n",
       "    <tr>\n",
       "      <th>13</th>\n",
       "      <td>0.70</td>\n",
       "      <td>41.591938</td>\n",
       "      <td>43.516404</td>\n",
       "    </tr>\n",
       "    <tr>\n",
       "      <th>14</th>\n",
       "      <td>0.75</td>\n",
       "      <td>44.562791</td>\n",
       "      <td>46.195866</td>\n",
       "    </tr>\n",
       "    <tr>\n",
       "      <th>15</th>\n",
       "      <td>0.80</td>\n",
       "      <td>47.533644</td>\n",
       "      <td>48.838338</td>\n",
       "    </tr>\n",
       "    <tr>\n",
       "      <th>16</th>\n",
       "      <td>0.85</td>\n",
       "      <td>50.504497</td>\n",
       "      <td>51.450160</td>\n",
       "    </tr>\n",
       "    <tr>\n",
       "      <th>17</th>\n",
       "      <td>0.90</td>\n",
       "      <td>53.475349</td>\n",
       "      <td>54.043084</td>\n",
       "    </tr>\n",
       "    <tr>\n",
       "      <th>18</th>\n",
       "      <td>0.95</td>\n",
       "      <td>56.446202</td>\n",
       "      <td>56.650458</td>\n",
       "    </tr>\n",
       "  </tbody>\n",
       "</table>\n",
       "</div>"
      ],
      "text/plain": [
       "     yco     Fco_LR    Fco_EOS\n",
       "0   0.05   2.970853   3.596332\n",
       "1   0.10   5.941705   7.100062\n",
       "2   0.15   8.912558  10.516253\n",
       "3   0.20  11.883411  13.849656\n",
       "4   0.25  14.854264  17.104747\n",
       "5   0.30  17.825116  20.285756\n",
       "6   0.35  20.795969  23.396694\n",
       "7   0.40  23.766822  26.441382\n",
       "8   0.45  26.737675  29.423481\n",
       "9   0.50  29.708527  32.346519\n",
       "10  0.55  32.679380  35.213931\n",
       "11  0.60  35.650233  38.029099\n",
       "12  0.65  38.621086  40.795420\n",
       "13  0.70  41.591938  43.516404\n",
       "14  0.75  44.562791  46.195866\n",
       "15  0.80  47.533644  48.838338\n",
       "16  0.85  50.504497  51.450160\n",
       "17  0.90  53.475349  54.043084\n",
       "18  0.95  56.446202  56.650458"
      ]
     },
     "execution_count": 25,
     "metadata": {},
     "output_type": "execute_result"
    }
   ],
   "source": [
    "compare = pd.DataFrame()\n",
    "compare['yco'] = yv\n",
    "compare['Fco_LR'] = Fv_one\n",
    "compare['Fco_EOS'] = Fv_mix\n",
    "compare"
   ]
  },
  {
   "cell_type": "code",
   "execution_count": 26,
   "metadata": {},
   "outputs": [
    {
     "data": {
      "text/plain": [
       "<matplotlib.legend.Legend at 0x7ff56e592fd0>"
      ]
     },
     "execution_count": 26,
     "metadata": {},
     "output_type": "execute_result"
    },
    {
     "data": {
      "image/png": "[encoded data removed]",
      "text/plain": [
       "<Figure size 432x288 with 1 Axes>"
      ]
     },
     "metadata": {
      "needs_background": "light"
     },
     "output_type": "display_data"
    }
   ],
   "source": [
    "yv = np.linspace( 0.05, .95, 19 )\n",
    "P = 100\n",
    "\n",
    "Fv_one = np.zeros( 19 )\n",
    "Fv_mix = np.zeros( 19 )\n",
    "\n",
    "for i in np.arange(19):\n",
    "    Fv_one[i] = (1-yv[i])*PR_Fugacity_Single( P, T, \"me\")\n",
    "    _ , Fv_mix[i] = PR_Fugacity( P, T, yv[i] )\n",
    "\n",
    "plt.plot( yv, Fv_one, label = \"LR\" )\n",
    "plt.plot( yv, Fv_mix, label = \"EOS\")\n",
    "plt.legend()"
   ]
  },
  {
   "cell_type": "code",
   "execution_count": 27,
   "metadata": {},
   "outputs": [
    {
     "data": {
      "text/html": [
       "<div>\n",
       "<style scoped>\n",
       "    .dataframe tbody tr th:only-of-type {\n",
       "        vertical-align: middle;\n",
       "    }\n",
       "\n",
       "    .dataframe tbody tr th {\n",
       "        vertical-align: top;\n",
       "    }\n",
       "\n",
       "    .dataframe thead th {\n",
       "        text-align: right;\n",
       "    }\n",
       "</style>\n",
       "<table border=\"1\" class=\"dataframe\">\n",
       "  <thead>\n",
       "    <tr style=\"text-align: right;\">\n",
       "      <th></th>\n",
       "      <th>yco</th>\n",
       "      <th>Fco_LR</th>\n",
       "      <th>Fme_LR</th>\n",
       "      <th>Fco_EOS</th>\n",
       "      <th>Fme_EOS</th>\n",
       "    </tr>\n",
       "  </thead>\n",
       "  <tbody>\n",
       "    <tr>\n",
       "      <th>0</th>\n",
       "      <td>0.05</td>\n",
       "      <td>2.970853</td>\n",
       "      <td>81.113845</td>\n",
       "      <td>3.596332</td>\n",
       "      <td>81.141594</td>\n",
       "    </tr>\n",
       "    <tr>\n",
       "      <th>1</th>\n",
       "      <td>0.10</td>\n",
       "      <td>5.941705</td>\n",
       "      <td>76.844696</td>\n",
       "      <td>7.100062</td>\n",
       "      <td>76.951935</td>\n",
       "    </tr>\n",
       "    <tr>\n",
       "      <th>2</th>\n",
       "      <td>0.15</td>\n",
       "      <td>8.912558</td>\n",
       "      <td>72.575546</td>\n",
       "      <td>10.516253</td>\n",
       "      <td>72.808414</td>\n",
       "    </tr>\n",
       "    <tr>\n",
       "      <th>3</th>\n",
       "      <td>0.20</td>\n",
       "      <td>11.883411</td>\n",
       "      <td>68.306396</td>\n",
       "      <td>13.849656</td>\n",
       "      <td>68.705414</td>\n",
       "    </tr>\n",
       "    <tr>\n",
       "      <th>4</th>\n",
       "      <td>0.25</td>\n",
       "      <td>14.854264</td>\n",
       "      <td>64.037246</td>\n",
       "      <td>17.104747</td>\n",
       "      <td>64.637234</td>\n",
       "    </tr>\n",
       "    <tr>\n",
       "      <th>5</th>\n",
       "      <td>0.30</td>\n",
       "      <td>17.825116</td>\n",
       "      <td>59.768097</td>\n",
       "      <td>20.285756</td>\n",
       "      <td>60.598011</td>\n",
       "    </tr>\n",
       "    <tr>\n",
       "      <th>6</th>\n",
       "      <td>0.35</td>\n",
       "      <td>20.795969</td>\n",
       "      <td>55.498947</td>\n",
       "      <td>23.396694</td>\n",
       "      <td>56.581624</td>\n",
       "    </tr>\n",
       "    <tr>\n",
       "      <th>7</th>\n",
       "      <td>0.40</td>\n",
       "      <td>23.766822</td>\n",
       "      <td>51.229797</td>\n",
       "      <td>26.441382</td>\n",
       "      <td>52.581570</td>\n",
       "    </tr>\n",
       "    <tr>\n",
       "      <th>8</th>\n",
       "      <td>0.45</td>\n",
       "      <td>26.737675</td>\n",
       "      <td>46.960647</td>\n",
       "      <td>29.423481</td>\n",
       "      <td>48.590807</td>\n",
       "    </tr>\n",
       "    <tr>\n",
       "      <th>9</th>\n",
       "      <td>0.50</td>\n",
       "      <td>29.708527</td>\n",
       "      <td>42.691498</td>\n",
       "      <td>32.346519</td>\n",
       "      <td>44.601545</td>\n",
       "    </tr>\n",
       "    <tr>\n",
       "      <th>10</th>\n",
       "      <td>0.55</td>\n",
       "      <td>32.679380</td>\n",
       "      <td>38.422348</td>\n",
       "      <td>35.213931</td>\n",
       "      <td>40.604954</td>\n",
       "    </tr>\n",
       "    <tr>\n",
       "      <th>11</th>\n",
       "      <td>0.60</td>\n",
       "      <td>35.650233</td>\n",
       "      <td>34.153198</td>\n",
       "      <td>38.029099</td>\n",
       "      <td>36.590729</td>\n",
       "    </tr>\n",
       "    <tr>\n",
       "      <th>12</th>\n",
       "      <td>0.65</td>\n",
       "      <td>38.621086</td>\n",
       "      <td>29.884048</td>\n",
       "      <td>40.795420</td>\n",
       "      <td>32.546450</td>\n",
       "    </tr>\n",
       "    <tr>\n",
       "      <th>13</th>\n",
       "      <td>0.70</td>\n",
       "      <td>41.591938</td>\n",
       "      <td>25.614899</td>\n",
       "      <td>43.516404</td>\n",
       "      <td>28.456531</td>\n",
       "    </tr>\n",
       "    <tr>\n",
       "      <th>14</th>\n",
       "      <td>0.75</td>\n",
       "      <td>44.562791</td>\n",
       "      <td>21.345749</td>\n",
       "      <td>46.195866</td>\n",
       "      <td>24.300415</td>\n",
       "    </tr>\n",
       "    <tr>\n",
       "      <th>15</th>\n",
       "      <td>0.80</td>\n",
       "      <td>47.533644</td>\n",
       "      <td>17.076599</td>\n",
       "      <td>48.838338</td>\n",
       "      <td>20.049140</td>\n",
       "    </tr>\n",
       "    <tr>\n",
       "      <th>16</th>\n",
       "      <td>0.85</td>\n",
       "      <td>50.504497</td>\n",
       "      <td>12.807449</td>\n",
       "      <td>51.450160</td>\n",
       "      <td>15.657920</td>\n",
       "    </tr>\n",
       "    <tr>\n",
       "      <th>17</th>\n",
       "      <td>0.90</td>\n",
       "      <td>53.475349</td>\n",
       "      <td>8.538300</td>\n",
       "      <td>54.043084</td>\n",
       "      <td>11.046708</td>\n",
       "    </tr>\n",
       "    <tr>\n",
       "      <th>18</th>\n",
       "      <td>0.95</td>\n",
       "      <td>56.446202</td>\n",
       "      <td>4.269150</td>\n",
       "      <td>56.650458</td>\n",
       "      <td>6.031977</td>\n",
       "    </tr>\n",
       "  </tbody>\n",
       "</table>\n",
       "</div>"
      ],
      "text/plain": [
       "     yco     Fco_LR     Fme_LR    Fco_EOS    Fme_EOS\n",
       "0   0.05   2.970853  81.113845   3.596332  81.141594\n",
       "1   0.10   5.941705  76.844696   7.100062  76.951935\n",
       "2   0.15   8.912558  72.575546  10.516253  72.808414\n",
       "3   0.20  11.883411  68.306396  13.849656  68.705414\n",
       "4   0.25  14.854264  64.037246  17.104747  64.637234\n",
       "5   0.30  17.825116  59.768097  20.285756  60.598011\n",
       "6   0.35  20.795969  55.498947  23.396694  56.581624\n",
       "7   0.40  23.766822  51.229797  26.441382  52.581570\n",
       "8   0.45  26.737675  46.960647  29.423481  48.590807\n",
       "9   0.50  29.708527  42.691498  32.346519  44.601545\n",
       "10  0.55  32.679380  38.422348  35.213931  40.604954\n",
       "11  0.60  35.650233  34.153198  38.029099  36.590729\n",
       "12  0.65  38.621086  29.884048  40.795420  32.546450\n",
       "13  0.70  41.591938  25.614899  43.516404  28.456531\n",
       "14  0.75  44.562791  21.345749  46.195866  24.300415\n",
       "15  0.80  47.533644  17.076599  48.838338  20.049140\n",
       "16  0.85  50.504497  12.807449  51.450160  15.657920\n",
       "17  0.90  53.475349   8.538300  54.043084  11.046708\n",
       "18  0.95  56.446202   4.269150  56.650458   6.031977"
      ]
     },
     "execution_count": 27,
     "metadata": {},
     "output_type": "execute_result"
    }
   ],
   "source": [
    "compare['Fme_LR'] = Fv_one\n",
    "compare['Fme_EOS'] = Fv_mix\n",
    "compare[['yco','Fco_LR', \"Fme_LR\", \"Fco_EOS\", \"Fme_EOS\"]]"
   ]
  },
  {
   "cell_type": "code",
   "execution_count": null,
   "metadata": {},
   "outputs": [],
   "source": []
  },
  {
   "cell_type": "code",
   "execution_count": null,
   "metadata": {},
   "outputs": [],
   "source": []
  },
  {
   "cell_type": "code",
   "execution_count": null,
   "metadata": {},
   "outputs": [],
   "source": []
  }
 ],
 "metadata": {
  "kernelspec": {
   "display_name": "Python 3.7.3",
   "language": "python",
   "name": "python3"
  },
  "language_info": {
   "codemirror_mode": {
    "name": "ipython",
    "version": 3
   },
   "file_extension": ".py",
   "mimetype": "text/x-python",
   "name": "python",
   "nbconvert_exporter": "python",
   "pygments_lexer": "ipython3",
   "version": "3.7.3"
  }
 },
 "nbformat": 4,
 "nbformat_minor": 4
}
