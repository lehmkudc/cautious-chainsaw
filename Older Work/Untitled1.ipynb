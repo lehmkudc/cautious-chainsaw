{
 "cells": [
  {
   "cell_type": "code",
   "execution_count": 4,
   "metadata": {},
   "outputs": [],
   "source": [
    "from random import random, seed, randrange\n",
    "from math import floor, pi\n",
    "import matplotlib.pyplot as plt\n",
    "import numpy as np\n",
    "import os\n",
    "from time import time\n",
    "import pandas as pd\n",
    "from scipy.integrate import simps, trapz, cumtrapz"
   ]
  },
  {
   "cell_type": "code",
   "execution_count": 1,
   "metadata": {},
   "outputs": [],
   "source": [
    "def fugacity( P, yco, co2_data, me_data, species):\n",
    "    if( species == \"co2\"):\n",
    "        return np.interp( P, co2_data.P, co2_data.F)*yco\n",
    "    if( species == \"me\"):\n",
    "        return np.interp( P, me_data.P, me_data.F)*(1-yco)"
   ]
  },
  {
   "cell_type": "code",
   "execution_count": 5,
   "metadata": {},
   "outputs": [],
   "source": [
    "co2_data = pd.read_csv('c02.txt', sep = '\\t')\n",
    "co2_data['P'] = co2_data['Pressure (bar)']\n",
    "co2_data['T'] = co2_data['Temperature (K)']\n",
    "co2_data['V'] = co2_data['Volume (l/mol)']\n",
    "co2_data['Z'] = co2_data.V * co2_data.P/(.08314)/(318.15)\n",
    "exp = ( co2_data.Z - 1 )/co2_data.P\n",
    "integral = cumtrapz( exp, co2_data.P)\n",
    "thiele = np.exp( integral )\n",
    "thiele = np.insert(thiele, 0,1)\n",
    "co2_data['F'] = thiele*co2_data.P"
   ]
  },
  {
   "cell_type": "code",
   "execution_count": 6,
   "metadata": {},
   "outputs": [],
   "source": [
    "me_data = pd.read_csv('ch4.txt', sep = '\\t')\n",
    "me_data['P'] = me_data['Pressure (bar)']\n",
    "me_data['T'] = me_data['Temperature (K)']\n",
    "me_data['V'] = me_data['Volume (l/mol)']\n",
    "me_data['Z'] = me_data.V * me_data.P/(.08314)/(318.15)\n",
    "exp = ( me_data.Z - 1 )/me_data.P\n",
    "integral = cumtrapz( exp, me_data.P)\n",
    "thiele = np.exp( integral )\n",
    "thiele = np.insert(thiele, 0,1)\n",
    "me_data['F'] = thiele*me_data.P\n"
   ]
  },
  {
   "cell_type": "code",
   "execution_count": 8,
   "metadata": {},
   "outputs": [
    {
     "data": {
      "text/plain": [
       "[<matplotlib.lines.Line2D at 0x7f5b0bccc2e8>]"
      ]
     },
     "execution_count": 8,
     "metadata": {},
     "output_type": "execute_result"
    },
    {
     "data": {
      "image/png": "[encoded data removed]",
      "text/plain": [
       "<Figure size 432x288 with 1 Axes>"
      ]
     },
     "metadata": {
      "needs_background": "light"
     },
     "output_type": "display_data"
    }
   ],
   "source": [
    "plt.plot( \"P\", \"F\", data = co2_data, color = \"blue\" )\n",
    "plt.plot( \"P\", \"F\", data = me_data, color = \"green\" )"
   ]
  },
  {
   "cell_type": "code",
   "execution_count": null,
   "metadata": {},
   "outputs": [],
   "source": []
  }
 ],
 "metadata": {
  "kernelspec": {
   "display_name": "Python 3.7.3",
   "language": "python",
   "name": "python3"
  },
  "language_info": {
   "codemirror_mode": {
    "name": "ipython",
    "version": 3
   },
   "file_extension": ".py",
   "mimetype": "text/x-python",
   "name": "python",
   "nbconvert_exporter": "python",
   "pygments_lexer": "ipython3",
   "version": "3.7.3"
  }
 },
 "nbformat": 4,
 "nbformat_minor": 4
}
