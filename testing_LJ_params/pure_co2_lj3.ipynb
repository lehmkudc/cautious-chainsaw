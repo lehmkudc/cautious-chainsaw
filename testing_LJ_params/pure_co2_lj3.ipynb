{
 "cells": [
  {
   "cell_type": "code",
   "execution_count": 1,
   "metadata": {},
   "outputs": [],
   "source": [
    "from random import random, seed, randrange\n",
    "from math import floor, pi\n",
    "import matplotlib.pyplot as plt\n",
    "import numpy as np\n",
    "import os\n",
    "from time import time\n",
    "import pandas as pd\n",
    "from scipy.integrate import simps, trapz, cumtrapz\n",
    "from scipy.ndimage.filters import gaussian_filter1d\n",
    "%matplotlib inline\n",
    "plt.rcParams['figure.figsize'] = [10, 9]"
   ]
  },
  {
   "cell_type": "code",
   "execution_count": 2,
   "metadata": {},
   "outputs": [],
   "source": [
    "%run -i '../gcmc.py'"
   ]
  },
  {
   "cell_type": "code",
   "execution_count": 3,
   "metadata": {},
   "outputs": [],
   "source": [
    "e_co = 195.2 # eps over kb[K]\n",
    "s_co = 3.941 # sigma [A]"
   ]
  },
  {
   "cell_type": "code",
   "execution_count": null,
   "metadata": {},
   "outputs": [
    {
     "name": "stdout",
     "output_type": "stream",
     "text": [
      "Co:\t 0.0 bar\tMe:\t 0.0 bar\n"
     ]
    },
    {
     "name": "stderr",
     "output_type": "stream",
     "text": [
      "../gcmc.py:36: SettingWithCopyWarning: \n",
      "A value is trying to be set on a copy of a slice from a DataFrame\n",
      "\n",
      "See the caveats in the documentation: http://pandas.pydata.org/pandas-docs/stable/indexing.html#indexing-view-versus-copy\n",
      "  \n",
      "../gcmc.py:37: SettingWithCopyWarning: \n",
      "A value is trying to be set on a copy of a slice from a DataFrame\n",
      "\n",
      "See the caveats in the documentation: http://pandas.pydata.org/pandas-docs/stable/indexing.html#indexing-view-versus-copy\n",
      "  def move(spec, o, x, y, z):\n",
      "../gcmc.py:38: SettingWithCopyWarning: \n",
      "A value is trying to be set on a copy of a slice from a DataFrame\n",
      "\n",
      "See the caveats in the documentation: http://pandas.pydata.org/pandas-docs/stable/indexing.html#indexing-view-versus-copy\n",
      "  # Carry out the \"move\" trial move\n",
      "../gcmc.py:39: SettingWithCopyWarning: \n",
      "A value is trying to be set on a copy of a slice from a DataFrame\n",
      "\n",
      "See the caveats in the documentation: http://pandas.pydata.org/pandas-docs/stable/indexing.html#indexing-view-versus-copy\n",
      "  if( spec == \"co2\"):\n"
     ]
    },
    {
     "name": "stdout",
     "output_type": "stream",
     "text": [
      "0 1.0 4.937455391395018 0.00011364911999999999 0.0\n",
      "Co:\t 0.0 bar\tMe:\t 0.0 bar\n",
      "1 1.0 9.764761230639396 0.00022912536 0.0\n",
      "Co:\t 0.0 bar\tMe:\t 0.0 bar\n",
      "2 1.0 14.641653112086646 0.00034863304 0.0\n",
      "Co:\t 0.0 bar\tMe:\t 0.0 bar\n",
      "3 1.0 19.352928382642688 0.00046582304000000003 0.0\n",
      "Co:\t 0.0 bar\tMe:\t 0.0 bar\n",
      "4 1.0 24.07096357566138 0.0005911992800000001 0.0\n",
      "Co:\t 0.0 bar\tMe:\t 0.0 bar\n",
      "5 1.0 28.697969903455537 0.00071243248 0.0\n",
      "Co:\t 0.0 bar\tMe:\t 0.0 bar\n",
      "6 1.0 33.268130940927 0.0008412643200000001 0.0\n",
      "Co:\t 0.0 bar\tMe:\t 0.0 bar\n",
      "7 1.0 37.00778687311379 0.00095889344 0.0\n",
      "Co:\t 0.0 bar\tMe:\t 0.0 bar\n",
      "8 1.0 40.43006585364558 0.00106131264 0.0\n",
      "Co:\t 0.0 bar\tMe:\t 0.0 bar\n",
      "9 1.0 44.528529967361685 0.00119301456 0.0\n",
      "Co:\t 0.0 bar\tMe:\t 0.0 bar\n",
      "10 1.0 49.45166566658717 0.0013176636799999998 0.0\n",
      "Co:\t 0.0 bar\tMe:\t 0.0 bar\n",
      "11 1.0 53.60999652939039 0.00147291104 0.0\n",
      "Co:\t 0.0 bar\tMe:\t 0.0 bar\n",
      "12 1.0 55.95757378397728 0.0015633223200000003 0.0\n",
      "Co:\t 0.0 bar\tMe:\t 0.0 bar\n",
      "13 1.0 59.83286383407021 0.0016977980000000001 0.0\n",
      "Co:\t 0.0 bar\tMe:\t 0.0 bar\n",
      "14 1.0 63.580704931203144 0.0017969188 0.0\n",
      "Co:\t 0.0 bar\tMe:\t 0.0 bar\n",
      "15 1.0 66.569943710672 0.00191372648 0.0\n",
      "Co:\t 0.0 bar\tMe:\t 0.0 bar\n",
      "16 1.0 68.28440813137502 0.00198688192 0.0\n",
      "Co:\t 0.0 bar\tMe:\t 0.0 bar\n",
      "17 1.0 70.16876190646411 0.0020875003200000004 0.0\n",
      "Co:\t 0.0 bar\tMe:\t 0.0 bar\n",
      "18 1.0 73.58976397486205 0.00218779448 0.0\n",
      "Co:\t 0.0 bar\tMe:\t 0.0 bar\n",
      "19 1.0 73.85241133659855 0.00224528792 0.0\n",
      "Co:\t 0.0 bar\tMe:\t 0.0 bar\n",
      "20 1.0 77.15027837476507 0.00238982624 0.0\n",
      "Co:\t 0.0 bar\tMe:\t 0.0 bar\n",
      "21 1.0 78.38190177607659 0.0024402131999999997 0.0\n",
      "Co:\t 0.0 bar\tMe:\t 0.0 bar\n",
      "22 1.0 77.94533376223936 0.00240823416 0.0\n",
      "Co:\t 0.0 bar\tMe:\t 0.0 bar\n",
      "23 1.0 79.61331533746304 0.00240538768 0.0\n",
      "Co:\t 0.0 bar\tMe:\t 0.0 bar\n"
     ]
    }
   ],
   "source": [
    "filename = \"pure_co2_lj3.csv\"\n",
    "data_dump = pd.read_csv(filename).copy()\n",
    "\n",
    "for i in range(data_dump.shape[0]):\n",
    "    if np.isnan( data_dump.ycf[i]):\n",
    "        yco = data_dump.yc0[i]\n",
    "        P_res = data_dump.P0[i]*10**5 #[Pa]\n",
    "        T = 45 + 273.15 #K\n",
    "        fco, fme = PR_Fugacity( P_res/10**5, T, yco )\n",
    "        fco = fco*10**5\n",
    "        fme = fme*10**5\n",
    "\n",
    "        print( \"Co:\\t\", round( fme/10**5, 1 ), \"bar\\tMe:\\t\", round( fme/10**5, 1 ), \"bar\")\n",
    "\n",
    "        s_box = 50\n",
    "        N_max = 50000\n",
    "        Vol = s_box**3\n",
    "        kb = 1.3806*10**(7) #[Pa*A^3/K]\n",
    "        Nco = floor(fco*Vol/kb/T)\n",
    "        Nme = floor(fme*Vol/kb/T)\n",
    "        Nc = 0\n",
    "        rc = s_box\n",
    "        beta = 1/T\n",
    "        zz_co = beta*fco\n",
    "        zz_me = beta*fme\n",
    "        delta = 1\n",
    "        pi_move = 0.5\n",
    "\n",
    "        N_moves = 100\n",
    "        N_equil = 6000\n",
    "        N_prod = 1000\n",
    "\n",
    "        rhocov,rhomev,Env,Pv,Ncov, Nmev = mc_run()\n",
    "        Nco = Ncov.mean()\n",
    "        Nme = Nmev.mean()\n",
    "        data_dump.ycf[i] = Nco/(Nco + Nme)\n",
    "        data_dump.Pf[i] = Pv.mean()*10 #[bar]\n",
    "        data_dump.rhoco[i] = rhocov.mean()\n",
    "        data_dump.rhome[i] = rhomev.mean()\n",
    "        print( i, data_dump.ycf[i],  data_dump.Pf[i], data_dump.rhoco[i], data_dump.rhome[i] )\n",
    "        #filename = \"../data_output/yco\" + str(yco) + \"P\" + str(P) + \"/run\" + str(i) + \".csv\"\n",
    "        data_dump.to_csv( filename, index = False)"
   ]
  },
  {
   "cell_type": "code",
   "execution_count": null,
   "metadata": {},
   "outputs": [],
   "source": []
  }
 ],
 "metadata": {
  "kernelspec": {
   "display_name": "Python 3.7.3",
   "language": "python",
   "name": "python3"
  },
  "language_info": {
   "codemirror_mode": {
    "name": "ipython",
    "version": 3
   },
   "file_extension": ".py",
   "mimetype": "text/x-python",
   "name": "python",
   "nbconvert_exporter": "python",
   "pygments_lexer": "ipython3",
   "version": "3.7.3"
  }
 },
 "nbformat": 4,
 "nbformat_minor": 4
}
