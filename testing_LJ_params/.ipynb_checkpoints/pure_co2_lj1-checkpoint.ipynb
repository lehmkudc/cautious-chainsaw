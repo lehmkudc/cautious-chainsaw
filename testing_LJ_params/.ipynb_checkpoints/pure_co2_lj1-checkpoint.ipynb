{
 "cells": [
  {
   "cell_type": "code",
   "execution_count": 1,
   "metadata": {},
   "outputs": [],
   "source": [
    "from random import random, seed, randrange\n",
    "from math import floor, pi\n",
    "import matplotlib.pyplot as plt\n",
    "import numpy as np\n",
    "import os\n",
    "from time import time\n",
    "import pandas as pd\n",
    "from scipy.integrate import simps, trapz, cumtrapz\n",
    "from scipy.ndimage.filters import gaussian_filter1d\n",
    "%matplotlib inline\n",
    "plt.rcParams['figure.figsize'] = [10, 9]"
   ]
  },
  {
   "cell_type": "code",
   "execution_count": 2,
   "metadata": {},
   "outputs": [],
   "source": [
    "%run -i '../gcmc.py'"
   ]
  },
  {
   "cell_type": "code",
   "execution_count": 3,
   "metadata": {},
   "outputs": [],
   "source": [
    "e_co = 242.0 # eps over kb[K]\n",
    "s_co = 3.615 # sigma [A]"
   ]
  },
  {
   "cell_type": "code",
   "execution_count": null,
   "metadata": {},
   "outputs": [
    {
     "name": "stdout",
     "output_type": "stream",
     "text": [
      "Co:\t 0.0 bar\tMe:\t 0.0 bar\n"
     ]
    },
    {
     "name": "stderr",
     "output_type": "stream",
     "text": [
      "../gcmc.py:36: SettingWithCopyWarning: \n",
      "A value is trying to be set on a copy of a slice from a DataFrame\n",
      "\n",
      "See the caveats in the documentation: http://pandas.pydata.org/pandas-docs/stable/indexing.html#indexing-view-versus-copy\n",
      "  \n",
      "../gcmc.py:37: SettingWithCopyWarning: \n",
      "A value is trying to be set on a copy of a slice from a DataFrame\n",
      "\n",
      "See the caveats in the documentation: http://pandas.pydata.org/pandas-docs/stable/indexing.html#indexing-view-versus-copy\n",
      "  def move(spec, o, x, y, z):\n",
      "../gcmc.py:38: SettingWithCopyWarning: \n",
      "A value is trying to be set on a copy of a slice from a DataFrame\n",
      "\n",
      "See the caveats in the documentation: http://pandas.pydata.org/pandas-docs/stable/indexing.html#indexing-view-versus-copy\n",
      "  # Carry out the \"move\" trial move\n",
      "../gcmc.py:39: SettingWithCopyWarning: \n",
      "A value is trying to be set on a copy of a slice from a DataFrame\n",
      "\n",
      "See the caveats in the documentation: http://pandas.pydata.org/pandas-docs/stable/indexing.html#indexing-view-versus-copy\n",
      "  if( spec == \"co2\"):\n"
     ]
    },
    {
     "name": "stdout",
     "output_type": "stream",
     "text": [
      "0 1.0 4.991921385326052 0.00011559952 0.0\n",
      "Co:\t 0.0 bar\tMe:\t 0.0 bar\n",
      "1 1.0 9.967741877169109 0.00023590944 0.0\n",
      "Co:\t 0.0 bar\tMe:\t 0.0 bar\n",
      "2 1.0 14.774217693825808 0.0003559996 0.0\n",
      "Co:\t 0.0 bar\tMe:\t 0.0 bar\n",
      "3 1.0 19.873058428816638 0.00048576544 0.0\n",
      "Co:\t 0.0 bar\tMe:\t 0.0 bar\n",
      "4 1.0 24.358218792364422 0.00060656592 0.0\n",
      "Co:\t 0.0 bar\tMe:\t 0.0 bar\n",
      "5 1.0 29.069948726872965 0.00074557872 0.0\n",
      "Co:\t 0.0 bar\tMe:\t 0.0 bar\n",
      "6 1.0 33.88743318942027 0.0008987115999999999 0.0\n",
      "Co:\t 0.0 bar\tMe:\t 0.0 bar\n",
      "7 1.0 38.45988520394814 0.00101411664 0.0\n",
      "Co:\t 0.0 bar\tMe:\t 0.0 bar\n",
      "8 1.0 43.44773185524655 0.00118416992 0.0\n",
      "Co:\t 0.0 bar\tMe:\t 0.0 bar\n",
      "9 1.0 46.55899861074516 0.00129036504 0.0\n",
      "Co:\t 0.0 bar\tMe:\t 0.0 bar\n",
      "10 1.0 51.161716583349026 0.00148724912 0.0\n",
      "Co:\t 0.0 bar\tMe:\t 0.0 bar\n"
     ]
    }
   ],
   "source": [
    "filename = \"pure_co2_lj1.csv\"\n",
    "data_dump = pd.read_csv(filename).copy()\n",
    "\n",
    "for i in range(data_dump.shape[0]):\n",
    "    if np.isnan( data_dump.ycf[i]):\n",
    "        yco = data_dump.yc0[i]\n",
    "        P_res = data_dump.P0[i]*10**5 #[Pa]\n",
    "        T = 45 + 273.15 #K\n",
    "        fco, fme = PR_Fugacity( P_res/10**5, T, yco )\n",
    "        fco = fco*10**5\n",
    "        fme = fme*10**5\n",
    "\n",
    "        print( \"Co:\\t\", round( fme/10**5, 1 ), \"bar\\tMe:\\t\", round( fme/10**5, 1 ), \"bar\")\n",
    "\n",
    "        s_box = 50\n",
    "        N_max = 50000\n",
    "        Vol = s_box**3\n",
    "        kb = 1.3806*10**(7) #[Pa*A^3/K]\n",
    "        Nco = floor(fco*Vol/kb/T)\n",
    "        Nme = floor(fme*Vol/kb/T)\n",
    "        Nc = 0\n",
    "        rc = s_box\n",
    "        beta = 1/T\n",
    "        zz_co = beta*fco\n",
    "        zz_me = beta*fme\n",
    "        delta = 1\n",
    "        pi_move = 0.5\n",
    "\n",
    "        N_moves = 100\n",
    "        N_equil = 6000\n",
    "        N_prod = 1000\n",
    "\n",
    "        rhocov,rhomev,Env,Pv,Ncov, Nmev = mc_run()\n",
    "        Nco = Ncov.mean()\n",
    "        Nme = Nmev.mean()\n",
    "        data_dump.ycf[i] = Nco/(Nco + Nme)\n",
    "        data_dump.Pf[i] = Pv.mean()*10 #[bar]\n",
    "        data_dump.rhoco[i] = rhocov.mean()\n",
    "        data_dump.rhome[i] = rhomev.mean()\n",
    "        print( i, data_dump.ycf[i],  data_dump.Pf[i], data_dump.rhoco[i], data_dump.rhome[i] )\n",
    "        #filename = \"../data_output/yco\" + str(yco) + \"P\" + str(P) + \"/run\" + str(i) + \".csv\"\n",
    "        data_dump.to_csv( filename, index = False)"
   ]
  },
  {
   "cell_type": "code",
   "execution_count": null,
   "metadata": {},
   "outputs": [],
   "source": []
  }
 ],
 "metadata": {
  "kernelspec": {
   "display_name": "Python 3.7.3",
   "language": "python",
   "name": "python3"
  },
  "language_info": {
   "codemirror_mode": {
    "name": "ipython",
    "version": 3
   },
   "file_extension": ".py",
   "mimetype": "text/x-python",
   "name": "python",
   "nbconvert_exporter": "python",
   "pygments_lexer": "ipython3",
   "version": "3.7.3"
  }
 },
 "nbformat": 4,
 "nbformat_minor": 4
}
