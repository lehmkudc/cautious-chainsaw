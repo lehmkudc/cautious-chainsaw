{
 "cells": [
  {
   "cell_type": "code",
   "execution_count": 1,
   "metadata": {
    "execution": {
     "iopub.execute_input": "2021-02-23T00:40:15.987537Z",
     "iopub.status.busy": "2021-02-23T00:40:15.987057Z",
     "iopub.status.idle": "2021-02-23T00:40:16.629981Z",
     "shell.execute_reply": "2021-02-23T00:40:16.629454Z",
     "shell.execute_reply.started": "2021-02-23T00:40:15.987494Z"
    }
   },
   "outputs": [],
   "source": [
    "from random import random, seed, randrange\n",
    "from math import floor, pi\n",
    "import matplotlib.pyplot as plt\n",
    "import numpy as np\n",
    "import os\n",
    "from time import time\n",
    "import pandas as pd\n",
    "from scipy.integrate import simps, trapz, cumtrapz\n",
    "from scipy.ndimage.filters import gaussian_filter1d\n",
    "from time import time\n",
    "%matplotlib inline\n",
    "plt.rcParams['figure.figsize'] = [10, 9]"
   ]
  },
  {
   "cell_type": "code",
   "execution_count": 2,
   "metadata": {
    "execution": {
     "iopub.execute_input": "2021-02-23T00:40:16.631040Z",
     "iopub.status.busy": "2021-02-23T00:40:16.630814Z",
     "iopub.status.idle": "2021-02-23T00:40:16.638631Z",
     "shell.execute_reply": "2021-02-23T00:40:16.638168Z",
     "shell.execute_reply.started": "2021-02-23T00:40:16.631019Z"
    }
   },
   "outputs": [],
   "source": [
    "%run -i 'gcmc.py'"
   ]
  },
  {
   "cell_type": "code",
   "execution_count": null,
   "metadata": {
    "execution": {
     "iopub.execute_input": "2021-02-23T00:40:24.231183Z",
     "iopub.status.busy": "2021-02-23T00:40:24.230954Z"
    }
   },
   "outputs": [
    {
     "name": "stdout",
     "output_type": "stream",
     "text": [
      "Co:\t 20.0 bar\tMe:\t 20.0 bar\n"
     ]
    },
    {
     "name": "stderr",
     "output_type": "stream",
     "text": [
      "gcmc.py:39: SettingWithCopyWarning: \n",
      "A value is trying to be set on a copy of a slice from a DataFrame\n",
      "\n",
      "See the caveats in the documentation: https://pandas.pydata.org/pandas-docs/stable/user_guide/indexing.html#returning-a-view-versus-a-copy\n",
      "  if( spec == \"co2\"):\n",
      "gcmc.py:40: SettingWithCopyWarning: \n",
      "A value is trying to be set on a copy of a slice from a DataFrame\n",
      "\n",
      "See the caveats in the documentation: https://pandas.pydata.org/pandas-docs/stable/user_guide/indexing.html#returning-a-view-versus-a-copy\n",
      "  Xco[o] = x\n",
      "gcmc.py:41: SettingWithCopyWarning: \n",
      "A value is trying to be set on a copy of a slice from a DataFrame\n",
      "\n",
      "See the caveats in the documentation: https://pandas.pydata.org/pandas-docs/stable/user_guide/indexing.html#returning-a-view-versus-a-copy\n",
      "  Yco[o] = y\n",
      "gcmc.py:42: SettingWithCopyWarning: \n",
      "A value is trying to be set on a copy of a slice from a DataFrame\n",
      "\n",
      "See the caveats in the documentation: https://pandas.pydata.org/pandas-docs/stable/user_guide/indexing.html#returning-a-view-versus-a-copy\n",
      "  Zco[o] = z\n",
      "gcmc.py:43: SettingWithCopyWarning: \n",
      "A value is trying to be set on a copy of a slice from a DataFrame\n",
      "\n",
      "See the caveats in the documentation: https://pandas.pydata.org/pandas-docs/stable/user_guide/indexing.html#returning-a-view-versus-a-copy\n",
      "  \n",
      "gcmc.py:44: SettingWithCopyWarning: \n",
      "A value is trying to be set on a copy of a slice from a DataFrame\n",
      "\n",
      "See the caveats in the documentation: https://pandas.pydata.org/pandas-docs/stable/user_guide/indexing.html#returning-a-view-versus-a-copy\n",
      "  elif (spec == \"me\"):\n",
      "gcmc.py:45: SettingWithCopyWarning: \n",
      "A value is trying to be set on a copy of a slice from a DataFrame\n",
      "\n",
      "See the caveats in the documentation: https://pandas.pydata.org/pandas-docs/stable/user_guide/indexing.html#returning-a-view-versus-a-copy\n",
      "  Xme[o] = x\n",
      "gcmc.py:46: SettingWithCopyWarning: \n",
      "A value is trying to be set on a copy of a slice from a DataFrame\n",
      "\n",
      "See the caveats in the documentation: https://pandas.pydata.org/pandas-docs/stable/user_guide/indexing.html#returning-a-view-versus-a-copy\n",
      "  Yme[o] = y\n",
      "gcmc.py:47: SettingWithCopyWarning: \n",
      "A value is trying to be set on a copy of a slice from a DataFrame\n",
      "\n",
      "See the caveats in the documentation: https://pandas.pydata.org/pandas-docs/stable/user_guide/indexing.html#returning-a-view-versus-a-copy\n",
      "  Zme[o] = z\n"
     ]
    },
    {
     "name": "stdout",
     "output_type": "stream",
     "text": [
      "30 0.7698893709397712 92.90902625486703 0.002498298104 0.000746711112 1806.71813082695\n",
      "Co:\t 20.0 bar\tMe:\t 20.0 bar\n",
      "31 0.7688639986670269 91.3022520107227 0.002428740952 0.00073012844 1804.0028312206268\n",
      "Co:\t 20.0 bar\tMe:\t 20.0 bar\n",
      "32 0.7682306453801651 91.47001920970736 0.002426231408 0.0007319756 1775.644118309021\n",
      "Co:\t 20.0 bar\tMe:\t 20.0 bar\n",
      "33 0.7729083200857783 92.7596004410883 0.0025017407280000003 0.0007350477280000001 1836.923897266388\n",
      "Co:\t 20.0 bar\tMe:\t 20.0 bar\n",
      "34 0.7713145331686465 93.97707226111004 0.0025069662399999997 0.000743285288 1811.4500486850739\n",
      "Co:\t 20.0 bar\tMe:\t 20.0 bar\n",
      "35 0.7711406396693377 91.60166409147534 0.0024406888479999995 0.0007243484 1786.6924269199371\n",
      "Co:\t 20.0 bar\tMe:\t 20.0 bar\n",
      "36 0.772257631424409 93.06278784035777 0.00252896676 0.0007458040639999998 1832.0126428604126\n",
      "Co:\t 20.0 bar\tMe:\t 20.0 bar\n",
      "37 0.7697893813747344 91.78061026598428 0.0024388595519999998 0.00072935712 1794.584056854248\n",
      "Co:\t 20.0 bar\tMe:\t 20.0 bar\n",
      "38 0.7742744615814307 91.96477201090008 0.002489216608 0.0007256855120000001 1797.5530154705048\n",
      "Co:\t 20.0 bar\tMe:\t 20.0 bar\n",
      "39 0.7742025504135648 92.70624943452054 0.00248907516 0.0007259428719999999 1821.6783592700958\n",
      "Co:\t 20.0 bar\tMe:\t 20.0 bar\n",
      "40 0.7685171456362808 91.35353793483122 0.00245583344 0.000739714576 1813.1818504333496\n",
      "Co:\t 20.0 bar\tMe:\t 20.0 bar\n",
      "41 0.7688504445643161 92.64715060770654 0.0024609505760000002 0.000739867728 1786.6186137199402\n",
      "Co:\t 20.0 bar\tMe:\t 20.0 bar\n",
      "42 0.7732986330354611 91.78317749375053 0.002482535616 0.0007277838 1803.7324583530426\n",
      "Co:\t 20.0 bar\tMe:\t 20.0 bar\n",
      "43 0.7730214860710878 92.75615808740888 0.002506072536 0.000735845808 1827.624503850937\n",
      "Co:\t 20.0 bar\tMe:\t 20.0 bar\n",
      "44 0.7673236436814699 92.45150446623141 0.002465002608 0.0007474653360000001 1804.9537632465363\n",
      "Co:\t 20.0 bar\tMe:\t 20.0 bar\n",
      "45 0.7725578913758866 91.6581304853996 0.002477134592 0.00072927184 1771.807743549347\n",
      "Co:\t 20.0 bar\tMe:\t 20.0 bar\n",
      "46 0.7717102498027321 92.8721754352617 0.0024783016399999996 0.000733138976 1796.3244698047638\n",
      "Co:\t 20.0 bar\tMe:\t 20.0 bar\n",
      "47 0.773029764380932 93.43991123338947 0.002487600592 0.00073038752 1817.1033329963684\n",
      "Co:\t 20.0 bar\tMe:\t 20.0 bar\n",
      "48 0.7712475677265274 93.43580783888898 0.0025121738 0.0007451120640000001 1827.7782173156738\n",
      "Co:\t 20.0 bar\tMe:\t 20.0 bar\n",
      "49 0.7741936525917305 93.11312022083257 0.002523171424 0.0007359245599999999 1825.8755662441254\n",
      "Co:\t 20.0 bar\tMe:\t 20.0 bar\n",
      "50 0.7742504128488624 91.42412972555042 0.0025006116160000004 0.0007291078319999999 1833.2029919624329\n",
      "Co:\t 20.0 bar\tMe:\t 20.0 bar\n",
      "51 0.771814606052943 92.82700395284719 0.0025069594000000006 0.000741177368 1817.73548579216\n",
      "Co:\t 20.0 bar\tMe:\t 20.0 bar\n",
      "52 0.7713727092502236 92.82421893377987 0.002463495792 0.000730155944 1788.9434213638306\n",
      "Co:\t 20.0 bar\tMe:\t 20.0 bar\n",
      "53 0.7772021419403702 92.4825767239649 0.002526597608 0.000724291024 1816.6665987968445\n",
      "Co:\t 20.0 bar\tMe:\t 20.0 bar\n",
      "54 0.7734033650612198 92.16990427982518 0.00250805832 0.000734826872 1815.3687374591827\n",
      "Co:\t 20.0 bar\tMe:\t 20.0 bar\n",
      "55 0.7732376088872922 93.39543718185774 0.002485862728 0.00072901288 1800.8516190052032\n",
      "Co:\t 20.0 bar\tMe:\t 20.0 bar\n"
     ]
    }
   ],
   "source": [
    "filename = \"ex1_08.csv\"\n",
    "data_dump = pd.read_csv(filename).copy()\n",
    "\n",
    "for i in range(data_dump.shape[0]):\n",
    "    if np.isnan( data_dump.ycf[i]):\n",
    "        yco = data_dump.yc0[i]\n",
    "        P_res = data_dump.P0[i]*10**5 #[Pa]\n",
    "        T = 45 + 273.15 #K\n",
    "        fco, fme = PR_Fugacity( P_res/10**5, T, yco )\n",
    "        fco = fco*10**5\n",
    "        fme = fme*10**5\n",
    "\n",
    "        print( \"Co:\\t\", round( fme/10**5, 1 ), \"bar\\tMe:\\t\", round( fme/10**5, 1 ), \"bar\")\n",
    "\n",
    "        s_box = 50\n",
    "        N_max = 50000\n",
    "        Vol = s_box**3\n",
    "        kb = 1.3806*10**(7) #[Pa*A^3/K]\n",
    "        Nco = floor(fco*Vol/kb/T)\n",
    "        Nme = floor(fme*Vol/kb/T)\n",
    "        Nc = 0\n",
    "        rc = s_box\n",
    "        beta = 1/T\n",
    "        zz_co = beta*fco\n",
    "        zz_me = beta*fme\n",
    "        delta = 1\n",
    "        pi_move = 0.5\n",
    "\n",
    "        N_moves = 1000\n",
    "        N_equil = 1000\n",
    "        N_prod = 1000\n",
    "\n",
    "        t0 = time()\n",
    "        rhocov,rhomev,Env,Pv,Ncov, Nmev = mc_run()\n",
    "        t = time()\n",
    "        \n",
    "        Nco = Ncov.mean()\n",
    "        Nme = Nmev.mean()\n",
    "        data_dump.ycf[i] = Nco/(Nco + Nme)\n",
    "        data_dump.Pf[i] = Pv.mean()*10 #[bar]\n",
    "        data_dump.rhoco[i] = rhocov.mean()\n",
    "        data_dump.rhome[i] = rhomev.mean()\n",
    "        data_dump.ycf_s[i] = (rhocov/(rhocov + rhomev)).std()\n",
    "        data_dump.Pf_s[i] = Pv.std()*10 #[bar]\n",
    "        data_dump.rhoco_s[i] = rhocov.std()\n",
    "        data_dump.rhome_s[i] = rhomev.std()\n",
    "        data_dump.t_comp[i] = t - t0\n",
    "        print( i, data_dump.ycf[i],  data_dump.Pf[i], data_dump.rhoco[i], data_dump.rhome[i], data_dump.t_comp[i] )\n",
    "        #filename = \"../data_output/yco\" + str(yco) + \"P\" + str(P) + \"/run\" + str(i) + \".csv\"\n",
    "        data_dump.to_csv( filename, index = False)"
   ]
  },
  {
   "cell_type": "code",
   "execution_count": null,
   "metadata": {},
   "outputs": [],
   "source": []
  }
 ],
 "metadata": {
  "kernelspec": {
   "display_name": "Python 3.7.3",
   "language": "python",
   "name": "python3"
  },
  "language_info": {
   "codemirror_mode": {
    "name": "ipython",
    "version": 3
   },
   "file_extension": ".py",
   "mimetype": "text/x-python",
   "name": "python",
   "nbconvert_exporter": "python",
   "pygments_lexer": "ipython3",
   "version": "3.7.3"
  }
 },
 "nbformat": 4,
 "nbformat_minor": 4
}
