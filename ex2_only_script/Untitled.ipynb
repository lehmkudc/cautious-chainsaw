{
 "cells": [
  {
   "cell_type": "code",
   "execution_count": 2,
   "id": "8f679267-1606-4aa7-b4b3-a4ca4f3a64c3",
   "metadata": {},
   "outputs": [
    {
     "data": {
      "text/html": [
       "'/data/home/dustin.lehmkuhl/grand_canonical_adsorption/only_script'"
      ],
      "text/latex": [
       "'/data/home/dustin.lehmkuhl/grand\\_canonical\\_adsorption/only\\_script'"
      ],
      "text/markdown": [
       "'/data/home/dustin.lehmkuhl/grand_canonical_adsorption/only_script'"
      ],
      "text/plain": [
       "[1] \"/data/home/dustin.lehmkuhl/grand_canonical_adsorption/only_script\""
      ]
     },
     "metadata": {},
     "output_type": "display_data"
    }
   ],
   "source": [
    "getwd()"
   ]
  },
  {
   "cell_type": "code",
   "execution_count": 1,
   "id": "209febe2-c5e0-4f24-bf19-b540716d6919",
   "metadata": {},
   "outputs": [
    {
     "data": {
      "text/html": [],
      "text/latex": [],
      "text/markdown": [],
      "text/plain": [
       "character(0)"
      ]
     },
     "metadata": {},
     "output_type": "display_data"
    }
   ],
   "source": [
    "ls()"
   ]
  },
  {
   "cell_type": "code",
   "execution_count": null,
   "id": "df04679e-c295-42ca-8b35-bf34923edbdc",
   "metadata": {},
   "outputs": [],
   "source": []
  },
  {
   "cell_type": "code",
   "execution_count": 3,
   "id": "e4a234db-04aa-4c18-aa1a-38e3a242f41a",
   "metadata": {},
   "outputs": [
    {
     "name": "stderr",
     "output_type": "stream",
     "text": [
      "Installing package into ‘/data/home/dustin.lehmkuhl/R/4.0.1’\n",
      "(as ‘lib’ is unspecified)\n",
      "\n",
      "also installing the dependencies ‘selectr’, ‘modelr’, ‘reprex’, ‘rvest’\n",
      "\n",
      "\n"
     ]
    }
   ],
   "source": [
    "install.packages('tidyverse')"
   ]
  },
  {
   "cell_type": "code",
   "execution_count": null,
   "id": "b6eb4d78-3f43-4559-8e50-d8f45f8fac14",
   "metadata": {},
   "outputs": [],
   "source": []
  }
 ],
 "metadata": {
  "kernelspec": {
   "display_name": "R 4.0.1 (06/21/2020 packages)",
   "language": "R",
   "name": "ir_4.0.x"
  },
  "language_info": {
   "codemirror_mode": "r",
   "file_extension": ".r",
   "mimetype": "text/x-r-source",
   "name": "R",
   "pygments_lexer": "r",
   "version": "4.0.1"
  }
 },
 "nbformat": 4,
 "nbformat_minor": 5
}
